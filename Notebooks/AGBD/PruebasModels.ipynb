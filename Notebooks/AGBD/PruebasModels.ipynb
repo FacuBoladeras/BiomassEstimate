{
 "cells": [
  {
   "cell_type": "code",
   "execution_count": 1,
   "metadata": {},
   "outputs": [],
   "source": [
    "import ee\n",
    "import geemap\n",
    "from geemap import ml\n",
    "from sklearn import ensemble\n",
    "import pandas as pd\n",
    "from sklearn.model_selection import train_test_split\n",
    "from sklearn.ensemble import RandomForestRegressor\n",
    "from sklearn.metrics import mean_squared_error\n",
    "\n",
    "\n",
    "# Inicializa la autenticación y la inicialización de Google Earth Engine\n",
    "ee.Authenticate()\n",
    "ee.Initialize(project='ee-facuboladerasgee')"
   ]
  },
  {
   "cell_type": "code",
   "execution_count": 2,
   "metadata": {},
   "outputs": [
    {
     "data": {
      "text/html": [
       "\n",
       "            <style>\n",
       "                .geemap-dark {\n",
       "                    --jp-widgets-color: white;\n",
       "                    --jp-widgets-label-color: white;\n",
       "                    --jp-ui-font-color1: white;\n",
       "                    --jp-layout-color2: #454545;\n",
       "                    background-color: #383838;\n",
       "                }\n",
       "\n",
       "                .geemap-dark .jupyter-button {\n",
       "                    --jp-layout-color3: #383838;\n",
       "                }\n",
       "\n",
       "                .geemap-colab {\n",
       "                    background-color: var(--colab-primary-surface-color, white);\n",
       "                }\n",
       "\n",
       "                .geemap-colab .jupyter-button {\n",
       "                    --jp-layout-color3: var(--colab-primary-surface-color, white);\n",
       "                }\n",
       "            </style>\n",
       "            "
      ],
      "text/plain": [
       "<IPython.core.display.HTML object>"
      ]
     },
     "metadata": {},
     "output_type": "display_data"
    }
   ],
   "source": [
    "# Definir la región de interés\n",
    "roi = ee.FeatureCollection('projects/ee-facuboladerasgee/assets/Malambique_test')\n",
    "# Centrar el mapa en la región de interés\n",
    "Map = geemap.Map(center=[0, 0], zoom=2)\n",
    "Map.add_basemap('SATELLITE')\n",
    "Map.centerObject(roi)"
   ]
  },
  {
   "cell_type": "code",
   "execution_count": 3,
   "metadata": {},
   "outputs": [
    {
     "data": {
      "text/html": [
       "\n",
       "            <style>\n",
       "                .geemap-dark {\n",
       "                    --jp-widgets-color: white;\n",
       "                    --jp-widgets-label-color: white;\n",
       "                    --jp-ui-font-color1: white;\n",
       "                    --jp-layout-color2: #454545;\n",
       "                    background-color: #383838;\n",
       "                }\n",
       "\n",
       "                .geemap-dark .jupyter-button {\n",
       "                    --jp-layout-color3: #383838;\n",
       "                }\n",
       "\n",
       "                .geemap-colab {\n",
       "                    background-color: var(--colab-primary-surface-color, white);\n",
       "                }\n",
       "\n",
       "                .geemap-colab .jupyter-button {\n",
       "                    --jp-layout-color3: var(--colab-primary-surface-color, white);\n",
       "                }\n",
       "            </style>\n",
       "            "
      ],
      "text/plain": [
       "<IPython.core.display.HTML object>"
      ]
     },
     "metadata": {},
     "output_type": "display_data"
    }
   ],
   "source": [
    "roi_feature = ee.FeatureCollection(roi).first()\n",
    "roi_geometry = roi_feature.geometry()\n",
    "roi_coordinates = roi_geometry.coordinates().getInfo()\n",
    "\n",
    "\n",
    "# Guardar las coordenadas en una variable\n",
    "roi_coords = roi_coordinates\n",
    "ee_roi =  ee.Geometry.Polygon(roi_coords) "
   ]
  },
  {
   "cell_type": "code",
   "execution_count": 4,
   "metadata": {},
   "outputs": [
    {
     "data": {
      "text/html": [
       "\n",
       "            <style>\n",
       "                .geemap-dark {\n",
       "                    --jp-widgets-color: white;\n",
       "                    --jp-widgets-label-color: white;\n",
       "                    --jp-ui-font-color1: white;\n",
       "                    --jp-layout-color2: #454545;\n",
       "                    background-color: #383838;\n",
       "                }\n",
       "\n",
       "                .geemap-dark .jupyter-button {\n",
       "                    --jp-layout-color3: #383838;\n",
       "                }\n",
       "\n",
       "                .geemap-colab {\n",
       "                    background-color: var(--colab-primary-surface-color, white);\n",
       "                }\n",
       "\n",
       "                .geemap-colab .jupyter-button {\n",
       "                    --jp-layout-color3: var(--colab-primary-surface-color, white);\n",
       "                }\n",
       "            </style>\n",
       "            "
      ],
      "text/plain": [
       "<IPython.core.display.HTML object>"
      ]
     },
     "metadata": {},
     "output_type": "display_data"
    }
   ],
   "source": [
    "# Definir el año de análisis\n",
    "year = 2020\n",
    "\n",
    "# Definir la fecha de inicio y fin para filtrar la colección\n",
    "start = f'{year}-01-01'\n",
    "end = f'{year}-12-31'"
   ]
  },
  {
   "cell_type": "code",
   "execution_count": 5,
   "metadata": {},
   "outputs": [
    {
     "data": {
      "text/html": [
       "\n",
       "            <style>\n",
       "                .geemap-dark {\n",
       "                    --jp-widgets-color: white;\n",
       "                    --jp-widgets-label-color: white;\n",
       "                    --jp-ui-font-color1: white;\n",
       "                    --jp-layout-color2: #454545;\n",
       "                    background-color: #383838;\n",
       "                }\n",
       "\n",
       "                .geemap-dark .jupyter-button {\n",
       "                    --jp-layout-color3: #383838;\n",
       "                }\n",
       "\n",
       "                .geemap-colab {\n",
       "                    background-color: var(--colab-primary-surface-color, white);\n",
       "                }\n",
       "\n",
       "                .geemap-colab .jupyter-button {\n",
       "                    --jp-layout-color3: var(--colab-primary-surface-color, white);\n",
       "                }\n",
       "            </style>\n",
       "            "
      ],
      "text/plain": [
       "<IPython.core.display.HTML object>"
      ]
     },
     "metadata": {},
     "output_type": "display_data"
    }
   ],
   "source": [
    "l7_col = ee.ImageCollection('LANDSAT/LE07/C02/T1_L2') \\\n",
    "    .filterBounds(roi) \\\n",
    "    .filterDate(start, end) \\\n",
    "    .filter(ee.Filter.lt('CLOUD_COVER', 10))\n",
    "\n",
    "def mask_clouds_landsat(image):\n",
    "    \n",
    "    qa = image.select('QA_PIXEL')\n",
    "    cloud_shadow_bit_mask = ee.Number(2).pow(3).int()\n",
    "    clouds_bit_mask = ee.Number(2).pow(5).int()\n",
    "\n",
    "    mask = qa.bitwiseAnd(cloud_shadow_bit_mask).eq(0) \\\n",
    "        .And(qa.bitwiseAnd(clouds_bit_mask).eq(0))\n",
    "\n",
    "    return image.updateMask(mask)\n",
    "\n",
    "l7_masked = l7_col.map(mask_clouds_landsat)\n",
    "image = l7_masked.median().toFloat().clip(roi)\n",
    "\n",
    "ndvi = image.normalizedDifference(['SR_B4', 'SR_B3']).rename('NDVI')\n",
    "mndwi = image.normalizedDifference(['SR_B2', 'SR_B5']).rename('MNDWI')\n",
    "ndbi = image.normalizedDifference(['SR_B5', 'SR_B4']).rename('NDBI')\n",
    "\n",
    "evi = image.expression(\n",
    "    '2.5 * ((NIR - RED) / (NIR + 6 * RED - 7.5 * BLUE + 1))',\n",
    "    {\n",
    "        'NIR': image.select('SR_B4'),\n",
    "        'RED': image.select('SR_B3'),\n",
    "        'BLUE': image.select('SR_B1')\n",
    "    }\n",
    ").rename('EVI')\n",
    "\n",
    "savi = image.expression(\n",
    "    '((NIR - RED) / (NIR + RED + 0.5)) * 1.5',\n",
    "    {\n",
    "        'NIR': image.select('SR_B4'),\n",
    "        'RED': image.select('SR_B3')\n",
    "    }\n",
    ").rename('SAVI')\n",
    "\n",
    "image = image.addBands([ndvi, mndwi, ndbi, evi, savi])\n",
    "\n",
    "# Estimación de FAPAR (función aproximada)\n",
    "fapar = ndvi.expression(\n",
    "    '0.95 * NDVI', {\n",
    "        'NDVI': ndvi\n",
    "    }\n",
    ").rename('FAPAR')\n",
    "\n",
    "# Estimación de FVC (Fracción de Cobertura Vegetal)\n",
    "fvc = ndvi.expression(\n",
    "    '((NDVI - NDVI_min) / (NDVI_max - NDVI_min))', {\n",
    "        'NDVI': ndvi,\n",
    "        'NDVI_min': 0.2,  # Ajusta según la región de estudio\n",
    "        'NDVI_max': 0.8   # Ajusta según la región de estudio\n",
    "    }\n",
    ").rename('FVC')\n",
    "\n",
    "# Estimación de LAI (Índice de Área Foliar)\n",
    "lai = ndvi.expression(\n",
    "    '-log((1 - FVC) / 0.5)', {\n",
    "        'FVC': fvc\n",
    "    }\n",
    ").rename('LAI')\n",
    "\n",
    "\n",
    "# Agregar FAPAR, FVC y LAI a las bandas del conjunto de datos\n",
    "image = image.addBands([fapar, fvc, lai])\n",
    "\n",
    "dw_col = ee.ImageCollection('GOOGLE/DYNAMICWORLD/V1') \\\n",
    "    .filterBounds(roi) \\\n",
    "    .filterDate(start, end)\n",
    "\n",
    "dem = ee.Image('USGS/SRTMGL1_003').select('elevation').clip(roi)\n",
    "slope = ee.Terrain.slope(dem).rename('slope').clip(roi)\n",
    "aspect = ee.Terrain.aspect(dem).rename('aspect').clip(roi)\n",
    "\n",
    "image = image.addBands(dem.rename('elevation'))\n",
    "image = image.addBands(slope)\n",
    "image = image.addBands(aspect)\n",
    "\n",
    "import math\n",
    "\n",
    "def terrain_correction_palsar(image, roi, angle_image):\n",
    "    # Usar la ROI para recortar el SRTM\n",
    "    srtm = ee.Image('USGS/SRTMGL1_003').clip(roi)\n",
    "    \n",
    "    # Convertir la imagen a dB usando la fórmula γ₀ = 10 log₁₀(DN²) - 83.0 dB\n",
    "\n",
    "    dn_squared = image.pow(2)   \n",
    "    backscatter = ee.Image.constant(10).multiply(dn_squared.log10()).subtract(83.0)\n",
    "    theta_i = angle_image  \n",
    "    \n",
    "    # Obtener el aspecto promedio de la región de interés\n",
    "    phi_i = ee.Terrain.aspect(theta_i).reduceRegion(\n",
    "        reducer=ee.Reducer.mean(),\n",
    "        geometry=roi,  # Usar la ROI\n",
    "        scale=1000\n",
    "    ).get('aspect')\n",
    "    \n",
    "    # Convertir phi_i a una imagen constante\n",
    "    phi_i_image = ee.Image.constant(phi_i)\n",
    "    \n",
    "    # Geometría del terreno\n",
    "    alpha_s = ee.Terrain.slope(srtm).select('slope')\n",
    "    phi_s = ee.Terrain.aspect(srtm).select('aspect')\n",
    "    \n",
    "    # Geometría del modelo\n",
    "    phi_r = phi_i_image.subtract(phi_s)\n",
    "    \n",
    "    # Convertir todo a radianes\n",
    "    phi_r_rad = phi_r.multiply(math.pi / 180)\n",
    "    alpha_s_rad = alpha_s.multiply(math.pi / 180)\n",
    "    theta_i_rad = theta_i.multiply(math.pi / 180)\n",
    "    ninety_rad = ee.Image.constant(90).multiply(math.pi / 180)\n",
    "\n",
    "    # Pendiente en el rango\n",
    "    alpha_r = (alpha_s_rad.tan().multiply(phi_r_rad.cos())).atan()\n",
    "\n",
    "    # Pendiente en acimut\n",
    "    alpha_az = (alpha_s_rad.tan().multiply(phi_r_rad.sin())).atan()\n",
    "\n",
    "    # Ángulo de incidencia local\n",
    "    theta_lia = (alpha_az.cos().multiply((theta_i_rad.subtract(alpha_r)).cos())).acos()\n",
    "    theta_lia_deg = theta_lia.multiply(180 / math.pi)\n",
    "\n",
    "    # Gamma_nought_flat usando la fórmula ajustada\n",
    "    gamma0 = backscatter.divide(theta_i_rad.cos())\n",
    "    gamma0_dB = gamma0.rename('gamma0_dB')\n",
    "\n",
    "    # Modelo volumétrico\n",
    "    nominator = (ninety_rad.subtract(theta_i_rad).add(alpha_r)).tan()\n",
    "    denominator = (ninety_rad.subtract(theta_i_rad)).tan()\n",
    "    vol_model = (nominator.divide(denominator)).abs()\n",
    "\n",
    "    # Aplicar el modelo\n",
    "    gamma0_volume = gamma0.divide(vol_model)\n",
    "    gamma0_volume_dB = gamma0_volume.rename('gamma0_volume_dB')\n",
    "\n",
    "    return gamma0_dB\n",
    "\n",
    "\n",
    "def preprocess(image, roi, angle_image):\n",
    "    image = terrain_correction_palsar(image, roi, angle_image)\n",
    "    speckle_filtered = image.focal_median(kernelType='circle', radius=50, units='meters')\n",
    "    return speckle_filtered\n",
    "\n",
    "\n",
    "angle = (\n",
    "    ee.ImageCollection('JAXA/ALOS/PALSAR/YEARLY/SAR_EPOCH')\n",
    "    .filterBounds(roi)\n",
    "    .filterDate(start, end)\n",
    "    .select('angle')  \n",
    "    .median() \n",
    ")\n",
    "\n",
    "img_hh = (\n",
    "    ee.ImageCollection('JAXA/ALOS/PALSAR/YEARLY/SAR_EPOCH')\n",
    "    .filterBounds(roi)\n",
    "    .filterDate(start, end)\n",
    "    .select('HH')  # Seleccionar solo HH\n",
    "    .map(lambda img: preprocess(img, roi, angle))  # Pasar roi y angle_image al preprocesamiento\n",
    ")\n",
    "\n",
    "img_hv = (\n",
    "    ee.ImageCollection('JAXA/ALOS/PALSAR/YEARLY/SAR_EPOCH')\n",
    "    .filterBounds(roi)\n",
    "    .filterDate(start, end)\n",
    "    .select('HV')  # Seleccionar solo HV\n",
    "    .map(lambda img: preprocess(img, roi, angle))  # Pasar roi y angle_image al preprocesamiento\n",
    ")\n",
    "\n",
    "palsar_hh_median = img_hh.median().rename('HH_dB')\n",
    "palsar_hv_median = img_hv.median().rename('HV_dB')\n",
    "\n",
    "hh_plus_hv = palsar_hh_median.add(palsar_hv_median).rename('HH_plus_HV')\n",
    "hh_minus_hv = palsar_hh_median.subtract(palsar_hv_median).rename('HH_minus_HV')\n",
    "hh_div_hv = palsar_hh_median.divide(palsar_hv_median).rename('HH_div_HV')\n",
    "rvi = palsar_hv_median.divide(palsar_hh_median.add(palsar_hv_median)).multiply(4).rename('RVI_palsar')\n",
    "\n",
    "palsar_combined = ee.Image.cat([palsar_hh_median, palsar_hv_median, hh_plus_hv, hh_minus_hv, hh_div_hv, rvi]).clip(roi)\n",
    "image = image.addBands(palsar_combined)\n"
   ]
  },
  {
   "cell_type": "code",
   "execution_count": 6,
   "metadata": {},
   "outputs": [
    {
     "data": {
      "text/html": [
       "\n",
       "            <style>\n",
       "                .geemap-dark {\n",
       "                    --jp-widgets-color: white;\n",
       "                    --jp-widgets-label-color: white;\n",
       "                    --jp-ui-font-color1: white;\n",
       "                    --jp-layout-color2: #454545;\n",
       "                    background-color: #383838;\n",
       "                }\n",
       "\n",
       "                .geemap-dark .jupyter-button {\n",
       "                    --jp-layout-color3: #383838;\n",
       "                }\n",
       "\n",
       "                .geemap-colab {\n",
       "                    background-color: var(--colab-primary-surface-color, white);\n",
       "                }\n",
       "\n",
       "                .geemap-colab .jupyter-button {\n",
       "                    --jp-layout-color3: var(--colab-primary-surface-color, white);\n",
       "                }\n",
       "            </style>\n",
       "            "
      ],
      "text/plain": [
       "<IPython.core.display.HTML object>"
      ]
     },
     "metadata": {},
     "output_type": "display_data"
    }
   ],
   "source": [
    "def calculate_texture_metrics(image, band_name, roi, size=5):\n",
    "    # Convertir la banda a tipo int32 (no se realiza normalización adicional)\n",
    "    band_int = image.select(band_name).toInt32().clip(roi)\n",
    "    \n",
    "    # Calcular texturas usando la banda convertida a int32\n",
    "    glcm = band_int.glcmTexture(size=size)\n",
    "     \n",
    "    contrast = glcm.select(f'{band_name}_contrast').rename(f'{band_name}_Contrast')\n",
    "    correlation = glcm.select(f'{band_name}_corr').rename(f'{band_name}_Correlation')\n",
    "    entropy = glcm.select(f'{band_name}_ent').rename(f'{band_name}_Entropy')\n",
    "    inertia = glcm.select(f'{band_name}_inertia').rename(f'{band_name}_Inertia')\n",
    "    \n",
    "    # Agregar las bandas de textura a la imagen original\n",
    "    return image.addBands([contrast, correlation, entropy, inertia])\n",
    "image = calculate_texture_metrics(image, 'HH_dB', roi)\n",
    "image = calculate_texture_metrics(image, 'HV_dB', roi)\n",
    "\n",
    "bands =  ['EVI', 'HH_dB', 'HH_div_HV', 'HH_minus_HV', 'HH_plus_HV', 'HV_dB', 'MNDWI', 'NDBI', 'NDVI', 'RVI_palsar', 'SAVI', 'SR_B1', 'SR_B2', 'SR_B3', 'SR_B4', 'SR_B5',  'aspect', 'elevation', 'slope']\n",
    "\n",
    "image = image.select(bands)\n",
    "\n",
    "optico = ['EVI', 'FAPAR', 'FVC', 'LAI', 'MNDWI', 'NDBI', 'NDVI', 'SAVI', 'SR_B1', 'SR_B2', 'SR_B3', 'SR_B4', 'SR_B5',  'aspect', 'elevation', 'slope']\n",
    "image2 = image.select(optico)\n",
    "\n",
    "radar = ['HH_dB', 'HH_div_HV', 'HH_minus_HV', 'HH_plus_HV', 'HV_dB', 'RVI_palsar',  'aspect', 'elevation', 'slope']\n",
    "image3 = image.select(radar)"
   ]
  },
  {
   "cell_type": "code",
   "execution_count": 7,
   "metadata": {},
   "outputs": [
    {
     "data": {
      "text/html": [
       "\n",
       "            <style>\n",
       "                .geemap-dark {\n",
       "                    --jp-widgets-color: white;\n",
       "                    --jp-widgets-label-color: white;\n",
       "                    --jp-ui-font-color1: white;\n",
       "                    --jp-layout-color2: #454545;\n",
       "                    background-color: #383838;\n",
       "                }\n",
       "\n",
       "                .geemap-dark .jupyter-button {\n",
       "                    --jp-layout-color3: #383838;\n",
       "                }\n",
       "\n",
       "                .geemap-colab {\n",
       "                    background-color: var(--colab-primary-surface-color, white);\n",
       "                }\n",
       "\n",
       "                .geemap-colab .jupyter-button {\n",
       "                    --jp-layout-color3: var(--colab-primary-surface-color, white);\n",
       "                }\n",
       "            </style>\n",
       "            "
      ],
      "text/plain": [
       "<IPython.core.display.HTML object>"
      ]
     },
     "metadata": {},
     "output_type": "display_data"
    }
   ],
   "source": [
    "feature_names =  ['EVI', 'HH_dB', 'HH_div_HV', 'HH_minus_HV', 'HH_plus_HV', 'HV_dB', 'MNDWI', 'NDBI', 'NDVI', 'RVI_palsar', 'SAVI', 'SR_B1', 'SR_B2', 'SR_B3', 'SR_B4', 'SR_B5',  'aspect', 'elevation', 'slope']\n",
    "\n",
    "label = \"agbd\"\n",
    "\n",
    "user_id = 'users/facuboladerasgee'\n",
    "# specify asset id where to save trees\n",
    "# be sure to change  to your ee user name\n",
    "asset_id = user_id + \"/Rf_Completo\"\n",
    "asset_id\n",
    "\n",
    "# read the exported tree feature collection\n",
    "rf_fc = ee.FeatureCollection(asset_id)\n",
    "\n",
    "# convert it to a classifier, very similar to the `ml.trees_to_classifier` function\n",
    "another_classifier = ml.fc_to_classifier(rf_fc)\n",
    "\n",
    "# classify the image again but with the classifier from the persisted trees\n",
    "classified = image.select(feature_names).classify(another_classifier)"
   ]
  },
  {
   "cell_type": "code",
   "execution_count": 8,
   "metadata": {},
   "outputs": [
    {
     "data": {
      "text/html": [
       "\n",
       "            <style>\n",
       "                .geemap-dark {\n",
       "                    --jp-widgets-color: white;\n",
       "                    --jp-widgets-label-color: white;\n",
       "                    --jp-ui-font-color1: white;\n",
       "                    --jp-layout-color2: #454545;\n",
       "                    background-color: #383838;\n",
       "                }\n",
       "\n",
       "                .geemap-dark .jupyter-button {\n",
       "                    --jp-layout-color3: #383838;\n",
       "                }\n",
       "\n",
       "                .geemap-colab {\n",
       "                    background-color: var(--colab-primary-surface-color, white);\n",
       "                }\n",
       "\n",
       "                .geemap-colab .jupyter-button {\n",
       "                    --jp-layout-color3: var(--colab-primary-surface-color, white);\n",
       "                }\n",
       "            </style>\n",
       "            "
      ],
      "text/plain": [
       "<IPython.core.display.HTML object>"
      ]
     },
     "metadata": {},
     "output_type": "display_data"
    }
   ],
   "source": [
    "# feature_names =  ['EVI', 'FAPAR', 'FVC', 'LAI', 'MNDWI', 'NDBI', 'NDVI', 'SAVI', 'SR_B1', 'SR_B2', 'SR_B3', 'SR_B4', 'SR_B5', 'aspect', 'elevation', 'slope']\n",
    "\n",
    "# label = \"agbd\"\n",
    "\n",
    "# user_id = 'users/facuboladerasgee'\n",
    "# # specify asset id where to save trees\n",
    "# # be sure to change  to your ee user name\n",
    "# asset_id = user_id + \"/Rf_optico\"\n",
    "# asset_id\n",
    "\n",
    "# # read the exported tree feature collection\n",
    "# rf_fc = ee.FeatureCollection(asset_id)\n",
    "\n",
    "# # convert it to a classifier, very similar to the `ml.trees_to_classifier` function\n",
    "# another_classifier = ml.fc_to_classifier(rf_fc)\n",
    "\n",
    "# # classify the image again but with the classifier from the persisted trees\n",
    "# classified2 = image2.select(feature_names).classify(another_classifier)"
   ]
  },
  {
   "cell_type": "code",
   "execution_count": 9,
   "metadata": {},
   "outputs": [
    {
     "data": {
      "text/html": [
       "\n",
       "            <style>\n",
       "                .geemap-dark {\n",
       "                    --jp-widgets-color: white;\n",
       "                    --jp-widgets-label-color: white;\n",
       "                    --jp-ui-font-color1: white;\n",
       "                    --jp-layout-color2: #454545;\n",
       "                    background-color: #383838;\n",
       "                }\n",
       "\n",
       "                .geemap-dark .jupyter-button {\n",
       "                    --jp-layout-color3: #383838;\n",
       "                }\n",
       "\n",
       "                .geemap-colab {\n",
       "                    background-color: var(--colab-primary-surface-color, white);\n",
       "                }\n",
       "\n",
       "                .geemap-colab .jupyter-button {\n",
       "                    --jp-layout-color3: var(--colab-primary-surface-color, white);\n",
       "                }\n",
       "            </style>\n",
       "            "
      ],
      "text/plain": [
       "<IPython.core.display.HTML object>"
      ]
     },
     "metadata": {},
     "output_type": "display_data"
    }
   ],
   "source": [
    "feature_names =  ['HH_dB', 'HH_div_HV', 'HH_minus_HV', 'HH_plus_HV', 'HV_dB', 'RVI_palsar',  'aspect', 'elevation', 'slope']\n",
    "label = \"agbd\"\n",
    "\n",
    "user_id = 'users/facuboladerasgee'\n",
    "# specify asset id where to save trees\n",
    "# be sure to change  to your ee user name\n",
    "asset_id = user_id + \"/Rf_Radar\"\n",
    "asset_id\n",
    "\n",
    "# read the exported tree feature collection\n",
    "rf_fc = ee.FeatureCollection(asset_id)\n",
    "\n",
    "# convert it to a classifier, very similar to the `ml.trees_to_classifier` function\n",
    "another_classifier = ml.fc_to_classifier(rf_fc)\n",
    "\n",
    "# classify the image again but with the classifier from the persisted trees\n",
    "classified3 = image3.select(feature_names).classify(another_classifier)"
   ]
  },
  {
   "cell_type": "code",
   "execution_count": 10,
   "metadata": {},
   "outputs": [
    {
     "data": {
      "text/html": [
       "\n",
       "            <style>\n",
       "                .geemap-dark {\n",
       "                    --jp-widgets-color: white;\n",
       "                    --jp-widgets-label-color: white;\n",
       "                    --jp-ui-font-color1: white;\n",
       "                    --jp-layout-color2: #454545;\n",
       "                    background-color: #383838;\n",
       "                }\n",
       "\n",
       "                .geemap-dark .jupyter-button {\n",
       "                    --jp-layout-color3: #383838;\n",
       "                }\n",
       "\n",
       "                .geemap-colab {\n",
       "                    background-color: var(--colab-primary-surface-color, white);\n",
       "                }\n",
       "\n",
       "                .geemap-colab .jupyter-button {\n",
       "                    --jp-layout-color3: var(--colab-primary-surface-color, white);\n",
       "                }\n",
       "            </style>\n",
       "            "
      ],
      "text/plain": [
       "<IPython.core.display.HTML object>"
      ]
     },
     "metadata": {},
     "output_type": "display_data"
    }
   ],
   "source": [
    "# feature_names =  ['EVI', 'FAPAR', 'FVC', 'HH_dB', 'HH_dB_Contrast', 'HH_dB_Correlation', 'HH_dB_Entropy', 'HH_dB_Inertia', 'HH_div_HV', 'HH_minus_HV', 'HH_plus_HV', 'HV_dB', 'HV_dB_Contrast', 'HV_dB_Correlation', 'HV_dB_Entropy', 'HV_dB_Inertia', 'LAI', 'MNDWI', 'NDBI', 'NDVI', 'RVI_palsar', 'SAVI', 'SR_B1', 'SR_B2', 'SR_B3', 'SR_B4', 'SR_B5', 'aspect', 'elevation', 'slope']\n",
    "\n",
    "\n",
    "# label = \"agbd\"\n",
    "# user_id = 'users/facuboladerasgee'\n",
    "# def recombine_model_parts(user_id, base_asset_id, num_parts):\n",
    "#     parts = [ee.FeatureCollection(f\"{base_asset_id}_part_{i}\") for i in range(num_parts)]\n",
    "#     combined_fc = ee.FeatureCollection(parts[0])\n",
    "    \n",
    "#     for part in parts[1:]:\n",
    "#         combined_fc = combined_fc.merge(part)\n",
    "    \n",
    "#     return ml.fc_to_classifier(combined_fc)\n",
    "\n",
    "# # Ejemplo de uso:\n",
    "# num_parts = 2  # Ajusta este número según la cantidad de partes exportadas\n",
    "# base_asset_id = f\"{user_id}/Rf_Quantile\"\n",
    "# recombined_classifier = recombine_model_parts(user_id, base_asset_id, num_parts)\n",
    "\n",
    "# # Clasificar la imagen con el clasificador recombinado\n",
    "# classified = image.select(feature_names).classify(recombined_classifier)"
   ]
  },
  {
   "cell_type": "code",
   "execution_count": 11,
   "metadata": {},
   "outputs": [
    {
     "data": {
      "text/html": [
       "\n",
       "            <style>\n",
       "                .geemap-dark {\n",
       "                    --jp-widgets-color: white;\n",
       "                    --jp-widgets-label-color: white;\n",
       "                    --jp-ui-font-color1: white;\n",
       "                    --jp-layout-color2: #454545;\n",
       "                    background-color: #383838;\n",
       "                }\n",
       "\n",
       "                .geemap-dark .jupyter-button {\n",
       "                    --jp-layout-color3: #383838;\n",
       "                }\n",
       "\n",
       "                .geemap-colab {\n",
       "                    background-color: var(--colab-primary-surface-color, white);\n",
       "                }\n",
       "\n",
       "                .geemap-colab .jupyter-button {\n",
       "                    --jp-layout-color3: var(--colab-primary-surface-color, white);\n",
       "                }\n",
       "            </style>\n",
       "            "
      ],
      "text/plain": [
       "<IPython.core.display.HTML object>"
      ]
     },
     "metadata": {},
     "output_type": "display_data"
    }
   ],
   "source": [
    "# # Reducir la imagen clasificada a su valor máximo en la región de interés\n",
    "# max_value = classified.reduceRegion(\n",
    "#     reducer=ee.Reducer.max(),\n",
    "#     geometry=roi,\n",
    "#     scale=100,\n",
    "#     maxPixels=1e9\n",
    "# )\n",
    "\n",
    "# # Obtener el valor máximo de la reducción\n",
    "# max_agbd = max_value.get('classification').getInfo()\n",
    "# print(f\"Max value of the classified image: {max_agbd}\")"
   ]
  },
  {
   "cell_type": "code",
   "execution_count": 12,
   "metadata": {},
   "outputs": [
    {
     "data": {
      "text/html": [
       "\n",
       "            <style>\n",
       "                .geemap-dark {\n",
       "                    --jp-widgets-color: white;\n",
       "                    --jp-widgets-label-color: white;\n",
       "                    --jp-ui-font-color1: white;\n",
       "                    --jp-layout-color2: #454545;\n",
       "                    background-color: #383838;\n",
       "                }\n",
       "\n",
       "                .geemap-dark .jupyter-button {\n",
       "                    --jp-layout-color3: #383838;\n",
       "                }\n",
       "\n",
       "                .geemap-colab {\n",
       "                    background-color: var(--colab-primary-surface-color, white);\n",
       "                }\n",
       "\n",
       "                .geemap-colab .jupyter-button {\n",
       "                    --jp-layout-color3: var(--colab-primary-surface-color, white);\n",
       "                }\n",
       "            </style>\n",
       "            "
      ],
      "text/plain": [
       "<IPython.core.display.HTML object>"
      ]
     },
     "metadata": {},
     "output_type": "display_data"
    },
    {
     "data": {
      "application/vnd.jupyter.widget-view+json": {
       "model_id": "614014c7b61f4811a461444a0e12fead",
       "version_major": 2,
       "version_minor": 0
      },
      "text/plain": [
       "Map(center=[0, 0], controls=(WidgetControl(options=['position', 'transparent_bg'], widget=SearchDataGUI(childr…"
      ]
     },
     "execution_count": 12,
     "metadata": {},
     "output_type": "execute_result"
    }
   ],
   "source": [
    "# Centrar el mapa en la región de interés\n",
    "Map = geemap.Map(center=[0, 0], zoom=2)\n",
    "Map.centerObject(roi)\n",
    "\n",
    "visPredictedBiomass = {\n",
    "    'min': 0,\n",
    "    'max': 200,\n",
    "    'palette': ['lightyellow', 'lightgreen', 'green', 'darkgreen']\n",
    "}\n",
    "\n",
    "Map = geemap.Map(zoom=11)\n",
    "Map.add_basemap('SATELLITE')\n",
    "Map.centerObject(roi)\n",
    "\n",
    "Map.addLayer(\n",
    "    classified,\n",
    "    visPredictedBiomass,\n",
    "    \"classification\",)\n",
    "# Map.addLayer(\n",
    "#     classified2,\n",
    "#     visPredictedBiomass,\n",
    "#     \"classification2\",)\n",
    "Map.addLayer(\n",
    "    classified3,\n",
    "    visPredictedBiomass,\n",
    "    \"classification3\",)\n",
    "\n",
    "Map.add_colorbar(visPredictedBiomass, label=\"Predicted Biomass\")\n",
    "Map"
   ]
  },
  {
   "cell_type": "code",
   "execution_count": 14,
   "metadata": {},
   "outputs": [
    {
     "data": {
      "text/html": [
       "\n",
       "            <style>\n",
       "                .geemap-dark {\n",
       "                    --jp-widgets-color: white;\n",
       "                    --jp-widgets-label-color: white;\n",
       "                    --jp-ui-font-color1: white;\n",
       "                    --jp-layout-color2: #454545;\n",
       "                    background-color: #383838;\n",
       "                }\n",
       "\n",
       "                .geemap-dark .jupyter-button {\n",
       "                    --jp-layout-color3: #383838;\n",
       "                }\n",
       "\n",
       "                .geemap-colab {\n",
       "                    background-color: var(--colab-primary-surface-color, white);\n",
       "                }\n",
       "\n",
       "                .geemap-colab .jupyter-button {\n",
       "                    --jp-layout-color3: var(--colab-primary-surface-color, white);\n",
       "                }\n",
       "            </style>\n",
       "            "
      ],
      "text/plain": [
       "<IPython.core.display.HTML object>"
      ]
     },
     "metadata": {},
     "output_type": "display_data"
    },
    {
     "name": "stdout",
     "output_type": "stream",
     "text": [
      "Exportación iniciada. Revisa tu Google Drive en la carpeta 'EE_RF'.\n",
      "Exportación en progreso...\n",
      "Exportación en progreso...\n",
      "Exportación en progreso...\n",
      "Exportación en progreso...\n",
      "Exportación en progreso...\n",
      "Exportación en progreso...\n",
      "Exportación en progreso...\n",
      "Exportación en progreso...\n",
      "Exportación en progreso...\n",
      "Exportación en progreso...\n",
      "Exportación en progreso...\n",
      "Exportación en progreso...\n",
      "Exportación completada con éxito.\n"
     ]
    }
   ],
   "source": [
    "import time\n",
    "\n",
    "# Parámetros de exportación\n",
    "task = ee.batch.Export.image.toDrive(\n",
    "    image=classified,\n",
    "    description='malambique_completo',\n",
    "    folder='Estimators_sde',\n",
    "    region=ee_roi,\n",
    "    scale=100,\n",
    "    crs='EPSG:4326',  # CRS adecuado para Nepal\n",
    "    \n",
    "    \n",
    ")\n",
    "task.start()\n",
    "\n",
    "print(\"Exportación iniciada. Revisa tu Google Drive en la carpeta 'EE_RF'.\")\n",
    "\n",
    "# Esperar a que la tarea de exportación se complete (opcional)\n",
    "while task.active():\n",
    "    print('Exportación en progreso...')\n",
    "    time.sleep(30)  # Esperar 30 segundos antes de verificar el estado nuevamente\n",
    "\n",
    "if task.status()['state'] == 'COMPLETED':\n",
    "    print('Exportación completada con éxito.')\n",
    "else:\n",
    "    print('Error en la exportación:', task.status())"
   ]
  }
 ],
 "metadata": {
  "kernelspec": {
   "display_name": "Geo",
   "language": "python",
   "name": "python3"
  },
  "language_info": {
   "codemirror_mode": {
    "name": "ipython",
    "version": 3
   },
   "file_extension": ".py",
   "mimetype": "text/x-python",
   "name": "python",
   "nbconvert_exporter": "python",
   "pygments_lexer": "ipython3",
   "version": "3.12.4"
  }
 },
 "nbformat": 4,
 "nbformat_minor": 2
}
