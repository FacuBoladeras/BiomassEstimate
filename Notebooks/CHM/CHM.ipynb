{
 "cells": [
  {
   "cell_type": "code",
   "execution_count": 9,
   "metadata": {},
   "outputs": [
    {
     "data": {
      "text/html": [
       "\n",
       "            <style>\n",
       "                .geemap-dark {\n",
       "                    --jp-widgets-color: white;\n",
       "                    --jp-widgets-label-color: white;\n",
       "                    --jp-ui-font-color1: white;\n",
       "                    --jp-layout-color2: #454545;\n",
       "                    background-color: #383838;\n",
       "                }\n",
       "\n",
       "                .geemap-dark .jupyter-button {\n",
       "                    --jp-layout-color3: #383838;\n",
       "                }\n",
       "\n",
       "                .geemap-colab {\n",
       "                    background-color: var(--colab-primary-surface-color, white);\n",
       "                }\n",
       "\n",
       "                .geemap-colab .jupyter-button {\n",
       "                    --jp-layout-color3: var(--colab-primary-surface-color, white);\n",
       "                }\n",
       "            </style>\n",
       "            "
      ],
      "text/plain": [
       "<IPython.core.display.HTML object>"
      ]
     },
     "metadata": {},
     "output_type": "display_data"
    }
   ],
   "source": [
    "import ee\n",
    "import geemap\n",
    "from geemap import ml\n",
    "from sklearn import ensemble\n",
    "import pandas as pd\n",
    "\n",
    "\n",
    "# Inicializa la autenticación y la inicialización de Google Earth Engine\n",
    "ee.Authenticate()\n",
    "ee.Initialize(project='ee-facuboladerasgee')"
   ]
  },
  {
   "cell_type": "code",
   "execution_count": 19,
   "metadata": {},
   "outputs": [
    {
     "data": {
      "text/html": [
       "\n",
       "            <style>\n",
       "                .geemap-dark {\n",
       "                    --jp-widgets-color: white;\n",
       "                    --jp-widgets-label-color: white;\n",
       "                    --jp-ui-font-color1: white;\n",
       "                    --jp-layout-color2: #454545;\n",
       "                    background-color: #383838;\n",
       "                }\n",
       "\n",
       "                .geemap-dark .jupyter-button {\n",
       "                    --jp-layout-color3: #383838;\n",
       "                }\n",
       "\n",
       "                .geemap-colab {\n",
       "                    background-color: var(--colab-primary-surface-color, white);\n",
       "                }\n",
       "\n",
       "                .geemap-colab .jupyter-button {\n",
       "                    --jp-layout-color3: var(--colab-primary-surface-color, white);\n",
       "                }\n",
       "            </style>\n",
       "            "
      ],
      "text/plain": [
       "<IPython.core.display.HTML object>"
      ]
     },
     "metadata": {},
     "output_type": "display_data"
    }
   ],
   "source": [
    "roi = ee.FeatureCollection('projects/ee-facuboladerasgee/assets/Forestaciones_uru')\n",
    "Map = geemap.Map(center=[0, 0], zoom=2)\n",
    "Map.add_basemap('SATELLITE')\n",
    "Map.centerObject(roi)\n",
    "\n",
    "year = 2021\n",
    "\n",
    "start = f'{year}-01-01'\n",
    "end = f'{year}-12-31'"
   ]
  },
  {
   "cell_type": "code",
   "execution_count": 20,
   "metadata": {},
   "outputs": [
    {
     "data": {
      "text/html": [
       "\n",
       "            <style>\n",
       "                .geemap-dark {\n",
       "                    --jp-widgets-color: white;\n",
       "                    --jp-widgets-label-color: white;\n",
       "                    --jp-ui-font-color1: white;\n",
       "                    --jp-layout-color2: #454545;\n",
       "                    background-color: #383838;\n",
       "                }\n",
       "\n",
       "                .geemap-dark .jupyter-button {\n",
       "                    --jp-layout-color3: #383838;\n",
       "                }\n",
       "\n",
       "                .geemap-colab {\n",
       "                    background-color: var(--colab-primary-surface-color, white);\n",
       "                }\n",
       "\n",
       "                .geemap-colab .jupyter-button {\n",
       "                    --jp-layout-color3: var(--colab-primary-surface-color, white);\n",
       "                }\n",
       "            </style>\n",
       "            "
      ],
      "text/plain": [
       "<IPython.core.display.HTML object>"
      ]
     },
     "metadata": {},
     "output_type": "display_data"
    }
   ],
   "source": [
    "s2_col = ee.ImageCollection('COPERNICUS/S2_SR_HARMONIZED') \\\n",
    "    .filterBounds(roi) \\\n",
    "    .filterDate(start, end) \\\n",
    "    .filter(ee.Filter.lt('CLOUDY_PIXEL_PERCENTAGE', 10))\n",
    "\n",
    "cloud_col = ee.ImageCollection('COPERNICUS/S2_CLOUD_PROBABILITY') \\\n",
    "    .filterBounds(roi) \\\n",
    "    .filterDate(start, end)\n",
    "\n",
    "def mask_clouds(image):\n",
    "    cloud_score = ee.Image(cloud_col.filterMetadata('system:index', 'equals', image.get('system:index')).first())\n",
    "    mask = cloud_score.select('probability').lt(10)\n",
    "    return image.updateMask(mask)\n",
    "\n",
    "# Apply cloud masking and compute median\n",
    "s2_masked = s2_col.map(mask_clouds)\n",
    "s2_image = s2_masked.median().toFloat().clip(roi)\n",
    "\n",
    "\n",
    "# Calculate indices (NDVI, MNDWI, NDBI, EVI, SAVI) for Sentinel-2\n",
    "ndvi = s2_image.normalizedDifference(['B8', 'B4']).rename('NDVI')\n",
    "mndwi = s2_image.normalizedDifference(['B3', 'B11']).rename('MNDWI')\n",
    "ndbi = s2_image.normalizedDifference(['B11', 'B8']).rename('NDBI')\n",
    "\n",
    "evi = s2_image.expression(\n",
    "    '2.5 * ((NIR - RED) / (NIR + 6 * RED - 7.5 * BLUE + 1))',\n",
    "    {\n",
    "        'NIR': s2_image.select('B8'),\n",
    "        'RED': s2_image.select('B4'),\n",
    "        'BLUE': s2_image.select('B2')\n",
    "    }\n",
    ").rename('EVI')\n",
    "\n",
    "savi = s2_image.expression(\n",
    "    '((NIR - RED) / (NIR + RED + 0.5)) * 1.5',\n",
    "    {\n",
    "        'NIR': s2_image.select('B8'),\n",
    "        'RED': s2_image.select('B4')\n",
    "    }\n",
    ").rename('SAVI')\n",
    "\n",
    "\n",
    "s2_image = s2_image.addBands([ndvi, mndwi, ndbi, evi, savi])\n",
    "\n",
    "# Add Dynamic World label to the image\n",
    "dw_col = ee.ImageCollection('GOOGLE/DYNAMICWORLD/V1') \\\n",
    "    .filterBounds(roi) \\\n",
    "    .filterDate(start, end)\n",
    "\n",
    "dw_label = dw_col.select('label').median().clip(roi)\n",
    "s2_image = s2_image.addBands(dw_label.rename('label'))\n",
    "\n",
    "# Incorporate DEM and slope\n",
    "dem = ee.Image('USGS/SRTMGL1_003').select('elevation').clip(roi)\n",
    "slope = ee.Terrain.slope(dem).rename('slope').clip(roi)\n",
    "aspect = ee.Terrain.aspect(dem).rename('aspect').clip(roi)\n"
   ]
  },
  {
   "cell_type": "code",
   "execution_count": 21,
   "metadata": {},
   "outputs": [
    {
     "data": {
      "text/html": [
       "\n",
       "            <style>\n",
       "                .geemap-dark {\n",
       "                    --jp-widgets-color: white;\n",
       "                    --jp-widgets-label-color: white;\n",
       "                    --jp-ui-font-color1: white;\n",
       "                    --jp-layout-color2: #454545;\n",
       "                    background-color: #383838;\n",
       "                }\n",
       "\n",
       "                .geemap-dark .jupyter-button {\n",
       "                    --jp-layout-color3: #383838;\n",
       "                }\n",
       "\n",
       "                .geemap-colab {\n",
       "                    background-color: var(--colab-primary-surface-color, white);\n",
       "                }\n",
       "\n",
       "                .geemap-colab .jupyter-button {\n",
       "                    --jp-layout-color3: var(--colab-primary-surface-color, white);\n",
       "                }\n",
       "            </style>\n",
       "            "
      ],
      "text/plain": [
       "<IPython.core.display.HTML object>"
      ]
     },
     "metadata": {},
     "output_type": "display_data"
    }
   ],
   "source": [
    "def mask_edge(image):\n",
    "    edge = image.lt(-30.0)\n",
    "    masked_image = image.mask().And(edge.Not())\n",
    "    return image.updateMask(masked_image)\n",
    "\n",
    "def create_filtered_collection(polarization):\n",
    "    return ee.ImageCollection('COPERNICUS/S1_GRD') \\\n",
    "        .filterBounds(roi) \\\n",
    "        .filterDate(start, end) \\\n",
    "        .filter(ee.Filter.eq('instrumentMode', 'IW')) \\\n",
    "        .filter(ee.Filter.listContains('transmitterReceiverPolarisation', polarization)) \\\n",
    "        .select(polarization) \\\n",
    "        .map(mask_edge)\n",
    "\n",
    "img_vv = create_filtered_collection('VV')\n",
    "img_vh = create_filtered_collection('VH')\n",
    "\n",
    "# Compute medians for Sentinel-1\n",
    "s1_vv = img_vv.median().rename('VV').clip(roi)\n",
    "s1_vh = img_vh.median().rename('VH').clip(roi)\n",
    "\n",
    "# Combine Sentinel-1 bands\n",
    "s1_combined = ee.Image.cat([s1_vv, s1_vh])\n",
    "\n",
    "# Calculate RVI, VV+VH, and VV-VH\n",
    "rvi = s1_combined.expression(\n",
    "    '4 * VH / (VV + VH)',\n",
    "    {\n",
    "        'VV': s1_combined.select('VV'),\n",
    "        'VH': s1_combined.select('VH')\n",
    "    }\n",
    ").rename('RVI')\n",
    "\n",
    "vv_plus_vh = s1_combined.expression(\n",
    "    'VV + VH',\n",
    "    {\n",
    "        'VV': s1_combined.select('VV'),\n",
    "        'VH': s1_combined.select('VH')\n",
    "    }\n",
    ").rename('VV_plus_VH')\n",
    "\n",
    "vv_minus_vh = s1_combined.expression(\n",
    "    'VV - VH',\n",
    "    {\n",
    "        'VV': s1_combined.select('VV'),\n",
    "        'VH': s1_combined.select('VH')\n",
    "    }\n",
    ").rename('VV_minus_VH')\n",
    "\n",
    "# Add bands to the image\n",
    "s1_image = s1_combined.addBands([rvi, vv_plus_vh, vv_minus_vh])\n",
    "\n",
    "# Combine all layers into the final image\n",
    "image = s2_image.addBands([s1_image, dem.rename('elevation'), slope, aspect])"
   ]
  },
  {
   "cell_type": "code",
   "execution_count": 22,
   "metadata": {},
   "outputs": [
    {
     "data": {
      "text/html": [
       "\n",
       "            <style>\n",
       "                .geemap-dark {\n",
       "                    --jp-widgets-color: white;\n",
       "                    --jp-widgets-label-color: white;\n",
       "                    --jp-ui-font-color1: white;\n",
       "                    --jp-layout-color2: #454545;\n",
       "                    background-color: #383838;\n",
       "                }\n",
       "\n",
       "                .geemap-dark .jupyter-button {\n",
       "                    --jp-layout-color3: #383838;\n",
       "                }\n",
       "\n",
       "                .geemap-colab {\n",
       "                    background-color: var(--colab-primary-surface-color, white);\n",
       "                }\n",
       "\n",
       "                .geemap-colab .jupyter-button {\n",
       "                    --jp-layout-color3: var(--colab-primary-surface-color, white);\n",
       "                }\n",
       "            </style>\n",
       "            "
      ],
      "text/plain": [
       "<IPython.core.display.HTML object>"
      ]
     },
     "metadata": {},
     "output_type": "display_data"
    }
   ],
   "source": [
    "def calculate_texture_metrics(image, index_name, roi, scale_factor=100, size=3):\n",
    "    \n",
    "    index_norm = image.select(index_name).multiply(scale_factor).add(scale_factor).toInt32().clip(roi)\n",
    "    \n",
    "    glcm = index_norm.glcmTexture(size=size)\n",
    "    contrast = glcm.select(f'{index_name}_contrast').rename(f'{index_name}_Contrast')\n",
    "    correlation = glcm.select(f'{index_name}_corr').rename(f'{index_name}_Correlation')\n",
    "    entropy = glcm.select(f'{index_name}_ent').rename(f'{index_name}_Entropy')\n",
    "    inertia = glcm.select(f'{index_name}_inertia').rename(f'{index_name}_Inertia')\n",
    "    \n",
    "    # Agregar las bandas de textura a la imagen original\n",
    "    return image.addBands([contrast, correlation, entropy, inertia])\n",
    "\n",
    "\n",
    "\n",
    "image = calculate_texture_metrics(image, 'NDVI', roi)\n",
    "image = calculate_texture_metrics(image, 'SAVI', roi)\n",
    "\n",
    "bands = ['B11', 'B12', 'B8', 'B2', 'B3', 'B4', 'VV', 'VH', 'RVI', 'VV_plus_VH', 'VV_minus_VH', 'elevation', 'slope', 'label', 'EVI','SAVI','NDVI', 'MNDWI', 'NDBI','NDVI_Contrast', 'NDVI_Correlation', 'NDVI_Entropy' ,'NDVI_Inertia' ,'SAVI_Contrast' ,'SAVI_Correlation' ,'SAVI_Entropy' ,'SAVI_Inertia', 'aspect']\n",
    "image = image.select(bands)"
   ]
  },
  {
   "cell_type": "code",
   "execution_count": 23,
   "metadata": {},
   "outputs": [
    {
     "data": {
      "text/html": [
       "\n",
       "            <style>\n",
       "                .geemap-dark {\n",
       "                    --jp-widgets-color: white;\n",
       "                    --jp-widgets-label-color: white;\n",
       "                    --jp-ui-font-color1: white;\n",
       "                    --jp-layout-color2: #454545;\n",
       "                    background-color: #383838;\n",
       "                }\n",
       "\n",
       "                .geemap-dark .jupyter-button {\n",
       "                    --jp-layout-color3: #383838;\n",
       "                }\n",
       "\n",
       "                .geemap-colab {\n",
       "                    background-color: var(--colab-primary-surface-color, white);\n",
       "                }\n",
       "\n",
       "                .geemap-colab .jupyter-button {\n",
       "                    --jp-layout-color3: var(--colab-primary-surface-color, white);\n",
       "                }\n",
       "            </style>\n",
       "            "
      ],
      "text/plain": [
       "<IPython.core.display.HTML object>"
      ]
     },
     "metadata": {},
     "output_type": "display_data"
    },
    {
     "data": {
      "application/vnd.jupyter.widget-view+json": {
       "model_id": "5bfefb2656c54efe894b09a32440535f",
       "version_major": 2,
       "version_minor": 0
      },
      "text/plain": [
       "Map(center=[-32.066057127217235, -58.303486187632885], controls=(WidgetControl(options=['position', 'transpare…"
      ]
     },
     "execution_count": 23,
     "metadata": {},
     "output_type": "execute_result"
    }
   ],
   "source": [
    "Map.centerObject(roi, 10)\n",
    "Map.addLayer(image, {}, 'VV', False)\n",
    "Map"
   ]
  },
  {
   "cell_type": "code",
   "execution_count": 26,
   "metadata": {},
   "outputs": [
    {
     "data": {
      "text/html": [
       "\n",
       "            <style>\n",
       "                .geemap-dark {\n",
       "                    --jp-widgets-color: white;\n",
       "                    --jp-widgets-label-color: white;\n",
       "                    --jp-ui-font-color1: white;\n",
       "                    --jp-layout-color2: #454545;\n",
       "                    background-color: #383838;\n",
       "                }\n",
       "\n",
       "                .geemap-dark .jupyter-button {\n",
       "                    --jp-layout-color3: #383838;\n",
       "                }\n",
       "\n",
       "                .geemap-colab {\n",
       "                    background-color: var(--colab-primary-surface-color, white);\n",
       "                }\n",
       "\n",
       "                .geemap-colab .jupyter-button {\n",
       "                    --jp-layout-color3: var(--colab-primary-surface-color, white);\n",
       "                }\n",
       "            </style>\n",
       "            "
      ],
      "text/plain": [
       "<IPython.core.display.HTML object>"
      ]
     },
     "metadata": {},
     "output_type": "display_data"
    }
   ],
   "source": [
    "def mask_based_on_label_values(image, values):\n",
    "    dynamic_world = ee.ImageCollection('GOOGLE/DYNAMICWORLD/V1') \\\n",
    "        .filterBounds(roi) \\\n",
    "        .filterDate(start, end) \\\n",
    "        .select('label') \\\n",
    "        .median() \\\n",
    "        .clip(roi)\n",
    "    \n",
    "    # Crear una máscara basada en los valores de la lista\n",
    "    label_mask = dynamic_world.eq(values[0])  # Inicializar con el primer valor\n",
    "    for value in values[1:]:\n",
    "        label_mask = label_mask.Or(dynamic_world.eq(value))  # Añadir los demás valores\n",
    "    \n",
    "    # Aplicar la máscara de valores al conjunto de datos\n",
    "    return image.updateMask(label_mask)\n",
    "\n",
    "# Valores a usar en la máscara (e.g., árboles, vegetación alta, agua, etc.)\n",
    "values_to_mask = [1]  # Ejemplo de clases de DynamicWorld a incluir\n",
    "\n",
    "# Obtener los datos GEDI de la altura de dosel\n",
    "def get_gedi_canopy_height(band_name):\n",
    "    return ee.ImageCollection('LARSE/GEDI/GEDI02_A_002_MONTHLY') \\\n",
    "        .filterBounds(roi) \\\n",
    "        .filterDate(start, end) \\\n",
    "        .map(lambda image: image.updateMask(\n",
    "            image.select('degrade_flag').eq(0))) \\\n",
    "        .select(band_name) \\\n",
    "        .median() \\\n",
    "        .toFloat() \\\n",
    "        .clip(roi)\n",
    "\n",
    "gedi_rh95 = get_gedi_canopy_height('rh95').rename('rh95')\n",
    "gedi_masked = mask_based_on_label_values(gedi_rh95, values_to_mask)\n",
    "\n",
    "def convert_to_float(image):\n",
    "    return image.float()\n",
    "\n",
    "gedi_masked = convert_to_float(gedi_masked)\n",
    "image = image.addBands(gedi_masked.rename('rh95'))"
   ]
  },
  {
   "cell_type": "code",
   "execution_count": 27,
   "metadata": {},
   "outputs": [
    {
     "data": {
      "text/html": [
       "\n",
       "            <style>\n",
       "                .geemap-dark {\n",
       "                    --jp-widgets-color: white;\n",
       "                    --jp-widgets-label-color: white;\n",
       "                    --jp-ui-font-color1: white;\n",
       "                    --jp-layout-color2: #454545;\n",
       "                    background-color: #383838;\n",
       "                }\n",
       "\n",
       "                .geemap-dark .jupyter-button {\n",
       "                    --jp-layout-color3: #383838;\n",
       "                }\n",
       "\n",
       "                .geemap-colab {\n",
       "                    background-color: var(--colab-primary-surface-color, white);\n",
       "                }\n",
       "\n",
       "                .geemap-colab .jupyter-button {\n",
       "                    --jp-layout-color3: var(--colab-primary-surface-color, white);\n",
       "                }\n",
       "            </style>\n",
       "            "
      ],
      "text/plain": [
       "<IPython.core.display.HTML object>"
      ]
     },
     "metadata": {},
     "output_type": "display_data"
    },
    {
     "name": "stdout",
     "output_type": "stream",
     "text": [
      "Exportación en progreso...\n",
      "Error en la exportación: {'state': 'RUNNING', 'description': 'ExportSampleToCSV', 'priority': 100, 'creation_timestamp_ms': 1725631933213, 'update_timestamp_ms': 1725631958568, 'start_timestamp_ms': 1725631938391, 'task_type': 'EXPORT_FEATURES', 'attempt': 1, 'batch_eecu_usage_seconds': 0.070239737, 'id': 'BBT3DXOK22RI5ZHF7PKZVFAN', 'name': 'projects/ee-facuboladerasgee/operations/BBT3DXOK22RI5ZHF7PKZVFAN'}\n",
      "Exportación en progreso...\n",
      "Error en la exportación: {'state': 'RUNNING', 'description': 'ExportSampleToCSV', 'priority': 100, 'creation_timestamp_ms': 1725631933213, 'update_timestamp_ms': 1725631988567, 'start_timestamp_ms': 1725631938391, 'task_type': 'EXPORT_FEATURES', 'attempt': 1, 'batch_eecu_usage_seconds': 0.070239737, 'id': 'BBT3DXOK22RI5ZHF7PKZVFAN', 'name': 'projects/ee-facuboladerasgee/operations/BBT3DXOK22RI5ZHF7PKZVFAN'}\n",
      "Exportación en progreso...\n",
      "Error en la exportación: {'state': 'RUNNING', 'description': 'ExportSampleToCSV', 'priority': 100, 'creation_timestamp_ms': 1725631933213, 'update_timestamp_ms': 1725632018568, 'start_timestamp_ms': 1725631938391, 'task_type': 'EXPORT_FEATURES', 'attempt': 1, 'batch_eecu_usage_seconds': 0.070239737, 'id': 'BBT3DXOK22RI5ZHF7PKZVFAN', 'name': 'projects/ee-facuboladerasgee/operations/BBT3DXOK22RI5ZHF7PKZVFAN'}\n",
      "Exportación en progreso...\n",
      "Error en la exportación: {'state': 'RUNNING', 'description': 'ExportSampleToCSV', 'priority': 100, 'creation_timestamp_ms': 1725631933213, 'update_timestamp_ms': 1725632048569, 'start_timestamp_ms': 1725631938391, 'task_type': 'EXPORT_FEATURES', 'attempt': 1, 'batch_eecu_usage_seconds': 0.070239737, 'id': 'BBT3DXOK22RI5ZHF7PKZVFAN', 'name': 'projects/ee-facuboladerasgee/operations/BBT3DXOK22RI5ZHF7PKZVFAN'}\n",
      "Exportación en progreso...\n",
      "Error en la exportación: {'state': 'RUNNING', 'description': 'ExportSampleToCSV', 'priority': 100, 'creation_timestamp_ms': 1725631933213, 'update_timestamp_ms': 1725632088567, 'start_timestamp_ms': 1725631938391, 'task_type': 'EXPORT_FEATURES', 'attempt': 1, 'batch_eecu_usage_seconds': 0.070239737, 'id': 'BBT3DXOK22RI5ZHF7PKZVFAN', 'name': 'projects/ee-facuboladerasgee/operations/BBT3DXOK22RI5ZHF7PKZVFAN'}\n",
      "Exportación en progreso...\n",
      "Error en la exportación: {'state': 'RUNNING', 'description': 'ExportSampleToCSV', 'priority': 100, 'creation_timestamp_ms': 1725631933213, 'update_timestamp_ms': 1725632118569, 'start_timestamp_ms': 1725631938391, 'task_type': 'EXPORT_FEATURES', 'attempt': 1, 'batch_eecu_usage_seconds': 7540.226074218, 'id': 'BBT3DXOK22RI5ZHF7PKZVFAN', 'name': 'projects/ee-facuboladerasgee/operations/BBT3DXOK22RI5ZHF7PKZVFAN'}\n",
      "Exportación en progreso...\n",
      "Exportación completada con éxito.\n"
     ]
    }
   ],
   "source": [
    "import time\n",
    "\n",
    "sample = image.sample(\n",
    "    scale=10,  # Ajusta la escala según sea necesario para tus datos\n",
    "    region=roi,\n",
    "    geometries=True  # Incluir geometría de los puntos\n",
    ")\n",
    "\n",
    "# Exportar la tabla de muestra a Google Drive en formato CSV\n",
    "export_task = ee.batch.Export.table.toDrive(\n",
    "    collection=sample,\n",
    "    description='ExportSampleToCSV',\n",
    "    folder='EE_costa_uruguay_nuevo',\n",
    "    fileNamePrefix=f'Datos_RF_2021-chm_trees',\n",
    "    fileFormat='CSV'\n",
    ")\n",
    "\n",
    "\n",
    "# Iniciar la tarea de exportación\n",
    "export_task.start()\n",
    "\n",
    "    # Esperar a que la tarea de exportación se complete\n",
    "export_task.status()\n",
    "\n",
    "    # Verificar el estado de la tarea y mostrar un mensaje de éxito\n",
    "while export_task.active():\n",
    "    print('Exportación en progreso...')\n",
    "    time.sleep(30)  # Esperar 30 segundos antes de verificar el estado nuevamente\n",
    "    \n",
    "    if export_task.status()['state'] == 'COMPLETED':\n",
    "        print(f'Exportación completada con éxito.')\n",
    "    else:\n",
    "        print(f'Error en la exportación: {export_task.status()}')"
   ]
  }
 ],
 "metadata": {
  "kernelspec": {
   "display_name": "Geo",
   "language": "python",
   "name": "python3"
  },
  "language_info": {
   "codemirror_mode": {
    "name": "ipython",
    "version": 3
   },
   "file_extension": ".py",
   "mimetype": "text/x-python",
   "name": "python",
   "nbconvert_exporter": "python",
   "pygments_lexer": "ipython3",
   "version": "3.12.4"
  }
 },
 "nbformat": 4,
 "nbformat_minor": 2
}
