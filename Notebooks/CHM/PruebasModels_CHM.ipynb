{
 "cells": [
  {
   "cell_type": "code",
   "execution_count": 1,
   "metadata": {},
   "outputs": [],
   "source": [
    "import ee\n",
    "import geemap\n",
    "from geemap import ml\n",
    "from sklearn import ensemble\n",
    "import pandas as pd\n",
    "from sklearn.model_selection import train_test_split\n",
    "from sklearn.ensemble import RandomForestRegressor\n",
    "from sklearn.metrics import mean_squared_error\n",
    "\n",
    "\n",
    "ee.Authenticate()\n",
    "ee.Initialize(project='ee-facuboladerasgee')"
   ]
  },
  {
   "cell_type": "code",
   "execution_count": 2,
   "metadata": {},
   "outputs": [
    {
     "data": {
      "text/html": [
       "\n",
       "            <style>\n",
       "                .geemap-dark {\n",
       "                    --jp-widgets-color: white;\n",
       "                    --jp-widgets-label-color: white;\n",
       "                    --jp-ui-font-color1: white;\n",
       "                    --jp-layout-color2: #454545;\n",
       "                    background-color: #383838;\n",
       "                }\n",
       "\n",
       "                .geemap-dark .jupyter-button {\n",
       "                    --jp-layout-color3: #383838;\n",
       "                }\n",
       "\n",
       "                .geemap-colab {\n",
       "                    background-color: var(--colab-primary-surface-color, white);\n",
       "                }\n",
       "\n",
       "                .geemap-colab .jupyter-button {\n",
       "                    --jp-layout-color3: var(--colab-primary-surface-color, white);\n",
       "                }\n",
       "            </style>\n",
       "            "
      ],
      "text/plain": [
       "<IPython.core.display.HTML object>"
      ]
     },
     "metadata": {},
     "output_type": "display_data"
    }
   ],
   "source": [
    "roi = ee.FeatureCollection('projects/ee-facuboladerasgee/assets/Forestaciones_uru')\n",
    "Map = geemap.Map(center=[0, 0], zoom=2)\n",
    "Map.add_basemap('SATELLITE')\n",
    "Map.centerObject(roi)"
   ]
  },
  {
   "cell_type": "code",
   "execution_count": 3,
   "metadata": {},
   "outputs": [
    {
     "data": {
      "text/html": [
       "\n",
       "            <style>\n",
       "                .geemap-dark {\n",
       "                    --jp-widgets-color: white;\n",
       "                    --jp-widgets-label-color: white;\n",
       "                    --jp-ui-font-color1: white;\n",
       "                    --jp-layout-color2: #454545;\n",
       "                    background-color: #383838;\n",
       "                }\n",
       "\n",
       "                .geemap-dark .jupyter-button {\n",
       "                    --jp-layout-color3: #383838;\n",
       "                }\n",
       "\n",
       "                .geemap-colab {\n",
       "                    background-color: var(--colab-primary-surface-color, white);\n",
       "                }\n",
       "\n",
       "                .geemap-colab .jupyter-button {\n",
       "                    --jp-layout-color3: var(--colab-primary-surface-color, white);\n",
       "                }\n",
       "            </style>\n",
       "            "
      ],
      "text/plain": [
       "<IPython.core.display.HTML object>"
      ]
     },
     "metadata": {},
     "output_type": "display_data"
    }
   ],
   "source": [
    "roi_feature = ee.FeatureCollection(roi).first()\n",
    "roi_geometry = roi_feature.geometry()\n",
    "roi_coordinates = roi_geometry.coordinates().getInfo()\n",
    "\n",
    "\n",
    "# Guardar las coordenadas en una variable\n",
    "roi_coords = roi_coordinates\n",
    "ee_roi =  ee.Geometry.Polygon(roi_coords) "
   ]
  },
  {
   "cell_type": "code",
   "execution_count": 4,
   "metadata": {},
   "outputs": [
    {
     "data": {
      "text/html": [
       "\n",
       "            <style>\n",
       "                .geemap-dark {\n",
       "                    --jp-widgets-color: white;\n",
       "                    --jp-widgets-label-color: white;\n",
       "                    --jp-ui-font-color1: white;\n",
       "                    --jp-layout-color2: #454545;\n",
       "                    background-color: #383838;\n",
       "                }\n",
       "\n",
       "                .geemap-dark .jupyter-button {\n",
       "                    --jp-layout-color3: #383838;\n",
       "                }\n",
       "\n",
       "                .geemap-colab {\n",
       "                    background-color: var(--colab-primary-surface-color, white);\n",
       "                }\n",
       "\n",
       "                .geemap-colab .jupyter-button {\n",
       "                    --jp-layout-color3: var(--colab-primary-surface-color, white);\n",
       "                }\n",
       "            </style>\n",
       "            "
      ],
      "text/plain": [
       "<IPython.core.display.HTML object>"
      ]
     },
     "metadata": {},
     "output_type": "display_data"
    }
   ],
   "source": [
    "year = 2021\n",
    "\n",
    "start = f'{year}-09-01'\n",
    "end = f'{year}-12-31'"
   ]
  },
  {
   "cell_type": "code",
   "execution_count": 5,
   "metadata": {},
   "outputs": [
    {
     "data": {
      "text/html": [
       "\n",
       "            <style>\n",
       "                .geemap-dark {\n",
       "                    --jp-widgets-color: white;\n",
       "                    --jp-widgets-label-color: white;\n",
       "                    --jp-ui-font-color1: white;\n",
       "                    --jp-layout-color2: #454545;\n",
       "                    background-color: #383838;\n",
       "                }\n",
       "\n",
       "                .geemap-dark .jupyter-button {\n",
       "                    --jp-layout-color3: #383838;\n",
       "                }\n",
       "\n",
       "                .geemap-colab {\n",
       "                    background-color: var(--colab-primary-surface-color, white);\n",
       "                }\n",
       "\n",
       "                .geemap-colab .jupyter-button {\n",
       "                    --jp-layout-color3: var(--colab-primary-surface-color, white);\n",
       "                }\n",
       "            </style>\n",
       "            "
      ],
      "text/plain": [
       "<IPython.core.display.HTML object>"
      ]
     },
     "metadata": {},
     "output_type": "display_data"
    }
   ],
   "source": [
    "s2_col = ee.ImageCollection('COPERNICUS/S2_SR_HARMONIZED') \\\n",
    "    .filterBounds(roi) \\\n",
    "    .filterDate(start, end) \\\n",
    "    .filter(ee.Filter.lt('CLOUDY_PIXEL_PERCENTAGE', 10))\n",
    "\n",
    "cloud_col = ee.ImageCollection('COPERNICUS/S2_CLOUD_PROBABILITY') \\\n",
    "    .filterBounds(roi) \\\n",
    "    .filterDate(start, end)\n",
    "\n",
    "def mask_clouds(image):\n",
    "    cloud_score = ee.Image(cloud_col.filterMetadata('system:index', 'equals', image.get('system:index')).first())\n",
    "    mask = cloud_score.select('probability').lt(10)\n",
    "    return image.updateMask(mask)\n",
    "\n",
    "# Apply cloud masking and compute median\n",
    "s2_masked = s2_col.map(mask_clouds)\n",
    "s2_image = s2_masked.median().toFloat().clip(roi)\n",
    "\n",
    "\n",
    "# Calculate indices (NDVI, MNDWI, NDBI, EVI, SAVI) for Sentinel-2\n",
    "ndvi = s2_image.normalizedDifference(['B8', 'B4']).rename('NDVI')\n",
    "mndwi = s2_image.normalizedDifference(['B3', 'B11']).rename('MNDWI')\n",
    "ndbi = s2_image.normalizedDifference(['B11', 'B8']).rename('NDBI')\n",
    "\n",
    "evi = s2_image.expression(\n",
    "    '2.5 * ((NIR - RED) / (NIR + 6 * RED - 7.5 * BLUE + 1))',\n",
    "    {\n",
    "        'NIR': s2_image.select('B8'),\n",
    "        'RED': s2_image.select('B4'),\n",
    "        'BLUE': s2_image.select('B2')\n",
    "    }\n",
    ").rename('EVI')\n",
    "\n",
    "savi = s2_image.expression(\n",
    "    '((NIR - RED) / (NIR + RED + 0.5)) * 1.5',\n",
    "    {\n",
    "        'NIR': s2_image.select('B8'),\n",
    "        'RED': s2_image.select('B4')\n",
    "    }\n",
    ").rename('SAVI')\n",
    "\n",
    "\n",
    "s2_image = s2_image.addBands([ndvi, mndwi, ndbi, evi, savi])\n",
    "\n",
    "# Add Dynamic World label to the image\n",
    "dw_col = ee.ImageCollection('GOOGLE/DYNAMICWORLD/V1') \\\n",
    "    .filterBounds(roi) \\\n",
    "    .filterDate(start, end)\n",
    "\n",
    "dw_label = dw_col.select('label').median().clip(roi)\n",
    "s2_image = s2_image.addBands(dw_label.rename('label'))\n",
    "\n",
    "# Incorporate DEM and slope\n",
    "dem = ee.Image('USGS/SRTMGL1_003').select('elevation').clip(roi)\n",
    "slope = ee.Terrain.slope(dem).rename('slope').clip(roi)\n",
    "aspect = ee.Terrain.aspect(dem).rename('aspect').clip(roi)\n",
    "\n",
    "def mask_edge(image):\n",
    "    edge = image.lt(-30.0)\n",
    "    masked_image = image.mask().And(edge.Not())\n",
    "    return image.updateMask(masked_image)\n",
    "\n",
    "def create_filtered_collection(polarization):\n",
    "    return ee.ImageCollection('COPERNICUS/S1_GRD') \\\n",
    "        .filterBounds(roi) \\\n",
    "        .filterDate(start, end) \\\n",
    "        .filter(ee.Filter.eq('instrumentMode', 'IW')) \\\n",
    "        .filter(ee.Filter.listContains('transmitterReceiverPolarisation', polarization)) \\\n",
    "        .select(polarization) \\\n",
    "        .map(mask_edge)\n",
    "\n",
    "img_vv = create_filtered_collection('VV')\n",
    "img_vh = create_filtered_collection('VH')\n",
    "\n",
    "# Compute medians for Sentinel-1\n",
    "s1_vv = img_vv.median().rename('VV').clip(roi)\n",
    "s1_vh = img_vh.median().rename('VH').clip(roi)\n",
    "\n",
    "# Combine Sentinel-1 bands\n",
    "s1_combined = ee.Image.cat([s1_vv, s1_vh])\n",
    "\n",
    "# Calculate RVI, VV+VH, and VV-VH\n",
    "rvi = s1_combined.expression(\n",
    "    '4 * VH / (VV + VH)',\n",
    "    {\n",
    "        'VV': s1_combined.select('VV'),\n",
    "        'VH': s1_combined.select('VH')\n",
    "    }\n",
    ").rename('RVI')\n",
    "\n",
    "vv_plus_vh = s1_combined.expression(\n",
    "    'VV + VH',\n",
    "    {\n",
    "        'VV': s1_combined.select('VV'),\n",
    "        'VH': s1_combined.select('VH')\n",
    "    }\n",
    ").rename('VV_plus_VH')\n",
    "\n",
    "vv_minus_vh = s1_combined.expression(\n",
    "    'VV - VH',\n",
    "    {\n",
    "        'VV': s1_combined.select('VV'),\n",
    "        'VH': s1_combined.select('VH')\n",
    "    }\n",
    ").rename('VV_minus_VH')\n",
    "\n",
    "# Add bands to the image\n",
    "s1_image = s1_combined.addBands([rvi, vv_plus_vh, vv_minus_vh])\n",
    "\n",
    "# Combine all layers into the final image\n",
    "image = s2_image.addBands([s1_image, dem.rename('elevation'), slope, aspect])\n",
    "\n",
    "def calculate_texture_metrics(image, index_name, roi, scale_factor=100, size=3):\n",
    "    \n",
    "    index_norm = image.select(index_name).multiply(scale_factor).add(scale_factor).toInt32().clip(roi)\n",
    "    \n",
    "    glcm = index_norm.glcmTexture(size=size)\n",
    "    contrast = glcm.select(f'{index_name}_contrast').rename(f'{index_name}_Contrast')\n",
    "    correlation = glcm.select(f'{index_name}_corr').rename(f'{index_name}_Correlation')\n",
    "    entropy = glcm.select(f'{index_name}_ent').rename(f'{index_name}_Entropy')\n",
    "    inertia = glcm.select(f'{index_name}_inertia').rename(f'{index_name}_Inertia')\n",
    "    \n",
    "    # Agregar las bandas de textura a la imagen original\n",
    "    return image.addBands([contrast, correlation, entropy, inertia])\n",
    "\n",
    "\n",
    "\n",
    "image = calculate_texture_metrics(image, 'NDVI', roi)\n",
    "image = calculate_texture_metrics(image, 'SAVI', roi)\n",
    "\n",
    "bands = ['B12', 'elevation', 'B8', 'B11', 'NDBI', 'slope', 'VH', 'MNDWI', 'B3', 'EVI', 'aspect', 'SAVI_Entropy']\n",
    "\n",
    "image = image.select(bands)"
   ]
  },
  {
   "cell_type": "code",
   "execution_count": 24,
   "metadata": {},
   "outputs": [
    {
     "data": {
      "text/html": [
       "\n",
       "            <style>\n",
       "                .geemap-dark {\n",
       "                    --jp-widgets-color: white;\n",
       "                    --jp-widgets-label-color: white;\n",
       "                    --jp-ui-font-color1: white;\n",
       "                    --jp-layout-color2: #454545;\n",
       "                    background-color: #383838;\n",
       "                }\n",
       "\n",
       "                .geemap-dark .jupyter-button {\n",
       "                    --jp-layout-color3: #383838;\n",
       "                }\n",
       "\n",
       "                .geemap-colab {\n",
       "                    background-color: var(--colab-primary-surface-color, white);\n",
       "                }\n",
       "\n",
       "                .geemap-colab .jupyter-button {\n",
       "                    --jp-layout-color3: var(--colab-primary-surface-color, white);\n",
       "                }\n",
       "            </style>\n",
       "            "
      ],
      "text/plain": [
       "<IPython.core.display.HTML object>"
      ]
     },
     "metadata": {},
     "output_type": "display_data"
    }
   ],
   "source": [
    "# Cargar la colección Dynamic World\n",
    "dw_col = ee.ImageCollection('GOOGLE/DYNAMICWORLD/V1') \\\n",
    "    .filterBounds(roi) \\\n",
    "    .filterDate(start, end)\n",
    "\n",
    "dw_label = dw_col.select('label').median().clip(roi)\n",
    "\n",
    "# Crear una máscara donde se mantengan solo los píxeles con clase 1 (bosques) o clase 6 (cultivos)\n",
    "forest_and_crop_mask = dw_label.eq(1).Or(dw_label.eq(2))\n",
    "\n",
    "# Aplicar la máscara a la imagen: todo lo que no sea clase 1 o clase 6 se convierte en NaN\n",
    "image_masked = image.updateMask(forest_and_crop_mask)\n",
    "\n",
    "# Donde no hay datos, asignar NaN\n",
    "image = image_masked.unmask(ee.Image.constant(-9999)).clip(roi)\n"
   ]
  },
  {
   "cell_type": "code",
   "execution_count": 25,
   "metadata": {},
   "outputs": [
    {
     "data": {
      "text/html": [
       "\n",
       "            <style>\n",
       "                .geemap-dark {\n",
       "                    --jp-widgets-color: white;\n",
       "                    --jp-widgets-label-color: white;\n",
       "                    --jp-ui-font-color1: white;\n",
       "                    --jp-layout-color2: #454545;\n",
       "                    background-color: #383838;\n",
       "                }\n",
       "\n",
       "                .geemap-dark .jupyter-button {\n",
       "                    --jp-layout-color3: #383838;\n",
       "                }\n",
       "\n",
       "                .geemap-colab {\n",
       "                    background-color: var(--colab-primary-surface-color, white);\n",
       "                }\n",
       "\n",
       "                .geemap-colab .jupyter-button {\n",
       "                    --jp-layout-color3: var(--colab-primary-surface-color, white);\n",
       "                }\n",
       "            </style>\n",
       "            "
      ],
      "text/plain": [
       "<IPython.core.display.HTML object>"
      ]
     },
     "metadata": {},
     "output_type": "display_data"
    },
    {
     "data": {
      "application/vnd.jupyter.widget-view+json": {
       "model_id": "3543322837cc40e5857c7f7b484565cd",
       "version_major": 2,
       "version_minor": 0
      },
      "text/plain": [
       "Map(bottom=311781.0, center=[-32.066057127217235, -58.303486187632885], controls=(WidgetControl(options=['posi…"
      ]
     },
     "execution_count": 25,
     "metadata": {},
     "output_type": "execute_result"
    }
   ],
   "source": [
    "Map.centerObject(roi, 10)\n",
    "Map.addLayer(image_masked, {}, 'VV', False)\n",
    "Map"
   ]
  },
  {
   "cell_type": "code",
   "execution_count": 22,
   "metadata": {},
   "outputs": [
    {
     "data": {
      "text/html": [
       "\n",
       "            <style>\n",
       "                .geemap-dark {\n",
       "                    --jp-widgets-color: white;\n",
       "                    --jp-widgets-label-color: white;\n",
       "                    --jp-ui-font-color1: white;\n",
       "                    --jp-layout-color2: #454545;\n",
       "                    background-color: #383838;\n",
       "                }\n",
       "                    \n",
       "                .geemap-dark .jupyter-button {\n",
       "                    --jp-layout-color3: #383838;\n",
       "                }\n",
       "                \n",
       "                .geemap-colab {\n",
       "                    background-color: var(--colab-primary-surface-color, white);\n",
       "                }\n",
       "                    \n",
       "                .geemap-colab .jupyter-button {\n",
       "                    --jp-layout-color3: var(--colab-primary-surface-color, white);\n",
       "                }\n",
       "            </style>\n",
       "            "
      ],
      "text/plain": [
       "<IPython.core.display.HTML object>"
      ]
     },
     "metadata": {},
     "output_type": "display_data"
    }
   ],
   "source": [
    "feature_names =  ['B11', 'B12', 'B2', 'B3', 'B4', 'B8', 'EVI', 'MNDWI', 'NDBI', 'NDVI', 'RVI', 'SAVI', 'VH', 'VH_Contrast', 'VH_Correlation', 'VH_Entropy', 'VH_Inertia', 'VV', 'VV_Contrast', 'VV_Correlation', 'VV_Entropy', 'VV_Inertia', 'VV_minus_VH', 'VV_plus_VH', 'aspect', 'elevation', 'slope']\n",
    "\n",
    "label = \"agbd\"\n",
    "\n",
    "user_id = 'users/facuboladerasgee'\n",
    "# specify asset id where to save trees\n",
    "# be sure to change  to your ee user name\n",
    "asset_id = user_id + \"/Rf_AGB_trees-SN-CH\"\n",
    "asset_id\n",
    "\n",
    "\n",
    "# read the exported tree feature collection\n",
    "rf_fc = ee.FeatureCollection(asset_id)\n",
    "\n",
    "# convert it to a classifier, very similar to the ml.trees_to_classifier function\n",
    "another_classifier = ml.fc_to_classifier(rf_fc)\n",
    "\n",
    "# classify the image again but with the classifier from the persisted trees\n",
    "classified = image.select(feature_names).classify(another_classifier)\n"
   ]
  },
  {
   "cell_type": "code",
   "execution_count": 24,
   "metadata": {},
   "outputs": [
    {
     "data": {
      "text/html": [
       "\n",
       "            <style>\n",
       "                .geemap-dark {\n",
       "                    --jp-widgets-color: white;\n",
       "                    --jp-widgets-label-color: white;\n",
       "                    --jp-ui-font-color1: white;\n",
       "                    --jp-layout-color2: #454545;\n",
       "                    background-color: #383838;\n",
       "                }\n",
       "                    \n",
       "                .geemap-dark .jupyter-button {\n",
       "                    --jp-layout-color3: #383838;\n",
       "                }\n",
       "                \n",
       "                .geemap-colab {\n",
       "                    background-color: var(--colab-primary-surface-color, white);\n",
       "                }\n",
       "                    \n",
       "                .geemap-colab .jupyter-button {\n",
       "                    --jp-layout-color3: var(--colab-primary-surface-color, white);\n",
       "                }\n",
       "            </style>\n",
       "            "
      ],
      "text/plain": [
       "<IPython.core.display.HTML object>"
      ]
     },
     "metadata": {},
     "output_type": "display_data"
    }
   ],
   "source": [
    "# feature_names =   ['B11', 'B12', 'B2','B3', 'B4', 'B8', 'CH', 'EVI', 'MNDWI', 'NDBI', 'NDVI', 'RVI', 'SAVI', 'VH', 'VH_Contrast', 'VH_Correlation', 'VH_Entropy', 'VH_Inertia', 'VV', 'VV_Contrast', 'VV_Correlation', 'VV_Entropy', 'VV_Inertia', 'VV_minus_VH', 'VV_plus_VH', 'aspect', 'elevation', 'label', 'slope']\n",
    "\n",
    "\n",
    "\n",
    "# label = \"agbd\"\n",
    "\n",
    "# user_id = 'users/facuboladerasgee'\n",
    "# # specify asset id where to save trees\n",
    "# # be sure to change  to your ee user name\n",
    "# asset_id = user_id + \"/Rf_CHM_pampa2\"\n",
    "# asset_id\n",
    "\n",
    "\n",
    "# # Leer la colección de características exportada\n",
    "# rf_fc = ee.FeatureCollection(asset_id)\n",
    "\n",
    "# # Convertirlo en un clasificador\n",
    "# another_classifier = ml.fc_to_classifier(rf_fc)\n",
    "\n",
    "# # Aplicar una máscara para eliminar píxeles donde el valor es -9999\n",
    "# valid_pixels = image.select(feature_names).mask(image.select(feature_names).neq(-9999))\n",
    "\n",
    "# # Clasificar la imagen solo sobre los píxeles válidos\n",
    "# classified = valid_pixels.classify(another_classifier)\n",
    "\n",
    "# # O puedes asignar un valor específico a los píxeles no válidos después de la clasificación\n",
    "# classified = classified.unmask(-9999)"
   ]
  },
  {
   "cell_type": "code",
   "execution_count": 7,
   "metadata": {},
   "outputs": [
    {
     "data": {
      "text/html": [
       "\n",
       "            <style>\n",
       "                .geemap-dark {\n",
       "                    --jp-widgets-color: white;\n",
       "                    --jp-widgets-label-color: white;\n",
       "                    --jp-ui-font-color1: white;\n",
       "                    --jp-layout-color2: #454545;\n",
       "                    background-color: #383838;\n",
       "                }\n",
       "\n",
       "                .geemap-dark .jupyter-button {\n",
       "                    --jp-layout-color3: #383838;\n",
       "                }\n",
       "\n",
       "                .geemap-colab {\n",
       "                    background-color: var(--colab-primary-surface-color, white);\n",
       "                }\n",
       "\n",
       "                .geemap-colab .jupyter-button {\n",
       "                    --jp-layout-color3: var(--colab-primary-surface-color, white);\n",
       "                }\n",
       "            </style>\n",
       "            "
      ],
      "text/plain": [
       "<IPython.core.display.HTML object>"
      ]
     },
     "metadata": {},
     "output_type": "display_data"
    }
   ],
   "source": [
    "feature_names =  ['B12', 'elevation', 'B8', 'B11', 'NDBI', 'slope', 'VH', 'MNDWI', 'B3', 'EVI', 'aspect', 'SAVI_Entropy']\n",
    "\n",
    "\n",
    "label = \"rh95\"\n",
    "user_id = 'users/facuboladerasgee'\n",
    "def recombine_model_parts(user_id, base_asset_id, num_parts):\n",
    "    parts = [ee.FeatureCollection(f\"{base_asset_id}_part_{i}\") for i in range(num_parts)]\n",
    "    combined_fc = ee.FeatureCollection(parts[0])\n",
    "    \n",
    "    for part in parts[1:]:\n",
    "        combined_fc = combined_fc.merge(part)\n",
    "    \n",
    "    return ml.fc_to_classifier(combined_fc)\n",
    "\n",
    "# Ejemplo de uso:\n",
    "num_parts = 2  # Ajusta este número según la cantidad de partes exportadas\n",
    "base_asset_id = f\"{user_id}/Rf_chm-costa-uru\"\n",
    "recombined_classifier = recombine_model_parts(user_id, base_asset_id, num_parts)\n",
    "\n",
    "# Clasificar la imagen con el clasificador recombinado\n",
    "classified = image.select(feature_names).classify(recombined_classifier)\n"
   ]
  },
  {
   "cell_type": "code",
   "execution_count": 8,
   "metadata": {},
   "outputs": [
    {
     "data": {
      "text/html": [
       "\n",
       "            <style>\n",
       "                .geemap-dark {\n",
       "                    --jp-widgets-color: white;\n",
       "                    --jp-widgets-label-color: white;\n",
       "                    --jp-ui-font-color1: white;\n",
       "                    --jp-layout-color2: #454545;\n",
       "                    background-color: #383838;\n",
       "                }\n",
       "\n",
       "                .geemap-dark .jupyter-button {\n",
       "                    --jp-layout-color3: #383838;\n",
       "                }\n",
       "\n",
       "                .geemap-colab {\n",
       "                    background-color: var(--colab-primary-surface-color, white);\n",
       "                }\n",
       "\n",
       "                .geemap-colab .jupyter-button {\n",
       "                    --jp-layout-color3: var(--colab-primary-surface-color, white);\n",
       "                }\n",
       "            </style>\n",
       "            "
      ],
      "text/plain": [
       "<IPython.core.display.HTML object>"
      ]
     },
     "metadata": {},
     "output_type": "display_data"
    },
    {
     "data": {
      "application/vnd.jupyter.widget-view+json": {
       "model_id": "d5a63e17f5ff4dcc8988f8b56a1ec99c",
       "version_major": 2,
       "version_minor": 0
      },
      "text/plain": [
       "Map(center=[0, 0], controls=(WidgetControl(options=['position', 'transparent_bg'], widget=SearchDataGUI(childr…"
      ]
     },
     "execution_count": 8,
     "metadata": {},
     "output_type": "execute_result"
    }
   ],
   "source": [
    "# Centrar el mapa en la región de interés\n",
    "Map = geemap.Map(center=[0, 0], zoom=2)\n",
    "Map.centerObject(roi)\n",
    "\n",
    "\n",
    "visPredictedBiomass = {\n",
    "    'min': 0,\n",
    "    'max': 25,\n",
    "    'palette': ['lightyellow', 'lightgreen', 'green', 'darkgreen']\n",
    "}\n",
    "\n",
    "Map = geemap.Map(zoom=11)\n",
    "Map.add_basemap('SATELLITE')\n",
    "Map.centerObject(roi)\n",
    "\n",
    "Map.addLayer(\n",
    "    classified.clip(roi),\n",
    "    visPredictedBiomass,\n",
    "    \"classification\",)\n",
    "Map.add_colorbar(visPredictedBiomass, label=\"Predicted Biomass\")\n",
    "Map"
   ]
  },
  {
   "cell_type": "code",
   "execution_count": 9,
   "metadata": {},
   "outputs": [
    {
     "data": {
      "text/html": [
       "\n",
       "            <style>\n",
       "                .geemap-dark {\n",
       "                    --jp-widgets-color: white;\n",
       "                    --jp-widgets-label-color: white;\n",
       "                    --jp-ui-font-color1: white;\n",
       "                    --jp-layout-color2: #454545;\n",
       "                    background-color: #383838;\n",
       "                }\n",
       "\n",
       "                .geemap-dark .jupyter-button {\n",
       "                    --jp-layout-color3: #383838;\n",
       "                }\n",
       "\n",
       "                .geemap-colab {\n",
       "                    background-color: var(--colab-primary-surface-color, white);\n",
       "                }\n",
       "\n",
       "                .geemap-colab .jupyter-button {\n",
       "                    --jp-layout-color3: var(--colab-primary-surface-color, white);\n",
       "                }\n",
       "            </style>\n",
       "            "
      ],
      "text/plain": [
       "<IPython.core.display.HTML object>"
      ]
     },
     "metadata": {},
     "output_type": "display_data"
    },
    {
     "name": "stdout",
     "output_type": "stream",
     "text": [
      "Exportación iniciada. Revisa tu Google Drive en la carpeta 'EE_RF'.\n",
      "Exportación en progreso...\n",
      "Exportación en progreso...\n",
      "Exportación en progreso...\n",
      "Exportación en progreso...\n",
      "Exportación completada con éxito.\n"
     ]
    }
   ],
   "source": [
    "import time\n",
    "\n",
    "# Parámetros de exportación\n",
    "task = ee.batch.Export.image.toDrive(\n",
    "    image=classified,\n",
    "    description='chm-prueba',\n",
    "    folder='EE_costa_uruguay_nuevo',\n",
    "    region=ee_roi,\n",
    "    scale=30,\n",
    "    crs='EPSG:4326',  # CRS adecuado para Nepal\n",
    "    \n",
    "    \n",
    ")\n",
    "task.start()\n",
    "\n",
    "print(\"Exportación iniciada. Revisa tu Google Drive en la carpeta 'EE_RF'.\")\n",
    "\n",
    "# Esperar a que la tarea de exportación se complete (opcional)\n",
    "while task.active():\n",
    "    print('Exportación en progreso...')\n",
    "    time.sleep(30)  # Esperar 30 segundos antes de verificar el estado nuevamente\n",
    "\n",
    "if task.status()['state'] == 'COMPLETED':\n",
    "    print('Exportación completada con éxito.')\n",
    "else:\n",
    "    print('Error en la exportación:', task.status())"
   ]
  }
 ],
 "metadata": {
  "kernelspec": {
   "display_name": "Geo",
   "language": "python",
   "name": "python3"
  },
  "language_info": {
   "codemirror_mode": {
    "name": "ipython",
    "version": 3
   },
   "file_extension": ".py",
   "mimetype": "text/x-python",
   "name": "python",
   "nbconvert_exporter": "python",
   "pygments_lexer": "ipython3",
   "version": "3.12.4"
  }
 },
 "nbformat": 4,
 "nbformat_minor": 2
}
