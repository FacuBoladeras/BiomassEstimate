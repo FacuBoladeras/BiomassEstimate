{
 "cells": [
  {
   "cell_type": "code",
   "execution_count": 1,
   "metadata": {
    "executionInfo": {
     "elapsed": 54895,
     "status": "ok",
     "timestamp": 1720549783045,
     "user": {
      "displayName": "Facundo Boladeras",
      "userId": "01521896121890286045"
     },
     "user_tz": 180
    },
    "id": "590Up01vzgPp"
   },
   "outputs": [],
   "source": [
    "import ee\n",
    "import geemap\n",
    "from geemap import ml\n",
    "from sklearn import ensemble\n",
    "import pandas as pd\n",
    "from sklearn.model_selection import train_test_split\n",
    "from sklearn.ensemble import RandomForestRegressor\n",
    "from sklearn.metrics import mean_squared_error\n",
    "from sklearn.model_selection import train_test_split, GridSearchCV\n",
    "from sklearn.ensemble import RandomForestRegressor\n",
    "from sklearn.metrics import mean_squared_error, r2_score\n",
    "\n",
    "\n",
    "# Inicializa la autenticación y la inicialización de Google Earth Engine\n",
    "ee.Authenticate()\n",
    "ee.Initialize(project='ee-facuboladerasgee')"
   ]
  },
  {
   "cell_type": "code",
   "execution_count": 38,
   "metadata": {},
   "outputs": [
    {
     "data": {
      "text/html": [
       "\n",
       "            <style>\n",
       "                .geemap-dark {\n",
       "                    --jp-widgets-color: white;\n",
       "                    --jp-widgets-label-color: white;\n",
       "                    --jp-ui-font-color1: white;\n",
       "                    --jp-layout-color2: #454545;\n",
       "                    background-color: #383838;\n",
       "                }\n",
       "\n",
       "                .geemap-dark .jupyter-button {\n",
       "                    --jp-layout-color3: #383838;\n",
       "                }\n",
       "\n",
       "                .geemap-colab {\n",
       "                    background-color: var(--colab-primary-surface-color, white);\n",
       "                }\n",
       "\n",
       "                .geemap-colab .jupyter-button {\n",
       "                    --jp-layout-color3: var(--colab-primary-surface-color, white);\n",
       "                }\n",
       "            </style>\n",
       "            "
      ],
      "text/plain": [
       "<IPython.core.display.HTML object>"
      ]
     },
     "metadata": {},
     "output_type": "display_data"
    }
   ],
   "source": [
    "import os\n",
    "\n",
    "def combine_csv_files(folder_path):\n",
    "    # Lista para almacenar todos los DataFrames\n",
    "    df_list = []\n",
    "    \n",
    "    # Recorrer todos los archivos en la carpeta\n",
    "    for filename in os.listdir(folder_path):\n",
    "        if filename.endswith(\".csv\"):\n",
    "            file_path = os.path.join(folder_path, filename)\n",
    "            # Leer cada archivo CSV y agregarlo a la lista\n",
    "            df = pd.read_csv(file_path)\n",
    "            df_list.append(df)\n",
    "    \n",
    "    # Combinar todos los DataFrames en uno solo\n",
    "    combined_df = pd.concat(df_list, ignore_index=True)\n",
    "    \n",
    "    return combined_df\n",
    "\n",
    "# Ejemplo de uso\n",
    "folder_path_2019 = r'C://Users//Facu//Downloads//EE_Kisangani_reduced'\n",
    "combined_df = combine_csv_files(folder_path_2019)"
   ]
  },
  {
   "cell_type": "code",
   "execution_count": 3,
   "metadata": {},
   "outputs": [
    {
     "data": {
      "text/html": [
       "\n",
       "            <style>\n",
       "                .geemap-dark {\n",
       "                    --jp-widgets-color: white;\n",
       "                    --jp-widgets-label-color: white;\n",
       "                    --jp-ui-font-color1: white;\n",
       "                    --jp-layout-color2: #454545;\n",
       "                    background-color: #383838;\n",
       "                }\n",
       "                    \n",
       "                .geemap-dark .jupyter-button {\n",
       "                    --jp-layout-color3: #383838;\n",
       "                }\n",
       "                \n",
       "                .geemap-colab {\n",
       "                    background-color: var(--colab-primary-surface-color, white);\n",
       "                }\n",
       "                    \n",
       "                .geemap-colab .jupyter-button {\n",
       "                    --jp-layout-color3: var(--colab-primary-surface-color, white);\n",
       "                }\n",
       "            </style>\n",
       "            "
      ],
      "text/plain": [
       "<IPython.core.display.HTML object>"
      ]
     },
     "metadata": {},
     "output_type": "display_data"
    }
   ],
   "source": [
    "combined_df = pd.read_csv(r\"C:\\Users\\Facundo\\Downloads\\Datos_RF_2021_mdg_south.csv\")"
   ]
  },
  {
   "cell_type": "code",
   "execution_count": 4,
   "metadata": {},
   "outputs": [
    {
     "data": {
      "text/html": [
       "\n",
       "            <style>\n",
       "                .geemap-dark {\n",
       "                    --jp-widgets-color: white;\n",
       "                    --jp-widgets-label-color: white;\n",
       "                    --jp-ui-font-color1: white;\n",
       "                    --jp-layout-color2: #454545;\n",
       "                    background-color: #383838;\n",
       "                }\n",
       "                    \n",
       "                .geemap-dark .jupyter-button {\n",
       "                    --jp-layout-color3: #383838;\n",
       "                }\n",
       "                \n",
       "                .geemap-colab {\n",
       "                    background-color: var(--colab-primary-surface-color, white);\n",
       "                }\n",
       "                    \n",
       "                .geemap-colab .jupyter-button {\n",
       "                    --jp-layout-color3: var(--colab-primary-surface-color, white);\n",
       "                }\n",
       "            </style>\n",
       "            "
      ],
      "text/plain": [
       "<IPython.core.display.HTML object>"
      ]
     },
     "metadata": {},
     "output_type": "display_data"
    },
    {
     "name": "stdout",
     "output_type": "stream",
     "text": [
      "<class 'pandas.core.frame.DataFrame'>\n",
      "RangeIndex: 4422 entries, 0 to 4421\n",
      "Data columns (total 37 columns):\n",
      " #   Column             Non-Null Count  Dtype  \n",
      "---  ------             --------------  -----  \n",
      " 0   system:index       4422 non-null   int64  \n",
      " 1   CVI                4422 non-null   float64\n",
      " 2   EVI                4422 non-null   float64\n",
      " 3   HH_dB              4422 non-null   float64\n",
      " 4   HH_dB_Contrast     4422 non-null   float64\n",
      " 5   HH_dB_Correlation  4422 non-null   float64\n",
      " 6   HH_dB_Entropy      4422 non-null   float64\n",
      " 7   HH_dB_Inertia      4422 non-null   float64\n",
      " 8   HH_div_HV          4422 non-null   float64\n",
      " 9   HH_minus_HV        4422 non-null   float64\n",
      " 10  HH_plus_HV         4422 non-null   float64\n",
      " 11  HV_dB              4422 non-null   float64\n",
      " 12  HV_dB_Contrast     4422 non-null   float64\n",
      " 13  HV_dB_Correlation  4422 non-null   float64\n",
      " 14  HV_dB_Entropy      4422 non-null   float64\n",
      " 15  HV_dB_Inertia      4422 non-null   float64\n",
      " 16  MNDWI              4422 non-null   float64\n",
      " 17  NBR                4422 non-null   float64\n",
      " 18  NDBI               4422 non-null   float64\n",
      " 19  NDVI               4422 non-null   float64\n",
      " 20  NDWI               4422 non-null   float64\n",
      " 21  RVI                4422 non-null   float64\n",
      " 22  RVI_palsar         4422 non-null   float64\n",
      " 23  SAVI               4422 non-null   float64\n",
      " 24  SR_B2              4422 non-null   float64\n",
      " 25  SR_B3              4422 non-null   float64\n",
      " 26  SR_B4              4422 non-null   float64\n",
      " 27  SR_B5              4422 non-null   float64\n",
      " 28  SR_B6              4422 non-null   float64\n",
      " 29  agbd               4422 non-null   float64\n",
      " 30  agbd_1             4422 non-null   float64\n",
      " 31  agbd_se            4422 non-null   float64\n",
      " 32  aspect             4422 non-null   float64\n",
      " 33  elevation          4422 non-null   int64  \n",
      " 34  label              4422 non-null   float64\n",
      " 35  slope              4422 non-null   float64\n",
      " 36  .geo               4422 non-null   object \n",
      "dtypes: float64(34), int64(2), object(1)\n",
      "memory usage: 1.2+ MB\n"
     ]
    }
   ],
   "source": [
    "combined_df.info()"
   ]
  },
  {
   "cell_type": "code",
   "execution_count": 5,
   "metadata": {
    "colab": {
     "base_uri": "https://localhost:8080/",
     "height": 444
    },
    "executionInfo": {
     "elapsed": 519,
     "status": "ok",
     "timestamp": 1720555456337,
     "user": {
      "displayName": "Facundo Boladeras",
      "userId": "01521896121890286045"
     },
     "user_tz": 180
    },
    "id": "KqaaRE1DDRjz",
    "outputId": "ac0afc79-d30a-4b1b-c4c9-c5e682cb4816"
   },
   "outputs": [
    {
     "data": {
      "text/html": [
       "\n",
       "            <style>\n",
       "                .geemap-dark {\n",
       "                    --jp-widgets-color: white;\n",
       "                    --jp-widgets-label-color: white;\n",
       "                    --jp-ui-font-color1: white;\n",
       "                    --jp-layout-color2: #454545;\n",
       "                    background-color: #383838;\n",
       "                }\n",
       "                    \n",
       "                .geemap-dark .jupyter-button {\n",
       "                    --jp-layout-color3: #383838;\n",
       "                }\n",
       "                \n",
       "                .geemap-colab {\n",
       "                    background-color: var(--colab-primary-surface-color, white);\n",
       "                }\n",
       "                    \n",
       "                .geemap-colab .jupyter-button {\n",
       "                    --jp-layout-color3: var(--colab-primary-surface-color, white);\n",
       "                }\n",
       "            </style>\n",
       "            "
      ],
      "text/plain": [
       "<IPython.core.display.HTML object>"
      ]
     },
     "metadata": {},
     "output_type": "display_data"
    },
    {
     "data": {
      "text/html": [
       "<div>\n",
       "<style scoped>\n",
       "    .dataframe tbody tr th:only-of-type {\n",
       "        vertical-align: middle;\n",
       "    }\n",
       "\n",
       "    .dataframe tbody tr th {\n",
       "        vertical-align: top;\n",
       "    }\n",
       "\n",
       "    .dataframe thead th {\n",
       "        text-align: right;\n",
       "    }\n",
       "</style>\n",
       "<table border=\"1\" class=\"dataframe\">\n",
       "  <thead>\n",
       "    <tr style=\"text-align: right;\">\n",
       "      <th></th>\n",
       "      <th>system:index</th>\n",
       "      <th>CVI</th>\n",
       "      <th>EVI</th>\n",
       "      <th>HH_dB</th>\n",
       "      <th>HH_dB_Contrast</th>\n",
       "      <th>HH_dB_Correlation</th>\n",
       "      <th>HH_dB_Entropy</th>\n",
       "      <th>HH_dB_Inertia</th>\n",
       "      <th>HH_div_HV</th>\n",
       "      <th>HH_minus_HV</th>\n",
       "      <th>...</th>\n",
       "      <th>SR_B5</th>\n",
       "      <th>SR_B6</th>\n",
       "      <th>agbd</th>\n",
       "      <th>agbd_1</th>\n",
       "      <th>agbd_se</th>\n",
       "      <th>aspect</th>\n",
       "      <th>elevation</th>\n",
       "      <th>label</th>\n",
       "      <th>slope</th>\n",
       "      <th>threshold</th>\n",
       "    </tr>\n",
       "  </thead>\n",
       "  <tbody>\n",
       "    <tr>\n",
       "      <th>count</th>\n",
       "      <td>4422.000000</td>\n",
       "      <td>4422.000000</td>\n",
       "      <td>4422.000000</td>\n",
       "      <td>4.422000e+03</td>\n",
       "      <td>4.422000e+03</td>\n",
       "      <td>4422.000000</td>\n",
       "      <td>4422.000000</td>\n",
       "      <td>4.422000e+03</td>\n",
       "      <td>4422.000000</td>\n",
       "      <td>4.422000e+03</td>\n",
       "      <td>...</td>\n",
       "      <td>4422.000000</td>\n",
       "      <td>4422.000000</td>\n",
       "      <td>4422.000000</td>\n",
       "      <td>4422.000000</td>\n",
       "      <td>4422.000000</td>\n",
       "      <td>4422.000000</td>\n",
       "      <td>4422.000000</td>\n",
       "      <td>4422.000000</td>\n",
       "      <td>4422.000000</td>\n",
       "      <td>4422.000000</td>\n",
       "    </tr>\n",
       "    <tr>\n",
       "      <th>mean</th>\n",
       "      <td>2210.500000</td>\n",
       "      <td>16801.544182</td>\n",
       "      <td>2.066955</td>\n",
       "      <td>-4.163231e+13</td>\n",
       "      <td>1.175859e+15</td>\n",
       "      <td>0.326735</td>\n",
       "      <td>4.420089</td>\n",
       "      <td>1.175859e+15</td>\n",
       "      <td>0.584453</td>\n",
       "      <td>2.225179e+13</td>\n",
       "      <td>...</td>\n",
       "      <td>16723.384781</td>\n",
       "      <td>14494.750565</td>\n",
       "      <td>71.046078</td>\n",
       "      <td>71.046078</td>\n",
       "      <td>12.455608</td>\n",
       "      <td>169.377570</td>\n",
       "      <td>415.641113</td>\n",
       "      <td>2.276119</td>\n",
       "      <td>14.325847</td>\n",
       "      <td>60.869941</td>\n",
       "    </tr>\n",
       "    <tr>\n",
       "      <th>std</th>\n",
       "      <td>1276.665775</td>\n",
       "      <td>2219.713614</td>\n",
       "      <td>4.706625</td>\n",
       "      <td>2.768470e+15</td>\n",
       "      <td>1.180452e+16</td>\n",
       "      <td>0.167760</td>\n",
       "      <td>0.513660</td>\n",
       "      <td>1.180452e+16</td>\n",
       "      <td>0.102481</td>\n",
       "      <td>1.479702e+15</td>\n",
       "      <td>...</td>\n",
       "      <td>2221.229937</td>\n",
       "      <td>2964.409019</td>\n",
       "      <td>96.708707</td>\n",
       "      <td>96.708707</td>\n",
       "      <td>6.541622</td>\n",
       "      <td>99.941537</td>\n",
       "      <td>415.414678</td>\n",
       "      <td>1.827425</td>\n",
       "      <td>10.417435</td>\n",
       "      <td>62.298049</td>\n",
       "    </tr>\n",
       "    <tr>\n",
       "      <th>min</th>\n",
       "      <td>0.000000</td>\n",
       "      <td>7630.583500</td>\n",
       "      <td>-25.771084</td>\n",
       "      <td>-1.840981e+17</td>\n",
       "      <td>1.097955e+00</td>\n",
       "      <td>-0.137803</td>\n",
       "      <td>2.206913</td>\n",
       "      <td>1.097955e+00</td>\n",
       "      <td>-0.894962</td>\n",
       "      <td>-2.127535e+02</td>\n",
       "      <td>...</td>\n",
       "      <td>8007.000000</td>\n",
       "      <td>7907.500000</td>\n",
       "      <td>0.834731</td>\n",
       "      <td>0.834731</td>\n",
       "      <td>2.981795</td>\n",
       "      <td>-0.000000</td>\n",
       "      <td>-2.000000</td>\n",
       "      <td>0.000000</td>\n",
       "      <td>0.000000</td>\n",
       "      <td>0.535848</td>\n",
       "    </tr>\n",
       "    <tr>\n",
       "      <th>25%</th>\n",
       "      <td>1105.250000</td>\n",
       "      <td>15299.953750</td>\n",
       "      <td>1.197918</td>\n",
       "      <td>-1.677880e+01</td>\n",
       "      <td>1.071386e+01</td>\n",
       "      <td>0.210147</td>\n",
       "      <td>4.183882</td>\n",
       "      <td>1.071386e+01</td>\n",
       "      <td>0.536774</td>\n",
       "      <td>6.973946e+00</td>\n",
       "      <td>...</td>\n",
       "      <td>15200.625000</td>\n",
       "      <td>12089.625000</td>\n",
       "      <td>11.271349</td>\n",
       "      <td>11.271349</td>\n",
       "      <td>4.167980</td>\n",
       "      <td>87.622693</td>\n",
       "      <td>63.000000</td>\n",
       "      <td>1.000000</td>\n",
       "      <td>4.255210</td>\n",
       "      <td>12.632623</td>\n",
       "    </tr>\n",
       "    <tr>\n",
       "      <th>50%</th>\n",
       "      <td>2210.500000</td>\n",
       "      <td>16872.130000</td>\n",
       "      <td>1.887395</td>\n",
       "      <td>-1.271104e+01</td>\n",
       "      <td>2.306261e+01</td>\n",
       "      <td>0.326062</td>\n",
       "      <td>4.532621</td>\n",
       "      <td>2.306261e+01</td>\n",
       "      <td>0.598564</td>\n",
       "      <td>9.007083e+00</td>\n",
       "      <td>...</td>\n",
       "      <td>16782.000000</td>\n",
       "      <td>14280.250000</td>\n",
       "      <td>22.639543</td>\n",
       "      <td>22.639543</td>\n",
       "      <td>17.122165</td>\n",
       "      <td>159.817260</td>\n",
       "      <td>284.000000</td>\n",
       "      <td>1.000000</td>\n",
       "      <td>13.791158</td>\n",
       "      <td>33.251474</td>\n",
       "    </tr>\n",
       "    <tr>\n",
       "      <th>75%</th>\n",
       "      <td>3315.750000</td>\n",
       "      <td>18245.599000</td>\n",
       "      <td>2.821995</td>\n",
       "      <td>-9.580622e+00</td>\n",
       "      <td>6.128790e+01</td>\n",
       "      <td>0.442744</td>\n",
       "      <td>4.801412</td>\n",
       "      <td>6.128790e+01</td>\n",
       "      <td>0.648692</td>\n",
       "      <td>1.148013e+01</td>\n",
       "      <td>...</td>\n",
       "      <td>18228.000000</td>\n",
       "      <td>16398.625000</td>\n",
       "      <td>106.440810</td>\n",
       "      <td>106.440810</td>\n",
       "      <td>17.131213</td>\n",
       "      <td>256.501150</td>\n",
       "      <td>665.750000</td>\n",
       "      <td>5.000000</td>\n",
       "      <td>22.506863</td>\n",
       "      <td>98.305498</td>\n",
       "    </tr>\n",
       "    <tr>\n",
       "      <th>max</th>\n",
       "      <td>4421.000000</td>\n",
       "      <td>26993.684000</td>\n",
       "      <td>252.777778</td>\n",
       "      <td>6.925370e+02</td>\n",
       "      <td>3.029097e+17</td>\n",
       "      <td>0.894837</td>\n",
       "      <td>5.220150</td>\n",
       "      <td>3.029097e+17</td>\n",
       "      <td>0.870691</td>\n",
       "      <td>9.839741e+16</td>\n",
       "      <td>...</td>\n",
       "      <td>23926.000000</td>\n",
       "      <td>27240.000000</td>\n",
       "      <td>1245.977500</td>\n",
       "      <td>1245.977500</td>\n",
       "      <td>17.300920</td>\n",
       "      <td>359.135000</td>\n",
       "      <td>1898.000000</td>\n",
       "      <td>8.000000</td>\n",
       "      <td>52.862350</td>\n",
       "      <td>360.431924</td>\n",
       "    </tr>\n",
       "  </tbody>\n",
       "</table>\n",
       "<p>8 rows × 37 columns</p>\n",
       "</div>"
      ],
      "text/plain": [
       "       system:index           CVI          EVI         HH_dB  HH_dB_Contrast  \\\n",
       "count   4422.000000   4422.000000  4422.000000  4.422000e+03    4.422000e+03   \n",
       "mean    2210.500000  16801.544182     2.066955 -4.163231e+13    1.175859e+15   \n",
       "std     1276.665775   2219.713614     4.706625  2.768470e+15    1.180452e+16   \n",
       "min        0.000000   7630.583500   -25.771084 -1.840981e+17    1.097955e+00   \n",
       "25%     1105.250000  15299.953750     1.197918 -1.677880e+01    1.071386e+01   \n",
       "50%     2210.500000  16872.130000     1.887395 -1.271104e+01    2.306261e+01   \n",
       "75%     3315.750000  18245.599000     2.821995 -9.580622e+00    6.128790e+01   \n",
       "max     4421.000000  26993.684000   252.777778  6.925370e+02    3.029097e+17   \n",
       "\n",
       "       HH_dB_Correlation  HH_dB_Entropy  HH_dB_Inertia    HH_div_HV  \\\n",
       "count        4422.000000    4422.000000   4.422000e+03  4422.000000   \n",
       "mean            0.326735       4.420089   1.175859e+15     0.584453   \n",
       "std             0.167760       0.513660   1.180452e+16     0.102481   \n",
       "min            -0.137803       2.206913   1.097955e+00    -0.894962   \n",
       "25%             0.210147       4.183882   1.071386e+01     0.536774   \n",
       "50%             0.326062       4.532621   2.306261e+01     0.598564   \n",
       "75%             0.442744       4.801412   6.128790e+01     0.648692   \n",
       "max             0.894837       5.220150   3.029097e+17     0.870691   \n",
       "\n",
       "        HH_minus_HV  ...         SR_B5         SR_B6         agbd  \\\n",
       "count  4.422000e+03  ...   4422.000000   4422.000000  4422.000000   \n",
       "mean   2.225179e+13  ...  16723.384781  14494.750565    71.046078   \n",
       "std    1.479702e+15  ...   2221.229937   2964.409019    96.708707   \n",
       "min   -2.127535e+02  ...   8007.000000   7907.500000     0.834731   \n",
       "25%    6.973946e+00  ...  15200.625000  12089.625000    11.271349   \n",
       "50%    9.007083e+00  ...  16782.000000  14280.250000    22.639543   \n",
       "75%    1.148013e+01  ...  18228.000000  16398.625000   106.440810   \n",
       "max    9.839741e+16  ...  23926.000000  27240.000000  1245.977500   \n",
       "\n",
       "            agbd_1      agbd_se       aspect    elevation        label  \\\n",
       "count  4422.000000  4422.000000  4422.000000  4422.000000  4422.000000   \n",
       "mean     71.046078    12.455608   169.377570   415.641113     2.276119   \n",
       "std      96.708707     6.541622    99.941537   415.414678     1.827425   \n",
       "min       0.834731     2.981795    -0.000000    -2.000000     0.000000   \n",
       "25%      11.271349     4.167980    87.622693    63.000000     1.000000   \n",
       "50%      22.639543    17.122165   159.817260   284.000000     1.000000   \n",
       "75%     106.440810    17.131213   256.501150   665.750000     5.000000   \n",
       "max    1245.977500    17.300920   359.135000  1898.000000     8.000000   \n",
       "\n",
       "             slope    threshold  \n",
       "count  4422.000000  4422.000000  \n",
       "mean     14.325847    60.869941  \n",
       "std      10.417435    62.298049  \n",
       "min       0.000000     0.535848  \n",
       "25%       4.255210    12.632623  \n",
       "50%      13.791158    33.251474  \n",
       "75%      22.506863    98.305498  \n",
       "max      52.862350   360.431924  \n",
       "\n",
       "[8 rows x 37 columns]"
      ]
     },
     "execution_count": 5,
     "metadata": {},
     "output_type": "execute_result"
    }
   ],
   "source": [
    "combined_df['threshold'] = (combined_df['agbd_se'] / combined_df['agbd']) * 100\n",
    "# combined_df = combined_df.loc[combined_df['Slope'] <= 25]\n",
    "\n",
    "combined_df.describe()"
   ]
  },
  {
   "cell_type": "code",
   "execution_count": 6,
   "metadata": {
    "colab": {
     "base_uri": "https://localhost:8080/",
     "height": 444
    },
    "executionInfo": {
     "elapsed": 402,
     "status": "ok",
     "timestamp": 1720555485189,
     "user": {
      "displayName": "Facundo Boladeras",
      "userId": "01521896121890286045"
     },
     "user_tz": 180
    },
    "id": "ZDLfd2ztGLHr",
    "outputId": "6a943db8-ff1b-42a7-f36c-ba4afd132bf0"
   },
   "outputs": [
    {
     "data": {
      "text/html": [
       "\n",
       "            <style>\n",
       "                .geemap-dark {\n",
       "                    --jp-widgets-color: white;\n",
       "                    --jp-widgets-label-color: white;\n",
       "                    --jp-ui-font-color1: white;\n",
       "                    --jp-layout-color2: #454545;\n",
       "                    background-color: #383838;\n",
       "                }\n",
       "                    \n",
       "                .geemap-dark .jupyter-button {\n",
       "                    --jp-layout-color3: #383838;\n",
       "                }\n",
       "                \n",
       "                .geemap-colab {\n",
       "                    background-color: var(--colab-primary-surface-color, white);\n",
       "                }\n",
       "                    \n",
       "                .geemap-colab .jupyter-button {\n",
       "                    --jp-layout-color3: var(--colab-primary-surface-color, white);\n",
       "                }\n",
       "            </style>\n",
       "            "
      ],
      "text/plain": [
       "<IPython.core.display.HTML object>"
      ]
     },
     "metadata": {},
     "output_type": "display_data"
    }
   ],
   "source": [
    "# df_filtered = combined_df[combined_df['threshold'] <100]\n",
    "# df_filtered.info()"
   ]
  },
  {
   "cell_type": "code",
   "execution_count": 7,
   "metadata": {},
   "outputs": [
    {
     "data": {
      "text/html": [
       "\n",
       "            <style>\n",
       "                .geemap-dark {\n",
       "                    --jp-widgets-color: white;\n",
       "                    --jp-widgets-label-color: white;\n",
       "                    --jp-ui-font-color1: white;\n",
       "                    --jp-layout-color2: #454545;\n",
       "                    background-color: #383838;\n",
       "                }\n",
       "                    \n",
       "                .geemap-dark .jupyter-button {\n",
       "                    --jp-layout-color3: #383838;\n",
       "                }\n",
       "                \n",
       "                .geemap-colab {\n",
       "                    background-color: var(--colab-primary-surface-color, white);\n",
       "                }\n",
       "                    \n",
       "                .geemap-colab .jupyter-button {\n",
       "                    --jp-layout-color3: var(--colab-primary-surface-color, white);\n",
       "                }\n",
       "            </style>\n",
       "            "
      ],
      "text/plain": [
       "<IPython.core.display.HTML object>"
      ]
     },
     "metadata": {},
     "output_type": "display_data"
    },
    {
     "name": "stdout",
     "output_type": "stream",
     "text": [
      "<class 'pandas.core.frame.DataFrame'>\n",
      "Index: 4230 entries, 0 to 4421\n",
      "Data columns (total 38 columns):\n",
      " #   Column             Non-Null Count  Dtype  \n",
      "---  ------             --------------  -----  \n",
      " 0   system:index       4230 non-null   int64  \n",
      " 1   CVI                4230 non-null   float64\n",
      " 2   EVI                4230 non-null   float64\n",
      " 3   HH_dB              4230 non-null   float64\n",
      " 4   HH_dB_Contrast     4230 non-null   float64\n",
      " 5   HH_dB_Correlation  4230 non-null   float64\n",
      " 6   HH_dB_Entropy      4230 non-null   float64\n",
      " 7   HH_dB_Inertia      4230 non-null   float64\n",
      " 8   HH_div_HV          4230 non-null   float64\n",
      " 9   HH_minus_HV        4230 non-null   float64\n",
      " 10  HH_plus_HV         4230 non-null   float64\n",
      " 11  HV_dB              4230 non-null   float64\n",
      " 12  HV_dB_Contrast     4230 non-null   float64\n",
      " 13  HV_dB_Correlation  4230 non-null   float64\n",
      " 14  HV_dB_Entropy      4230 non-null   float64\n",
      " 15  HV_dB_Inertia      4230 non-null   float64\n",
      " 16  MNDWI              4230 non-null   float64\n",
      " 17  NBR                4230 non-null   float64\n",
      " 18  NDBI               4230 non-null   float64\n",
      " 19  NDVI               4230 non-null   float64\n",
      " 20  NDWI               4230 non-null   float64\n",
      " 21  RVI                4230 non-null   float64\n",
      " 22  RVI_palsar         4230 non-null   float64\n",
      " 23  SAVI               4230 non-null   float64\n",
      " 24  SR_B2              4230 non-null   float64\n",
      " 25  SR_B3              4230 non-null   float64\n",
      " 26  SR_B4              4230 non-null   float64\n",
      " 27  SR_B5              4230 non-null   float64\n",
      " 28  SR_B6              4230 non-null   float64\n",
      " 29  agbd               4230 non-null   float64\n",
      " 30  agbd_1             4230 non-null   float64\n",
      " 31  agbd_se            4230 non-null   float64\n",
      " 32  aspect             4230 non-null   float64\n",
      " 33  elevation          4230 non-null   int64  \n",
      " 34  label              4230 non-null   float64\n",
      " 35  slope              4230 non-null   float64\n",
      " 36  .geo               4230 non-null   object \n",
      " 37  threshold          4230 non-null   float64\n",
      "dtypes: float64(35), int64(2), object(1)\n",
      "memory usage: 1.3+ MB\n"
     ]
    }
   ],
   "source": [
    "def remove_outliers(df, column_name):\n",
    "\n",
    "    mean = df[column_name].mean()\n",
    "    std_dev = df[column_name].std()    \n",
    "    threshold = 2 * std_dev    \n",
    "    condition = (df[column_name] >= (mean - threshold)) & (df[column_name] <= (mean + threshold))    \n",
    "    df_filtered = df[condition]\n",
    "    \n",
    "    return df_filtered\n",
    "\n",
    "df_filtered_remove = remove_outliers(combined_df, \"agbd\")\n",
    "df_filtered_remove.info()"
   ]
  },
  {
   "cell_type": "code",
   "execution_count": 8,
   "metadata": {},
   "outputs": [
    {
     "data": {
      "text/html": [
       "\n",
       "            <style>\n",
       "                .geemap-dark {\n",
       "                    --jp-widgets-color: white;\n",
       "                    --jp-widgets-label-color: white;\n",
       "                    --jp-ui-font-color1: white;\n",
       "                    --jp-layout-color2: #454545;\n",
       "                    background-color: #383838;\n",
       "                }\n",
       "                    \n",
       "                .geemap-dark .jupyter-button {\n",
       "                    --jp-layout-color3: #383838;\n",
       "                }\n",
       "                \n",
       "                .geemap-colab {\n",
       "                    background-color: var(--colab-primary-surface-color, white);\n",
       "                }\n",
       "                    \n",
       "                .geemap-colab .jupyter-button {\n",
       "                    --jp-layout-color3: var(--colab-primary-surface-color, white);\n",
       "                }\n",
       "            </style>\n",
       "            "
      ],
      "text/plain": [
       "<IPython.core.display.HTML object>"
      ]
     },
     "metadata": {},
     "output_type": "display_data"
    },
    {
     "name": "stdout",
     "output_type": "stream",
     "text": [
      "<class 'pandas.core.frame.DataFrame'>\n",
      "Index: 4230 entries, 0 to 4421\n",
      "Data columns (total 38 columns):\n",
      " #   Column             Non-Null Count  Dtype  \n",
      "---  ------             --------------  -----  \n",
      " 0   system:index       4230 non-null   int64  \n",
      " 1   CVI                4230 non-null   float64\n",
      " 2   EVI                4230 non-null   float64\n",
      " 3   HH_dB              4230 non-null   float64\n",
      " 4   HH_dB_Contrast     4230 non-null   float64\n",
      " 5   HH_dB_Correlation  4230 non-null   float64\n",
      " 6   HH_dB_Entropy      4230 non-null   float64\n",
      " 7   HH_dB_Inertia      4230 non-null   float64\n",
      " 8   HH_div_HV          4230 non-null   float64\n",
      " 9   HH_minus_HV        4230 non-null   float64\n",
      " 10  HH_plus_HV         4230 non-null   float64\n",
      " 11  HV_dB              4230 non-null   float64\n",
      " 12  HV_dB_Contrast     4230 non-null   float64\n",
      " 13  HV_dB_Correlation  4230 non-null   float64\n",
      " 14  HV_dB_Entropy      4230 non-null   float64\n",
      " 15  HV_dB_Inertia      4230 non-null   float64\n",
      " 16  MNDWI              4230 non-null   float64\n",
      " 17  NBR                4230 non-null   float64\n",
      " 18  NDBI               4230 non-null   float64\n",
      " 19  NDVI               4230 non-null   float64\n",
      " 20  NDWI               4230 non-null   float64\n",
      " 21  RVI                4230 non-null   float64\n",
      " 22  RVI_palsar         4230 non-null   float64\n",
      " 23  SAVI               4230 non-null   float64\n",
      " 24  SR_B2              4230 non-null   float64\n",
      " 25  SR_B3              4230 non-null   float64\n",
      " 26  SR_B4              4230 non-null   float64\n",
      " 27  SR_B5              4230 non-null   float64\n",
      " 28  SR_B6              4230 non-null   float64\n",
      " 29  agbd               4230 non-null   float64\n",
      " 30  agbd_1             4230 non-null   float64\n",
      " 31  agbd_se            4230 non-null   float64\n",
      " 32  aspect             4230 non-null   float64\n",
      " 33  elevation          4230 non-null   int64  \n",
      " 34  label              4230 non-null   float64\n",
      " 35  slope              4230 non-null   float64\n",
      " 36  .geo               4230 non-null   object \n",
      " 37  threshold          4230 non-null   float64\n",
      "dtypes: float64(35), int64(2), object(1)\n",
      "memory usage: 1.3+ MB\n"
     ]
    }
   ],
   "source": [
    "df_nuevo = df_filtered_remove[df_filtered_remove['agbd'] <= 550]\n",
    "df_nuevo.info()"
   ]
  },
  {
   "cell_type": "code",
   "execution_count": 14,
   "metadata": {},
   "outputs": [
    {
     "data": {
      "text/html": [
       "\n",
       "            <style>\n",
       "                .geemap-dark {\n",
       "                    --jp-widgets-color: white;\n",
       "                    --jp-widgets-label-color: white;\n",
       "                    --jp-ui-font-color1: white;\n",
       "                    --jp-layout-color2: #454545;\n",
       "                    background-color: #383838;\n",
       "                }\n",
       "                    \n",
       "                .geemap-dark .jupyter-button {\n",
       "                    --jp-layout-color3: #383838;\n",
       "                }\n",
       "                \n",
       "                .geemap-colab {\n",
       "                    background-color: var(--colab-primary-surface-color, white);\n",
       "                }\n",
       "                    \n",
       "                .geemap-colab .jupyter-button {\n",
       "                    --jp-layout-color3: var(--colab-primary-surface-color, white);\n",
       "                }\n",
       "            </style>\n",
       "            "
      ],
      "text/plain": [
       "<IPython.core.display.HTML object>"
      ]
     },
     "metadata": {},
     "output_type": "display_data"
    },
    {
     "name": "stdout",
     "output_type": "stream",
     "text": [
      "<class 'pandas.core.frame.DataFrame'>\n",
      "Index: 4230 entries, 0 to 4421\n",
      "Data columns (total 33 columns):\n",
      " #   Column             Non-Null Count  Dtype  \n",
      "---  ------             --------------  -----  \n",
      " 0   CVI                4230 non-null   float64\n",
      " 1   EVI                4230 non-null   float64\n",
      " 2   HH_dB              4230 non-null   float64\n",
      " 3   HH_dB_Contrast     4230 non-null   float64\n",
      " 4   HH_dB_Correlation  4230 non-null   float64\n",
      " 5   HH_dB_Entropy      4230 non-null   float64\n",
      " 6   HH_dB_Inertia      4230 non-null   float64\n",
      " 7   HH_div_HV          4230 non-null   float64\n",
      " 8   HH_minus_HV        4230 non-null   float64\n",
      " 9   HH_plus_HV         4230 non-null   float64\n",
      " 10  HV_dB              4230 non-null   float64\n",
      " 11  HV_dB_Contrast     4230 non-null   float64\n",
      " 12  HV_dB_Correlation  4230 non-null   float64\n",
      " 13  HV_dB_Entropy      4230 non-null   float64\n",
      " 14  HV_dB_Inertia      4230 non-null   float64\n",
      " 15  MNDWI              4230 non-null   float64\n",
      " 16  NBR                4230 non-null   float64\n",
      " 17  NDBI               4230 non-null   float64\n",
      " 18  NDVI               4230 non-null   float64\n",
      " 19  NDWI               4230 non-null   float64\n",
      " 20  RVI                4230 non-null   float64\n",
      " 21  RVI_palsar         4230 non-null   float64\n",
      " 22  SAVI               4230 non-null   float64\n",
      " 23  SR_B2              4230 non-null   float64\n",
      " 24  SR_B3              4230 non-null   float64\n",
      " 25  SR_B4              4230 non-null   float64\n",
      " 26  SR_B5              4230 non-null   float64\n",
      " 27  SR_B6              4230 non-null   float64\n",
      " 28  agbd               4230 non-null   float64\n",
      " 29  aspect             4230 non-null   float64\n",
      " 30  elevation          4230 non-null   int64  \n",
      " 31  label              4230 non-null   float64\n",
      " 32  slope              4230 non-null   float64\n",
      "dtypes: float64(32), int64(1)\n",
      "memory usage: 1.1 MB\n"
     ]
    }
   ],
   "source": [
    "def drop_columns(df, columns_to_drop):\n",
    "    return df.drop(columns=columns_to_drop)\n",
    "\n",
    "columns_to_drop = ['.geo','system:index', 'agbd_se','agbd_1', 'threshold']\n",
    "df_modified = drop_columns(df_nuevo, columns_to_drop)\n",
    "df_modified.info()"
   ]
  },
  {
   "cell_type": "code",
   "execution_count": 11,
   "metadata": {
    "colab": {
     "base_uri": "https://localhost:8080/",
     "height": 34
    },
    "executionInfo": {
     "elapsed": 404,
     "status": "ok",
     "timestamp": 1720555520135,
     "user": {
      "displayName": "Facundo Boladeras",
      "userId": "01521896121890286045"
     },
     "user_tz": 180
    },
    "id": "8zyy7_3GtsPX",
    "outputId": "a2ce4d60-60e0-4e8e-c4b6-e7835063d450"
   },
   "outputs": [
    {
     "data": {
      "text/html": [
       "\n",
       "            <style>\n",
       "                .geemap-dark {\n",
       "                    --jp-widgets-color: white;\n",
       "                    --jp-widgets-label-color: white;\n",
       "                    --jp-ui-font-color1: white;\n",
       "                    --jp-layout-color2: #454545;\n",
       "                    background-color: #383838;\n",
       "                }\n",
       "                    \n",
       "                .geemap-dark .jupyter-button {\n",
       "                    --jp-layout-color3: #383838;\n",
       "                }\n",
       "                \n",
       "                .geemap-colab {\n",
       "                    background-color: var(--colab-primary-surface-color, white);\n",
       "                }\n",
       "                    \n",
       "                .geemap-colab .jupyter-button {\n",
       "                    --jp-layout-color3: var(--colab-primary-surface-color, white);\n",
       "                }\n",
       "            </style>\n",
       "            "
      ],
      "text/plain": [
       "<IPython.core.display.HTML object>"
      ]
     },
     "metadata": {},
     "output_type": "display_data"
    },
    {
     "name": "stdout",
     "output_type": "stream",
     "text": [
      "['CVI', 'EVI', 'HH_dB', 'HH_dB_Contrast', 'HH_dB_Correlation', 'HH_dB_Entropy', 'HH_dB_Inertia', 'HH_div_HV', 'HH_minus_HV', 'HH_plus_HV', 'HV_dB', 'HV_dB_Contrast', 'HV_dB_Correlation', 'HV_dB_Entropy', 'HV_dB_Inertia', 'MNDWI', 'NBR', 'NDBI', 'NDVI', 'NDWI', 'RVI', 'RVI_palsar', 'SAVI', 'SR_B2', 'SR_B3', 'SR_B4', 'SR_B5', 'SR_B6', 'agbd', 'aspect', 'elevation', 'label', 'slope', 'threshold']\n"
     ]
    }
   ],
   "source": [
    "features = [col for col in df_modified.columns if col not in ['.geo', 'system:index']]\n",
    "print(features)"
   ]
  },
  {
   "cell_type": "code",
   "execution_count": 25,
   "metadata": {},
   "outputs": [
    {
     "data": {
      "text/html": [
       "\n",
       "            <style>\n",
       "                .geemap-dark {\n",
       "                    --jp-widgets-color: white;\n",
       "                    --jp-widgets-label-color: white;\n",
       "                    --jp-ui-font-color1: white;\n",
       "                    --jp-layout-color2: #454545;\n",
       "                    background-color: #383838;\n",
       "                }\n",
       "                    \n",
       "                .geemap-dark .jupyter-button {\n",
       "                    --jp-layout-color3: #383838;\n",
       "                }\n",
       "                \n",
       "                .geemap-colab {\n",
       "                    background-color: var(--colab-primary-surface-color, white);\n",
       "                }\n",
       "                    \n",
       "                .geemap-colab .jupyter-button {\n",
       "                    --jp-layout-color3: var(--colab-primary-surface-color, white);\n",
       "                }\n",
       "            </style>\n",
       "            "
      ],
      "text/plain": [
       "<IPython.core.display.HTML object>"
      ]
     },
     "metadata": {},
     "output_type": "display_data"
    }
   ],
   "source": [
    "feature_names =  ['CVI', 'EVI', 'HH_dB', 'HH_dB_Contrast', 'HH_dB_Correlation', 'HH_dB_Entropy', 'HH_dB_Inertia', 'HH_div_HV', 'HH_minus_HV', 'HH_plus_HV', 'HV_dB', 'HV_dB_Contrast', 'HV_dB_Correlation', 'HV_dB_Entropy', 'HV_dB_Inertia', 'MNDWI', 'NBR', 'NDBI', 'NDVI', 'NDWI', 'RVI', 'RVI_palsar', 'SAVI', 'SR_B2', 'SR_B3', 'SR_B4', 'SR_B5', 'SR_B6', 'agbd', 'aspect', 'elevation', 'label', 'slope']\n",
    "\n",
    "reduced = [\n",
    "    \"SR_B4\",\n",
    "    \"slope\",\n",
    "    \"elevation\",\n",
    "    \"NDBI\",\n",
    "    \"EVI\",\n",
    "    \"SR_B3\",\n",
    "    \"NDWI\",\n",
    "    \"aspect\",\n",
    "    \"SR_B2\",\n",
    "    \"HV_dB_Entropy\",\n",
    "    \"HV_dB_Correlation\",\n",
    "    \"NBR\",\n",
    "    \"HH_dB_Correlation\",\n",
    "    \"HH_minus_HV\",\n",
    "    \"HV_dB\",\n",
    "    \"HH_dB_Entropy\",\n",
    "    \"HH_dB\",\n",
    "    \"MNDWI\",\n",
    "    \"RVI_palsar\",\n",
    "    \"HH_plus_HV\",\n",
    "    'agbd'\n",
    "]\n",
    "\n",
    "\n",
    "radar = ['CH', 'B8','elevation', 'slope', 'NDBI', 'VV_minus_VH' , 'EVI',  'VH_Entropy', 'B11', 'aspect','VV_Correlation', 'VV', 'agbd']\n",
    "\n",
    "\n",
    "# # # feature_names_s2_palsar =  ['agbd','B11', 'B12', 'B2', 'B3', 'B4', 'B8', 'CH', 'EVI', 'HH', 'HH_HV_div_2', 'HH_div_HV', 'HH_minus_HV', 'HH_plus_HV', 'HV', 'MNDWI', 'NDBI', 'NDVI', 'RVI_palsar', 'SAVI', 'elevation', 'slope']\n",
    "# feature_names_reduced =  ['agbd','NDBI','MNDWI','HV_dB','SR_B4','SR_B3','elevation','slope','EVI','HV_dB_Entropy','HV_dB_Correlation','SR_B2','HH_dB_Correlation','SR_B1','aspect']\n",
    "\n",
    "df_reduce = df_modified[reduced]"
   ]
  },
  {
   "cell_type": "code",
   "execution_count": 26,
   "metadata": {
    "colab": {
     "base_uri": "https://localhost:8080/",
     "height": 424
    },
    "executionInfo": {
     "elapsed": 397,
     "status": "ok",
     "timestamp": 1720555584979,
     "user": {
      "displayName": "Facundo Boladeras",
      "userId": "01521896121890286045"
     },
     "user_tz": 180
    },
    "id": "-FiQyHS5tu_d",
    "outputId": "87a2daac-944f-4ee8-8188-ea118cb8a8f7"
   },
   "outputs": [
    {
     "data": {
      "text/html": [
       "\n",
       "            <style>\n",
       "                .geemap-dark {\n",
       "                    --jp-widgets-color: white;\n",
       "                    --jp-widgets-label-color: white;\n",
       "                    --jp-ui-font-color1: white;\n",
       "                    --jp-layout-color2: #454545;\n",
       "                    background-color: #383838;\n",
       "                }\n",
       "                    \n",
       "                .geemap-dark .jupyter-button {\n",
       "                    --jp-layout-color3: #383838;\n",
       "                }\n",
       "                \n",
       "                .geemap-colab {\n",
       "                    background-color: var(--colab-primary-surface-color, white);\n",
       "                }\n",
       "                    \n",
       "                .geemap-colab .jupyter-button {\n",
       "                    --jp-layout-color3: var(--colab-primary-surface-color, white);\n",
       "                }\n",
       "            </style>\n",
       "            "
      ],
      "text/plain": [
       "<IPython.core.display.HTML object>"
      ]
     },
     "metadata": {},
     "output_type": "display_data"
    },
    {
     "name": "stdout",
     "output_type": "stream",
     "text": [
      "<class 'pandas.core.frame.DataFrame'>\n",
      "Index: 4230 entries, 0 to 4421\n",
      "Data columns (total 20 columns):\n",
      " #   Column             Non-Null Count  Dtype  \n",
      "---  ------             --------------  -----  \n",
      " 0   SR_B4              4230 non-null   float64\n",
      " 1   slope              4230 non-null   float64\n",
      " 2   elevation          4230 non-null   int64  \n",
      " 3   NDBI               4230 non-null   float64\n",
      " 4   EVI                4230 non-null   float64\n",
      " 5   SR_B3              4230 non-null   float64\n",
      " 6   NDWI               4230 non-null   float64\n",
      " 7   aspect             4230 non-null   float64\n",
      " 8   SR_B2              4230 non-null   float64\n",
      " 9   HV_dB_Entropy      4230 non-null   float64\n",
      " 10  HV_dB_Correlation  4230 non-null   float64\n",
      " 11  NBR                4230 non-null   float64\n",
      " 12  HH_dB_Correlation  4230 non-null   float64\n",
      " 13  HH_minus_HV        4230 non-null   float64\n",
      " 14  HV_dB              4230 non-null   float64\n",
      " 15  HH_dB_Entropy      4230 non-null   float64\n",
      " 16  HH_dB              4230 non-null   float64\n",
      " 17  MNDWI              4230 non-null   float64\n",
      " 18  RVI_palsar         4230 non-null   float64\n",
      " 19  HH_plus_HV         4230 non-null   float64\n",
      "dtypes: float64(19), int64(1)\n",
      "memory usage: 694.0 KB\n"
     ]
    }
   ],
   "source": [
    "y = df_reduce['agbd']\n",
    "X = df_reduce.drop(columns=['agbd'])\n",
    "\n",
    "X.info()"
   ]
  },
  {
   "cell_type": "code",
   "execution_count": 27,
   "metadata": {
    "colab": {
     "base_uri": "https://localhost:8080/",
     "height": 17
    },
    "executionInfo": {
     "elapsed": 3,
     "status": "ok",
     "timestamp": 1720555620905,
     "user": {
      "displayName": "Facundo Boladeras",
      "userId": "01521896121890286045"
     },
     "user_tz": 180
    },
    "id": "TWiRcj0ot0f4",
    "outputId": "b5dbac23-407b-4514-e776-b2fb20cb82be"
   },
   "outputs": [
    {
     "data": {
      "text/html": [
       "\n",
       "            <style>\n",
       "                .geemap-dark {\n",
       "                    --jp-widgets-color: white;\n",
       "                    --jp-widgets-label-color: white;\n",
       "                    --jp-ui-font-color1: white;\n",
       "                    --jp-layout-color2: #454545;\n",
       "                    background-color: #383838;\n",
       "                }\n",
       "                    \n",
       "                .geemap-dark .jupyter-button {\n",
       "                    --jp-layout-color3: #383838;\n",
       "                }\n",
       "                \n",
       "                .geemap-colab {\n",
       "                    background-color: var(--colab-primary-surface-color, white);\n",
       "                }\n",
       "                    \n",
       "                .geemap-colab .jupyter-button {\n",
       "                    --jp-layout-color3: var(--colab-primary-surface-color, white);\n",
       "                }\n",
       "            </style>\n",
       "            "
      ],
      "text/plain": [
       "<IPython.core.display.HTML object>"
      ]
     },
     "metadata": {},
     "output_type": "display_data"
    }
   ],
   "source": [
    "X_train, X_test, y_train, y_test = train_test_split(X, y, test_size=0.25, random_state=42)"
   ]
  },
  {
   "cell_type": "code",
   "execution_count": 18,
   "metadata": {
    "colab": {
     "base_uri": "https://localhost:8080/",
     "height": 86
    },
    "executionInfo": {
     "elapsed": 498627,
     "status": "ok",
     "timestamp": 1720556130468,
     "user": {
      "displayName": "Facundo Boladeras",
      "userId": "01521896121890286045"
     },
     "user_tz": 180
    },
    "id": "vldUjxgkt07L",
    "outputId": "8663e20c-1c56-4bad-9c40-342123ef531d"
   },
   "outputs": [
    {
     "data": {
      "text/html": [
       "\n",
       "            <style>\n",
       "                .geemap-dark {\n",
       "                    --jp-widgets-color: white;\n",
       "                    --jp-widgets-label-color: white;\n",
       "                    --jp-ui-font-color1: white;\n",
       "                    --jp-layout-color2: #454545;\n",
       "                    background-color: #383838;\n",
       "                }\n",
       "                    \n",
       "                .geemap-dark .jupyter-button {\n",
       "                    --jp-layout-color3: #383838;\n",
       "                }\n",
       "                \n",
       "                .geemap-colab {\n",
       "                    background-color: var(--colab-primary-surface-color, white);\n",
       "                }\n",
       "                    \n",
       "                .geemap-colab .jupyter-button {\n",
       "                    --jp-layout-color3: var(--colab-primary-surface-color, white);\n",
       "                }\n",
       "            </style>\n",
       "            "
      ],
      "text/plain": [
       "<IPython.core.display.HTML object>"
      ]
     },
     "metadata": {},
     "output_type": "display_data"
    },
    {
     "name": "stdout",
     "output_type": "stream",
     "text": [
      "Fitting 3 folds for each of 36 candidates, totalling 108 fits\n",
      "Best parameters: {'max_depth': 10, 'min_samples_leaf': 2, 'min_samples_split': 10, 'n_estimators': 200}\n",
      "Root Mean Squared Error: 36.78288529006033\n",
      "R^2 Score: 0.6864279301838355\n"
     ]
    }
   ],
   "source": [
    "import numpy as np\n",
    "rf = RandomForestRegressor(random_state=42)\n",
    "\n",
    "# Definir el grid de parámetros para buscar\n",
    "param_grid = {\n",
    "    'n_estimators': [100,200],\n",
    "    'max_depth': [None, 10, 20],\n",
    "    'min_samples_split': [2, 5, 10],\n",
    "    'min_samples_leaf': [1, 2],    \n",
    "}\n",
    "\n",
    "# Configurar GridSearchCV\n",
    "grid_search = GridSearchCV(estimator=rf, param_grid=param_grid,\n",
    "                           cv=3, n_jobs=-1, verbose=2, scoring='neg_mean_squared_error')\n",
    "\n",
    "grid_search.fit(X_train, y_train)\n",
    "\n",
    "best_params = grid_search.best_params_\n",
    "print(f'Best parameters: {best_params}')\n",
    "\n",
    "# Entrenar el modelo con los mejores parámetros\n",
    "best_rf = grid_search.best_estimator_\n",
    "best_rf.fit(X_train, y_train)\n",
    "\n",
    "y_pred = best_rf.predict(X_test)\n",
    "\n",
    "mse = mean_squared_error(y_test, y_pred)\n",
    "rmse = np.sqrt(mse)\n",
    "r2 = r2_score(y_test, y_pred)\n",
    "\n",
    "print(f'Root Mean Squared Error: {rmse}')\n",
    "print(f'R^2 Score: {r2}')"
   ]
  },
  {
   "cell_type": "code",
   "execution_count": 28,
   "metadata": {},
   "outputs": [
    {
     "data": {
      "text/html": [
       "\n",
       "            <style>\n",
       "                .geemap-dark {\n",
       "                    --jp-widgets-color: white;\n",
       "                    --jp-widgets-label-color: white;\n",
       "                    --jp-ui-font-color1: white;\n",
       "                    --jp-layout-color2: #454545;\n",
       "                    background-color: #383838;\n",
       "                }\n",
       "                    \n",
       "                .geemap-dark .jupyter-button {\n",
       "                    --jp-layout-color3: #383838;\n",
       "                }\n",
       "                \n",
       "                .geemap-colab {\n",
       "                    background-color: var(--colab-primary-surface-color, white);\n",
       "                }\n",
       "                    \n",
       "                .geemap-colab .jupyter-button {\n",
       "                    --jp-layout-color3: var(--colab-primary-surface-color, white);\n",
       "                }\n",
       "            </style>\n",
       "            "
      ],
      "text/plain": [
       "<IPython.core.display.HTML object>"
      ]
     },
     "metadata": {},
     "output_type": "display_data"
    },
    {
     "name": "stdout",
     "output_type": "stream",
     "text": [
      "Root Mean Squared Error: 36.90891965796789\n",
      "R^2 Score: 0.6842753766125675\n"
     ]
    }
   ],
   "source": [
    "import numpy as np\n",
    "rf = RandomForestRegressor(bootstrap= True, max_depth= 10, min_samples_leaf= 1, min_samples_split= 2, n_estimators= 75, random_state=42) \n",
    "\n",
    "rf.fit(X_train, y_train)\n",
    "\n",
    "y_pred = rf.predict(X_test)\n",
    "\n",
    "mse = mean_squared_error(y_test, y_pred)\n",
    "rmse = np.sqrt(mse)\n",
    "r2 = r2_score(y_test, y_pred)\n",
    "\n",
    "print(f'Root Mean Squared Error: {rmse}')\n",
    "print(f'R^2 Score: {r2}')"
   ]
  },
  {
   "cell_type": "code",
   "execution_count": 21,
   "metadata": {},
   "outputs": [
    {
     "data": {
      "text/html": [
       "\n",
       "            <style>\n",
       "                .geemap-dark {\n",
       "                    --jp-widgets-color: white;\n",
       "                    --jp-widgets-label-color: white;\n",
       "                    --jp-ui-font-color1: white;\n",
       "                    --jp-layout-color2: #454545;\n",
       "                    background-color: #383838;\n",
       "                }\n",
       "                    \n",
       "                .geemap-dark .jupyter-button {\n",
       "                    --jp-layout-color3: #383838;\n",
       "                }\n",
       "                \n",
       "                .geemap-colab {\n",
       "                    background-color: var(--colab-primary-surface-color, white);\n",
       "                }\n",
       "                    \n",
       "                .geemap-colab .jupyter-button {\n",
       "                    --jp-layout-color3: var(--colab-primary-surface-color, white);\n",
       "                }\n",
       "            </style>\n",
       "            "
      ],
      "text/plain": [
       "<IPython.core.display.HTML object>"
      ]
     },
     "metadata": {},
     "output_type": "display_data"
    },
    {
     "data": {
      "image/png": "[encoded data removed]",
      "text/plain": [
       "<Figure size 1000x600 with 1 Axes>"
      ]
     },
     "metadata": {},
     "output_type": "display_data"
    }
   ],
   "source": [
    "import matplotlib.pyplot as plt\n",
    "import numpy as np\n",
    "from scipy.stats import gaussian_kde\n",
    "\n",
    "# Calcular la densidad de puntos\n",
    "xy = np.vstack([y_test, y_pred])\n",
    "z = gaussian_kde(xy)(xy)\n",
    "\n",
    "# Crear un gráfico de dispersión con color basado en la densidad de puntos\n",
    "plt.figure(figsize=(10, 6), facecolor='black')\n",
    "scatter = plt.scatter(y_test, y_pred, c=z, s=50, cmap='plasma', edgecolor='white', alpha=0.8, linewidth=0.55)\n",
    "plt.plot([y_test.min(), y_test.max()], [y_test.min(), y_test.max()], 'w--', lw=2)  # Línea de referencia en blanco\n",
    "plt.xlabel('Valores Reales', color='white')\n",
    "plt.ylabel('Valores Predichos', color='white')\n",
    "plt.title('Valores Reales vs. Valores Predichos', color='white')\n",
    "\n",
    "# Cambiar el color de los ejes y las etiquetas de los ticks\n",
    "plt.gca().spines['bottom'].set_color('white')\n",
    "plt.gca().spines['left'].set_color('white')\n",
    "plt.gca().spines['top'].set_color('white')\n",
    "plt.gca().spines['right'].set_color('white')\n",
    "plt.gca().xaxis.label.set_color('white')\n",
    "plt.gca().yaxis.label.set_color('white')\n",
    "plt.gca().tick_params(axis='x', colors='white')\n",
    "plt.gca().tick_params(axis='y', colors='white')\n",
    "\n",
    "# Cambiar el color del fondo del gráfico\n",
    "plt.gca().set_facecolor('black')\n",
    "plt.savefig('real_vs_predicho2.png', facecolor='black')\n",
    "\n",
    "plt.show()"
   ]
  },
  {
   "cell_type": "code",
   "execution_count": 22,
   "metadata": {},
   "outputs": [
    {
     "data": {
      "text/html": [
       "\n",
       "            <style>\n",
       "                .geemap-dark {\n",
       "                    --jp-widgets-color: white;\n",
       "                    --jp-widgets-label-color: white;\n",
       "                    --jp-ui-font-color1: white;\n",
       "                    --jp-layout-color2: #454545;\n",
       "                    background-color: #383838;\n",
       "                }\n",
       "                    \n",
       "                .geemap-dark .jupyter-button {\n",
       "                    --jp-layout-color3: #383838;\n",
       "                }\n",
       "                \n",
       "                .geemap-colab {\n",
       "                    background-color: var(--colab-primary-surface-color, white);\n",
       "                }\n",
       "                    \n",
       "                .geemap-colab .jupyter-button {\n",
       "                    --jp-layout-color3: var(--colab-primary-surface-color, white);\n",
       "                }\n",
       "            </style>\n",
       "            "
      ],
      "text/plain": [
       "<IPython.core.display.HTML object>"
      ]
     },
     "metadata": {},
     "output_type": "display_data"
    },
    {
     "name": "stdout",
     "output_type": "stream",
     "text": [
      "              Feature  Importance\n",
      "25              SR_B4    0.570817\n",
      "31              slope    0.101559\n",
      "29          elevation    0.039006\n",
      "17               NDBI    0.030465\n",
      "1                 EVI    0.028373\n",
      "24              SR_B3    0.015626\n",
      "19               NDWI    0.014056\n",
      "28             aspect    0.013080\n",
      "23              SR_B2    0.013055\n",
      "13      HV_dB_Entropy    0.011605\n",
      "12  HV_dB_Correlation    0.011373\n",
      "16                NBR    0.011302\n",
      "4   HH_dB_Correlation    0.010329\n",
      "8         HH_minus_HV    0.010028\n",
      "10              HV_dB    0.009877\n",
      "5       HH_dB_Entropy    0.009575\n",
      "2               HH_dB    0.009540\n",
      "15              MNDWI    0.009181\n",
      "21         RVI_palsar    0.008563\n",
      "9          HH_plus_HV    0.007220\n",
      "7           HH_div_HV    0.007093\n",
      "14      HV_dB_Inertia    0.006901\n",
      "27              SR_B6    0.006730\n",
      "0                 CVI    0.006290\n",
      "11     HV_dB_Contrast    0.006063\n",
      "3      HH_dB_Contrast    0.005920\n",
      "6       HH_dB_Inertia    0.005644\n",
      "18               NDVI    0.005494\n",
      "26              SR_B5    0.005454\n",
      "20                RVI    0.004721\n",
      "22               SAVI    0.004372\n",
      "30              label    0.000690\n"
     ]
    },
    {
     "data": {
      "image/png": "[encoded data removed]",
      "text/plain": [
       "<Figure size 1200x600 with 1 Axes>"
      ]
     },
     "metadata": {},
     "output_type": "display_data"
    }
   ],
   "source": [
    "import matplotlib.pyplot as plt\n",
    "\n",
    "feature_importances = rf.feature_importances_\n",
    "\n",
    "# Crear un DataFrame para organizar las importancias de las características\n",
    "feature_importances_df = pd.DataFrame({\n",
    "    'Feature': X_train.columns,\n",
    "    'Importance': feature_importances\n",
    "})\n",
    "\n",
    "# Ordenar el DataFrame por importancia\n",
    "feature_importances_df = feature_importances_df.sort_values(by='Importance', ascending=False)\n",
    "print(feature_importances_df)\n",
    "\n",
    "plt.figure(figsize=(12, 6))\n",
    "plt.barh(feature_importances_df['Feature'], feature_importances_df['Importance'])\n",
    "plt.xlabel('Importance')\n",
    "plt.ylabel('Feature')\n",
    "plt.title('Feature Importances')\n",
    "plt.gca().invert_yaxis()\n",
    "plt.show()"
   ]
  },
  {
   "cell_type": "code",
   "execution_count": 29,
   "metadata": {
    "colab": {
     "base_uri": "https://localhost:8080/",
     "height": 17
    },
    "executionInfo": {
     "elapsed": 80616,
     "status": "ok",
     "timestamp": 1720556643888,
     "user": {
      "displayName": "Facundo Boladeras",
      "userId": "01521896121890286045"
     },
     "user_tz": 180
    },
    "id": "cuh4Ucppt3fD",
    "outputId": "10b47780-bbf8-44bc-f97a-15dabd823998"
   },
   "outputs": [
    {
     "data": {
      "text/html": [
       "\n",
       "            <style>\n",
       "                .geemap-dark {\n",
       "                    --jp-widgets-color: white;\n",
       "                    --jp-widgets-label-color: white;\n",
       "                    --jp-ui-font-color1: white;\n",
       "                    --jp-layout-color2: #454545;\n",
       "                    background-color: #383838;\n",
       "                }\n",
       "                    \n",
       "                .geemap-dark .jupyter-button {\n",
       "                    --jp-layout-color3: #383838;\n",
       "                }\n",
       "                \n",
       "                .geemap-colab {\n",
       "                    background-color: var(--colab-primary-surface-color, white);\n",
       "                }\n",
       "                    \n",
       "                .geemap-colab .jupyter-button {\n",
       "                    --jp-layout-color3: var(--colab-primary-surface-color, white);\n",
       "                }\n",
       "            </style>\n",
       "            "
      ],
      "text/plain": [
       "<IPython.core.display.HTML object>"
      ]
     },
     "metadata": {},
     "output_type": "display_data"
    }
   ],
   "source": [
    "band_list = [\n",
    "    \"SR_B4\",\n",
    "    \"slope\",\n",
    "    \"elevation\",\n",
    "    \"NDBI\",\n",
    "    \"EVI\",\n",
    "    \"SR_B3\",\n",
    "    \"NDWI\",\n",
    "    \"aspect\",\n",
    "    \"SR_B2\",\n",
    "    \"HV_dB_Entropy\",\n",
    "    \"HV_dB_Correlation\",\n",
    "    \"NBR\",\n",
    "    \"HH_dB_Correlation\",\n",
    "    \"HH_minus_HV\",\n",
    "    \"HV_dB\",\n",
    "    \"HH_dB_Entropy\",\n",
    "    \"HH_dB\",\n",
    "    \"MNDWI\",\n",
    "    \"RVI_palsar\",\n",
    "    \"HH_plus_HV\"\n",
    "]\n",
    "\n",
    "\n",
    "trees = ml.rf_to_strings(rf, band_list, output_mode='regression')"
   ]
  },
  {
   "cell_type": "code",
   "execution_count": 22,
   "metadata": {
    "id": "BzZC8ZsEt79m"
   },
   "outputs": [
    {
     "data": {
      "text/html": [
       "\n",
       "            <style>\n",
       "                .geemap-dark {\n",
       "                    --jp-widgets-color: white;\n",
       "                    --jp-widgets-label-color: white;\n",
       "                    --jp-ui-font-color1: white;\n",
       "                    --jp-layout-color2: #454545;\n",
       "                    background-color: #383838;\n",
       "                }\n",
       "\n",
       "                .geemap-dark .jupyter-button {\n",
       "                    --jp-layout-color3: #383838;\n",
       "                }\n",
       "\n",
       "                .geemap-colab {\n",
       "                    background-color: var(--colab-primary-surface-color, white);\n",
       "                }\n",
       "\n",
       "                .geemap-colab .jupyter-button {\n",
       "                    --jp-layout-color3: var(--colab-primary-surface-color, white);\n",
       "                }\n",
       "            </style>\n",
       "            "
      ],
      "text/plain": [
       "<IPython.core.display.HTML object>"
      ]
     },
     "metadata": {},
     "output_type": "display_data"
    }
   ],
   "source": [
    "# create a ee classifier to use with ee objects from the trees\n",
    "# ee_classifier = ml.strings_to_classifier(trees)"
   ]
  },
  {
   "cell_type": "code",
   "execution_count": 30,
   "metadata": {
    "colab": {
     "base_uri": "https://localhost:8080/",
     "height": 35
    },
    "executionInfo": {
     "elapsed": 435,
     "status": "ok",
     "timestamp": 1720557068768,
     "user": {
      "displayName": "Facundo Boladeras",
      "userId": "01521896121890286045"
     },
     "user_tz": 180
    },
    "id": "lFLvTacNt9v9",
    "outputId": "b6d0900c-cc0e-49a8-fdde-730316c5193b"
   },
   "outputs": [
    {
     "data": {
      "text/html": [
       "\n",
       "            <style>\n",
       "                .geemap-dark {\n",
       "                    --jp-widgets-color: white;\n",
       "                    --jp-widgets-label-color: white;\n",
       "                    --jp-ui-font-color1: white;\n",
       "                    --jp-layout-color2: #454545;\n",
       "                    background-color: #383838;\n",
       "                }\n",
       "                    \n",
       "                .geemap-dark .jupyter-button {\n",
       "                    --jp-layout-color3: #383838;\n",
       "                }\n",
       "                \n",
       "                .geemap-colab {\n",
       "                    background-color: var(--colab-primary-surface-color, white);\n",
       "                }\n",
       "                    \n",
       "                .geemap-colab .jupyter-button {\n",
       "                    --jp-layout-color3: var(--colab-primary-surface-color, white);\n",
       "                }\n",
       "            </style>\n",
       "            "
      ],
      "text/plain": [
       "<IPython.core.display.HTML object>"
      ]
     },
     "metadata": {},
     "output_type": "display_data"
    }
   ],
   "source": [
    "# this function also works with the ensemble.ExtraTrees estimator\n",
    "# trees = ml.rf_to_strings(rf, feature_names_reduced,output_mode='regression')\n",
    "\n",
    "user_id = 'users/facuboladerasgee'\n",
    "# specify asset id where to save trees\n",
    "# be sure to change  to your ee user name\n",
    "asset_id = user_id + \"/mdg_south\"\n",
    "asset_id\n",
    "# kick off an export process so it will be saved to the ee asset\n",
    "ml.export_trees_to_fc(trees, asset_id)"
   ]
  },
  {
   "cell_type": "code",
   "execution_count": 65,
   "metadata": {},
   "outputs": [
    {
     "data": {
      "text/html": [
       "\n",
       "            <style>\n",
       "                .geemap-dark {\n",
       "                    --jp-widgets-color: white;\n",
       "                    --jp-widgets-label-color: white;\n",
       "                    --jp-ui-font-color1: white;\n",
       "                    --jp-layout-color2: #454545;\n",
       "                    background-color: #383838;\n",
       "                }\n",
       "\n",
       "                .geemap-dark .jupyter-button {\n",
       "                    --jp-layout-color3: #383838;\n",
       "                }\n",
       "\n",
       "                .geemap-colab {\n",
       "                    background-color: var(--colab-primary-surface-color, white);\n",
       "                }\n",
       "\n",
       "                .geemap-colab .jupyter-button {\n",
       "                    --jp-layout-color3: var(--colab-primary-surface-color, white);\n",
       "                }\n",
       "            </style>\n",
       "            "
      ],
      "text/plain": [
       "<IPython.core.display.HTML object>"
      ]
     },
     "metadata": {},
     "output_type": "display_data"
    }
   ],
   "source": [
    "# def export_model_in_parts(model, feature_names, user_id, base_asset_id, part_size=11):\n",
    "#     trees = ml.rf_to_strings(model, feature_names_reduced, output_mode='regression')\n",
    "#     total_trees = len(trees)\n",
    "    \n",
    "#     # Dividir los árboles en partes\n",
    "#     for i in range(0, total_trees, part_size):\n",
    "#         part_trees = trees[i:i+part_size]\n",
    "#         part_asset_id = f\"{base_asset_id}_part_{i//part_size}\"\n",
    "        \n",
    "#         # Exportar la parte\n",
    "#         ml.export_trees_to_fc(part_trees, part_asset_id)\n",
    "#         print(f\"Parte {i//part_size} exportada a {part_asset_id}\")\n",
    "\n",
    "# # Ejemplo de uso:\n",
    "# user_id = 'users/facuboladerasgee'\n",
    "# base_asset_id = f\"{user_id}/Rf_Malambique\"\n",
    "# export_model_in_parts(rf, feature_names_reduced, user_id, base_asset_id)"
   ]
  },
  {
   "cell_type": "code",
   "execution_count": 79,
   "metadata": {},
   "outputs": [
    {
     "data": {
      "text/html": [
       "\n",
       "            <style>\n",
       "                .geemap-dark {\n",
       "                    --jp-widgets-color: white;\n",
       "                    --jp-widgets-label-color: white;\n",
       "                    --jp-ui-font-color1: white;\n",
       "                    --jp-layout-color2: #454545;\n",
       "                    background-color: #383838;\n",
       "                }\n",
       "\n",
       "                .geemap-dark .jupyter-button {\n",
       "                    --jp-layout-color3: #383838;\n",
       "                }\n",
       "\n",
       "                .geemap-colab {\n",
       "                    background-color: var(--colab-primary-surface-color, white);\n",
       "                }\n",
       "\n",
       "                .geemap-colab .jupyter-button {\n",
       "                    --jp-layout-color3: var(--colab-primary-surface-color, white);\n",
       "                }\n",
       "            </style>\n",
       "            "
      ],
      "text/plain": [
       "<IPython.core.display.HTML object>"
      ]
     },
     "metadata": {},
     "output_type": "display_data"
    },
    {
     "name": "stdout",
     "output_type": "stream",
     "text": [
      "Modelo 1 entrenado con muestra bootstrap. R²: 0.4750\n",
      "Modelo 2 entrenado con muestra bootstrap. R²: 0.4753\n",
      "Modelo 3 entrenado con muestra bootstrap. R²: 0.4753\n",
      "Modelo 4 entrenado con muestra bootstrap. R²: 0.4725\n",
      "Modelo 5 entrenado con muestra bootstrap. R²: 0.4745\n",
      "Modelo 6 entrenado con muestra bootstrap. R²: 0.4743\n",
      "Modelo 7 entrenado con muestra bootstrap. R²: 0.4737\n",
      "Modelo 8 entrenado con muestra bootstrap. R²: 0.4745\n",
      "Modelo 9 entrenado con muestra bootstrap. R²: 0.4754\n",
      "Modelo 10 entrenado con muestra bootstrap. R²: 0.4730\n",
      "Modelo 1 subido a GEE con asset_id: users/facuboladerasgee/Rf_Bootstrap_Kisangami_model_1\n",
      "Modelo 2 subido a GEE con asset_id: users/facuboladerasgee/Rf_Bootstrap_Kisangami_model_2\n",
      "Modelo 3 subido a GEE con asset_id: users/facuboladerasgee/Rf_Bootstrap_Kisangami_model_3\n",
      "Modelo 4 subido a GEE con asset_id: users/facuboladerasgee/Rf_Bootstrap_Kisangami_model_4\n",
      "Modelo 5 subido a GEE con asset_id: users/facuboladerasgee/Rf_Bootstrap_Kisangami_model_5\n",
      "Modelo 6 subido a GEE con asset_id: users/facuboladerasgee/Rf_Bootstrap_Kisangami_model_6\n",
      "Modelo 7 subido a GEE con asset_id: users/facuboladerasgee/Rf_Bootstrap_Kisangami_model_7\n",
      "Modelo 8 subido a GEE con asset_id: users/facuboladerasgee/Rf_Bootstrap_Kisangami_model_8\n",
      "Modelo 9 subido a GEE con asset_id: users/facuboladerasgee/Rf_Bootstrap_Kisangami_model_9\n",
      "Modelo 10 subido a GEE con asset_id: users/facuboladerasgee/Rf_Bootstrap_Kisangami_model_10\n"
     ]
    }
   ],
   "source": [
    "import numpy as np\n",
    "from sklearn.utils import resample\n",
    "from sklearn.ensemble import RandomForestRegressor\n",
    "from sklearn.metrics import r2_score\n",
    "\n",
    "# Función para entrenar modelos utilizando bootstrap\n",
    "def bootstrap_models(X_train, y_train, X_test, y_test, n_models=10, random_state=42):\n",
    "\n",
    "    models = []\n",
    "    r2_scores = []\n",
    "\n",
    "    for i in range(n_models):\n",
    "        # Crear una muestra bootstrap del conjunto de entrenamiento\n",
    "        X_train_bootstrap, y_train_bootstrap = resample(\n",
    "            X_train, y_train, replace=True, n_samples=len(y_train), random_state=random_state + i\n",
    "        )\n",
    "        \n",
    "        # Entrenar el modelo en la muestra bootstrap\n",
    "        model = RandomForestRegressor(\n",
    "            bootstrap=True, max_depth=10, min_samples_leaf=1, min_samples_split=2,\n",
    "            n_estimators=80, random_state=random_state + i\n",
    "        )\n",
    "        model.fit(X_train_bootstrap, y_train_bootstrap)\n",
    "        \n",
    "        # Evaluar el modelo en el conjunto de prueba\n",
    "        y_pred = model.predict(X_test)\n",
    "        r2 = r2_score(y_test, y_pred)\n",
    "        r2_scores.append(r2)\n",
    "        models.append(model)\n",
    "        \n",
    "        print(f\"Modelo {i+1} entrenado con muestra bootstrap. R²: {r2:.4f}\")\n",
    "    \n",
    "    return models, r2_scores\n",
    "\n",
    "# Función para convertir y subir los modelos a GEE\n",
    "def upload_models_to_gee(models, feature_names_reduced, user_id, base_asset_name=\"Rf_Bootstrap_Kisangami\"):\n",
    "    \"\"\"\n",
    "    Convierte cada modelo en la lista 'models' a formato de string compatible con GEE y sube cada uno como un asset.\n",
    "    \n",
    "    Args:\n",
    "        models: Lista de modelos entrenados.\n",
    "        feature_names_reduced: Lista de nombres de las características usadas en el modelo.\n",
    "        user_id: ID del usuario de GEE (ej. 'users/tu_usuario').\n",
    "        base_asset_name: Prefijo del nombre de los assets a subir en GEE.\n",
    "    \"\"\"\n",
    "    for i, model in enumerate(models):\n",
    "        # Convertir el modelo a cadenas\n",
    "        trees = ml.rf_to_strings(model, feature_names_reduced, output_mode='regression')\n",
    "        \n",
    "        # Especificar el ID del asset para este modelo\n",
    "        asset_id = f\"{user_id}/{base_asset_name}_model_{i+1}\"\n",
    "        \n",
    "        # Iniciar el proceso de exportación para cada modelo\n",
    "        ml.export_trees_to_fc(trees, asset_id)\n",
    "        print(f\"Modelo {i+1} subido a GEE con asset_id: {asset_id}\")\n",
    "\n",
    "# Lista de características reducidas (modifica si es necesario)\n",
    "feature_names_reduced = [\n",
    "    'SR_B6',\n",
    "    'elevation',\n",
    "    'SR_B3',\n",
    "    'EVI',\n",
    "    'SR_B2',\n",
    "    'HV_dB_Correlation',\n",
    "    'HV_dB_Entropy',\n",
    "    'HH_plus_HV',\n",
    "    'SR_B4',\n",
    "    'HH_dB',\n",
    "    'HV_dB',\n",
    "    'MNDWI',\n",
    "    'slope',\n",
    "    ]\n",
    "# Entrenar los modelos utilizando la función bootstrap_models\n",
    "models, r2_scores = bootstrap_models(X_train, y_train, X_test, y_test, n_models=10)\n",
    "\n",
    "# ID de usuario en GEE\n",
    "user_id = 'users/facuboladerasgee'  # Cambia a tu usuario de GEE\n",
    "# Llamar a la función para subir los modelos\n",
    "upload_models_to_gee(models, feature_names_reduced, user_id)"
   ]
  }
 ],
 "metadata": {
  "colab": {
   "authorship_tag": "ABX9TyMEoiN0fKrBDpjIQrqF6kZ8",
   "provenance": []
  },
  "kernelspec": {
   "display_name": "geo",
   "language": "python",
   "name": "python3"
  },
  "language_info": {
   "codemirror_mode": {
    "name": "ipython",
    "version": 3
   },
   "file_extension": ".py",
   "mimetype": "text/x-python",
   "name": "python",
   "nbconvert_exporter": "python",
   "pygments_lexer": "ipython3",
   "version": "3.11.7"
  }
 },
 "nbformat": 4,
 "nbformat_minor": 0
}
