{
 "cells": [
  {
   "cell_type": "code",
   "execution_count": 1,
   "metadata": {},
   "outputs": [],
   "source": [
    "import ee\n",
    "import geemap\n",
    "from geemap import ml\n",
    "from sklearn import ensemble\n",
    "import pandas as pd\n",
    "from sklearn.model_selection import train_test_split\n",
    "from sklearn.ensemble import RandomForestRegressor\n",
    "from sklearn.metrics import mean_squared_error\n",
    "\n",
    "\n",
    "# Inicializa la autenticación y la inicialización de Google Earth Engine\n",
    "ee.Authenticate()\n",
    "ee.Initialize(project='ee-facuboladerasgee')"
   ]
  },
  {
   "cell_type": "code",
   "execution_count": 2,
   "metadata": {},
   "outputs": [
    {
     "data": {
      "text/html": [
       "\n",
       "            <style>\n",
       "                .geemap-dark {\n",
       "                    --jp-widgets-color: white;\n",
       "                    --jp-widgets-label-color: white;\n",
       "                    --jp-ui-font-color1: white;\n",
       "                    --jp-layout-color2: #454545;\n",
       "                    background-color: #383838;\n",
       "                }\n",
       "\n",
       "                .geemap-dark .jupyter-button {\n",
       "                    --jp-layout-color3: #383838;\n",
       "                }\n",
       "\n",
       "                .geemap-colab {\n",
       "                    background-color: var(--colab-primary-surface-color, white);\n",
       "                }\n",
       "\n",
       "                .geemap-colab .jupyter-button {\n",
       "                    --jp-layout-color3: var(--colab-primary-surface-color, white);\n",
       "                }\n",
       "            </style>\n",
       "            "
      ],
      "text/plain": [
       "<IPython.core.display.HTML object>"
      ]
     },
     "metadata": {},
     "output_type": "display_data"
    }
   ],
   "source": [
    "# Definir la región de interés\n",
    "roi = ee.FeatureCollection('projects/ee-facuboladerasgee/assets/MalawiWoodfuelSite_1a')\n",
    "# Centrar el mapa en la región de interés\n",
    "Map = geemap.Map(center=[0, 0], zoom=2)\n",
    "# Añadir Google Satellite como mapa base\n",
    "Map.add_basemap('SATELLITE')\n",
    "Map.centerObject(roi)"
   ]
  },
  {
   "cell_type": "code",
   "execution_count": 3,
   "metadata": {},
   "outputs": [
    {
     "data": {
      "text/html": [
       "\n",
       "            <style>\n",
       "                .geemap-dark {\n",
       "                    --jp-widgets-color: white;\n",
       "                    --jp-widgets-label-color: white;\n",
       "                    --jp-ui-font-color1: white;\n",
       "                    --jp-layout-color2: #454545;\n",
       "                    background-color: #383838;\n",
       "                }\n",
       "\n",
       "                .geemap-dark .jupyter-button {\n",
       "                    --jp-layout-color3: #383838;\n",
       "                }\n",
       "\n",
       "                .geemap-colab {\n",
       "                    background-color: var(--colab-primary-surface-color, white);\n",
       "                }\n",
       "\n",
       "                .geemap-colab .jupyter-button {\n",
       "                    --jp-layout-color3: var(--colab-primary-surface-color, white);\n",
       "                }\n",
       "            </style>\n",
       "            "
      ],
      "text/plain": [
       "<IPython.core.display.HTML object>"
      ]
     },
     "metadata": {},
     "output_type": "display_data"
    },
    {
     "name": "stdout",
     "output_type": "stream",
     "text": [
      "Coordenadas de ROI: [[[35.147307857226416, -15.036316131901854], [35.15253608286859, -15.223952919778808], [35.15776440008984, -15.411589648079637], [35.20994926360607, -15.410686693842585], [35.26213417872549, -15.409783744326894], [35.314318994087046, -15.408880778443212], [35.366503893152895, -15.407977790870213], [35.3589679641149, -15.032891601485606], [35.30605294737285, -15.033747715996299], [35.25313786054075, -15.034603909691883], [35.20022286170109, -15.035460051719076], [35.147307857226416, -15.036316131901854]]]\n"
     ]
    }
   ],
   "source": [
    "roi_feature = ee.FeatureCollection(roi).first()\n",
    "\n",
    "# Extraer la geometría de la característica\n",
    "roi_geometry = roi_feature.geometry()\n",
    "\n",
    "# Obtener las coordenadas de la geometría\n",
    "roi_coordinates = roi_geometry.coordinates().getInfo()\n",
    "\n",
    "# Imprimir las coordenadas para verificar\n",
    "print(\"Coordenadas de ROI:\", roi_coordinates)\n",
    "\n",
    "# Guardar las coordenadas en una variable\n",
    "roi_coords = roi_coordinates\n",
    "\n",
    "ee_roi =  ee.Geometry.Polygon(roi_coords) "
   ]
  },
  {
   "cell_type": "code",
   "execution_count": 4,
   "metadata": {},
   "outputs": [
    {
     "data": {
      "text/html": [
       "\n",
       "            <style>\n",
       "                .geemap-dark {\n",
       "                    --jp-widgets-color: white;\n",
       "                    --jp-widgets-label-color: white;\n",
       "                    --jp-ui-font-color1: white;\n",
       "                    --jp-layout-color2: #454545;\n",
       "                    background-color: #383838;\n",
       "                }\n",
       "\n",
       "                .geemap-dark .jupyter-button {\n",
       "                    --jp-layout-color3: #383838;\n",
       "                }\n",
       "\n",
       "                .geemap-colab {\n",
       "                    background-color: var(--colab-primary-surface-color, white);\n",
       "                }\n",
       "\n",
       "                .geemap-colab .jupyter-button {\n",
       "                    --jp-layout-color3: var(--colab-primary-surface-color, white);\n",
       "                }\n",
       "            </style>\n",
       "            "
      ],
      "text/plain": [
       "<IPython.core.display.HTML object>"
      ]
     },
     "metadata": {},
     "output_type": "display_data"
    }
   ],
   "source": [
    "# Definir el año de análisis\n",
    "year = 2017\n",
    "\n",
    "# Definir la fecha de inicio y fin para filtrar la colección\n",
    "start = f'{year}-01-01'\n",
    "end = f'{year}-12-31'"
   ]
  },
  {
   "cell_type": "code",
   "execution_count": 5,
   "metadata": {},
   "outputs": [
    {
     "data": {
      "text/html": [
       "\n",
       "            <style>\n",
       "                .geemap-dark {\n",
       "                    --jp-widgets-color: white;\n",
       "                    --jp-widgets-label-color: white;\n",
       "                    --jp-ui-font-color1: white;\n",
       "                    --jp-layout-color2: #454545;\n",
       "                    background-color: #383838;\n",
       "                }\n",
       "\n",
       "                .geemap-dark .jupyter-button {\n",
       "                    --jp-layout-color3: #383838;\n",
       "                }\n",
       "\n",
       "                .geemap-colab {\n",
       "                    background-color: var(--colab-primary-surface-color, white);\n",
       "                }\n",
       "\n",
       "                .geemap-colab .jupyter-button {\n",
       "                    --jp-layout-color3: var(--colab-primary-surface-color, white);\n",
       "                }\n",
       "            </style>\n",
       "            "
      ],
      "text/plain": [
       "<IPython.core.display.HTML object>"
      ]
     },
     "metadata": {},
     "output_type": "display_data"
    }
   ],
   "source": [
    "# Filtrar la colección Sentinel-2\n",
    "s2Col = ee.ImageCollection('COPERNICUS/S2_SR_HARMONIZED') \\\n",
    "    .filterBounds(roi) \\\n",
    "    .filterDate(start, end) \\\n",
    "    .filter(ee.Filter.lt('CLOUDY_PIXEL_PERCENTAGE', 10))\n",
    "\n",
    "# Filtrar la colección Sentinel-2 cloud score\n",
    "cloudCol = ee.ImageCollection('COPERNICUS/S2_CLOUD_PROBABILITY') \\\n",
    "    .filterBounds(roi) \\\n",
    "    .filterDate(start, end)\n",
    "\n",
    "# Combinar la colección, máscara de nubes y hacer un composite mediano\n",
    "def mask_clouds(image):\n",
    "    cloud_score = ee.Image(cloudCol.filterMetadata('system:index', 'equals', image.get('system:index')).first())\n",
    "    mask = cloud_score.select('probability').lt(10)\n",
    "    return image.updateMask(mask)\n",
    "\n",
    "# Aplicar la función de enmascaramiento a la colección\n",
    "s2Masked = s2Col.map(mask_clouds)\n",
    "\n",
    "# Calcular la composición mediana\n",
    "image = s2Masked.median().toFloat().clip(roi)\n",
    "\n",
    "# Calcular NDVI, MNDWI y NDBI\n",
    "ndvi = image.normalizedDifference(['B8', 'B4']).rename('NDVI')\n",
    "mndwi = image.normalizedDifference(['B3', 'B11']).rename('MNDWI')\n",
    "ndbi = image.normalizedDifference(['B11', 'B8']).rename('NDBI')\n",
    "\n",
    "\n",
    "evi = image.expression(\n",
    "    '2.5 * ((NIR - RED) / (NIR + 6 * RED - 7.5 * BLUE + 1))',\n",
    "    {\n",
    "        'NIR': image.select('B8'),\n",
    "        'RED': image.select('B4'),\n",
    "        'BLUE': image.select('B2')\n",
    "    }\n",
    ").rename('EVI')\n",
    "\n",
    "\n",
    "savi = image.expression(\n",
    "    '((NIR - RED) / (NIR + RED + 0.5)) * 1.5',\n",
    "    {\n",
    "        'NIR': image.select('B8'),\n",
    "        'RED': image.select('B4')\n",
    "    }\n",
    ").rename('SAVI')\n",
    "\n",
    "# Añadir bandas NDVI, MNDWI, NDBI, EVI y SAVI a la imagen\n",
    "image = image.addBands([ndvi, mndwi, ndbi, evi, savi])\n",
    "\n",
    "# Integrar la banda \"label\" de Dynamic World\n",
    "dwCol = ee.ImageCollection('GOOGLE/DYNAMICWORLD/V1') \\\n",
    "    .filterBounds(roi) \\\n",
    "    .filterDate(start, end)\n",
    "\n",
    "dwLabel = dwCol.select('label').median().clip(roi)\n",
    "\n",
    "# Añadir la banda \"label\" de Dynamic World a la imagen\n",
    "image = image.addBands(dwLabel.rename('label'))\n",
    "\n",
    "# Cargar la imagen de altura de dosel\n",
    "canopy_height = ee.Image(\"users/nlang/ETH_GlobalCanopyHeight_2020_10m_v1\")\n",
    "\n",
    "# Recortar la imagen de altura de dosel a la ROI\n",
    "canopy_height = canopy_height.clip(roi)\n",
    "\n",
    "# Agregar la banda de altura de dosel a la imagen de datos de biomasa de GEDI\n",
    "image = image.addBands(canopy_height.rename('CH'))\n",
    "\n",
    "\n",
    "# Función de preprocesamiento\n",
    "def preprocess(image):\n",
    "    # Aplicar corrección de ángulo de incidencia\n",
    "    # image = apply_incidence_angle_correction(image)\n",
    "    # Filtrado de Speckle\n",
    "    speckle_filtered = image.focal_median(kernelType='circle', radius=50, units='meters')\n",
    "\n",
    "    return speckle_filtered\n",
    "# Definir la función de máscara de borde\n",
    "def mask_edge(image):\n",
    "    edge = image.lt(-30.0)\n",
    "    masked_image = image.mask().And(edge.Not())\n",
    "    return image.updateMask(masked_image)\n",
    "\n",
    "# Filtrar y procesar la colección Sentinel-1 para VV\n",
    "img_vv = (\n",
    "    ee.ImageCollection('COPERNICUS/S1_GRD')\n",
    "    .filterBounds(roi)\n",
    "    .filterDate(start, end)\n",
    "    .filter(ee.Filter.listContains('transmitterReceiverPolarisation', 'VV'))\n",
    "    .filter(ee.Filter.eq('instrumentMode', 'IW'))\n",
    "    .select('VV')\n",
    "\n",
    "    .map(mask_edge)\n",
    "    .map(preprocess)\n",
    ")\n",
    "\n",
    "# Filtrar y procesar la colección Sentinel-1 para VH\n",
    "img_vh = (\n",
    "    ee.ImageCollection('COPERNICUS/S1_GRD')\n",
    "    .filterBounds(roi)\n",
    "    .filterDate(start, end)\n",
    "    .filter(ee.Filter.listContains('transmitterReceiverPolarisation', 'VH'))\n",
    "    .filter(ee.Filter.eq('instrumentMode', 'IW'))\n",
    "    .select('VH')\n",
    "\n",
    "    .map(mask_edge)\n",
    "    .map(preprocess)\n",
    ")\n",
    "\n",
    "\n",
    "# Promedio de imágenes VV y VH\n",
    "s1_vv = img_vv.median().rename('VV')\n",
    "s1_vh = img_vh.median().rename('VH')\n",
    "\n",
    "\n",
    "\n",
    "# Calcular el índice RVI\n",
    "rvi = s1_vh.divide(s1_vv.add(s1_vh)).multiply(4).rename('RVI')\n",
    "vv_plus_vh = s1_vv.add(s1_vh).rename('VV_plus_VH')\n",
    "vv_minus_vh = s1_vv.subtract(s1_vh).rename('VV_minus_VH')\n",
    "vv_div_vh = s1_vv.divide(s1_vh).rename('VV_div_VH')\n",
    "vv_vh_div_2 = s1_vv.add(s1_vh).divide(2).rename('VV_VH_div_2')\n",
    "\n",
    "# Combinar las bandas VV, VH y RVI en una sola imagen\n",
    "s1_combined = ee.Image.cat([s1_vv, s1_vh, vv_plus_vh, vv_minus_vh, vv_div_vh, vv_vh_div_2, rvi]).clip(roi)\n",
    "\n",
    "# Añadir las bandas VV, VH, RVI y álgebra de bandas a la imagen\n",
    "image = image.addBands(s1_combined)\n",
    "\n",
    "# Añadir SRTM DEM y pendiente\n",
    "dem = ee.Image('USGS/SRTMGL1_003').select('elevation').clip(roi)\n",
    "slope = ee.Terrain.slope(dem).rename('slope').clip(roi)\n",
    "\n",
    "# Añadir las bandas DEM y pendiente a la imagen\n",
    "image = image.addBands(dem.rename('elevation'))\n",
    "image = image.addBands(slope)\n",
    "\n",
    "# Filtrar y procesar la colección PALSAR-2 para HH\n",
    "img_hh = (\n",
    "    ee.ImageCollection('JAXA/ALOS/PALSAR/YEARLY/SAR_EPOCH')\n",
    "    .filterBounds(roi)\n",
    "    .filterDate(start, end)\n",
    "    .select('HH')\n",
    "    .map(preprocess)\n",
    ")\n",
    "\n",
    "# Filtrar y procesar la colección PALSAR-2 para HV\n",
    "img_hv = (\n",
    "    ee.ImageCollection('JAXA/ALOS/PALSAR/YEARLY/SAR_EPOCH')\n",
    "    .filterBounds(roi)\n",
    "    .filterDate(start, end)\n",
    "    .select('HV')\n",
    "    .map(preprocess)\n",
    ")\n",
    "\n",
    "# Promedio de imágenes HH y HV\n",
    "palsar_hh = img_hh.median().rename('HH')\n",
    "palsar_hv = img_hv.median().rename('HV')\n",
    "\n",
    "# Calcular el índice RVI\n",
    "rvi = palsar_hv.divide(palsar_hh.add(palsar_hv)).multiply(4).rename('RVI_palsar')\n",
    "hh_plus_hv = palsar_hh.add(palsar_hv).rename('HH_plus_HV')\n",
    "hh_minus_hv = palsar_hh.subtract(palsar_hv).rename('HH_minus_HV')\n",
    "hh_div_hv = palsar_hh.divide(palsar_hv).rename('HH_div_HV')\n",
    "hh_hv_div_2 = palsar_hh.add(palsar_hv).divide(2).rename('HH_HV_div_2')\n",
    "\n",
    "\n",
    "# Combinar las bandas HH, HV y RVI en una sola imagen\n",
    "palsar_combined = ee.Image.cat([palsar_hh, palsar_hv, hh_plus_hv, hh_minus_hv, hh_div_hv, hh_hv_div_2, rvi]).clip(roi)\n",
    "\n",
    "# Añadir las bandas HH, HV, RVI y álgebra de bandas a la imagen final\n",
    "image = image.addBands(palsar_combined)\n",
    "\n",
    "\n",
    "bands = ['B11', 'B12','B8', 'B2', 'B3', 'B4', 'CH', 'MNDWI', 'NDBI', 'NDVI','EVI', 'SAVI','RVI', 'VH', 'VV', 'VV_VH_div_2', 'VV_div_VH', 'VV_minus_VH', 'VV_plus_VH', 'elevation', 'slope', 'HH', 'HV','RVI_palsar','HH_plus_HV','HH_minus_HV','HH_div_HV','HH_HV_div_2','label']\n",
    "# Seleccionar solo las bandas especificadas\n",
    "image = image.select(bands)\n"
   ]
  },
  {
   "cell_type": "code",
   "execution_count": 6,
   "metadata": {},
   "outputs": [
    {
     "data": {
      "text/html": [
       "\n",
       "            <style>\n",
       "                .geemap-dark {\n",
       "                    --jp-widgets-color: white;\n",
       "                    --jp-widgets-label-color: white;\n",
       "                    --jp-ui-font-color1: white;\n",
       "                    --jp-layout-color2: #454545;\n",
       "                    background-color: #383838;\n",
       "                }\n",
       "\n",
       "                .geemap-dark .jupyter-button {\n",
       "                    --jp-layout-color3: #383838;\n",
       "                }\n",
       "\n",
       "                .geemap-colab {\n",
       "                    background-color: var(--colab-primary-surface-color, white);\n",
       "                }\n",
       "\n",
       "                .geemap-colab .jupyter-button {\n",
       "                    --jp-layout-color3: var(--colab-primary-surface-color, white);\n",
       "                }\n",
       "            </style>\n",
       "            "
      ],
      "text/plain": [
       "<IPython.core.display.HTML object>"
      ]
     },
     "metadata": {},
     "output_type": "display_data"
    },
    {
     "ename": "EEException",
     "evalue": "Image.select: Band pattern 'B4' was applied to an Image with no bands. See https://developers.google.com/earth-engine/guides/debugging#no-bands",
     "output_type": "error",
     "traceback": [
      "\u001b[1;31m---------------------------------------------------------------------------\u001b[0m",
      "\u001b[1;31mHttpError\u001b[0m                                 Traceback (most recent call last)",
      "File \u001b[1;32mc:\\Users\\Facu\\anaconda3\\envs\\Geo\\Lib\\site-packages\\ee\\data.py:402\u001b[0m, in \u001b[0;36m_execute_cloud_call\u001b[1;34m(call, num_retries)\u001b[0m\n\u001b[0;32m    401\u001b[0m \u001b[38;5;28;01mtry\u001b[39;00m:\n\u001b[1;32m--> 402\u001b[0m   \u001b[38;5;28;01mreturn\u001b[39;00m \u001b[43mcall\u001b[49m\u001b[38;5;241;43m.\u001b[39;49m\u001b[43mexecute\u001b[49m\u001b[43m(\u001b[49m\u001b[43mnum_retries\u001b[49m\u001b[38;5;241;43m=\u001b[39;49m\u001b[43mnum_retries\u001b[49m\u001b[43m)\u001b[49m\n\u001b[0;32m    403\u001b[0m \u001b[38;5;28;01mexcept\u001b[39;00m googleapiclient\u001b[38;5;241m.\u001b[39merrors\u001b[38;5;241m.\u001b[39mHttpError \u001b[38;5;28;01mas\u001b[39;00m e:\n",
      "File \u001b[1;32mc:\\Users\\Facu\\anaconda3\\envs\\Geo\\Lib\\site-packages\\googleapiclient\\_helpers.py:130\u001b[0m, in \u001b[0;36mpositional.<locals>.positional_decorator.<locals>.positional_wrapper\u001b[1;34m(*args, **kwargs)\u001b[0m\n\u001b[0;32m    129\u001b[0m         logger\u001b[38;5;241m.\u001b[39mwarning(message)\n\u001b[1;32m--> 130\u001b[0m \u001b[38;5;28;01mreturn\u001b[39;00m \u001b[43mwrapped\u001b[49m\u001b[43m(\u001b[49m\u001b[38;5;241;43m*\u001b[39;49m\u001b[43margs\u001b[49m\u001b[43m,\u001b[49m\u001b[43m \u001b[49m\u001b[38;5;241;43m*\u001b[39;49m\u001b[38;5;241;43m*\u001b[39;49m\u001b[43mkwargs\u001b[49m\u001b[43m)\u001b[49m\n",
      "File \u001b[1;32mc:\\Users\\Facu\\anaconda3\\envs\\Geo\\Lib\\site-packages\\googleapiclient\\http.py:938\u001b[0m, in \u001b[0;36mHttpRequest.execute\u001b[1;34m(self, http, num_retries)\u001b[0m\n\u001b[0;32m    937\u001b[0m \u001b[38;5;28;01mif\u001b[39;00m resp\u001b[38;5;241m.\u001b[39mstatus \u001b[38;5;241m>\u001b[39m\u001b[38;5;241m=\u001b[39m \u001b[38;5;241m300\u001b[39m:\n\u001b[1;32m--> 938\u001b[0m     \u001b[38;5;28;01mraise\u001b[39;00m HttpError(resp, content, uri\u001b[38;5;241m=\u001b[39m\u001b[38;5;28mself\u001b[39m\u001b[38;5;241m.\u001b[39muri)\n\u001b[0;32m    939\u001b[0m \u001b[38;5;28;01mreturn\u001b[39;00m \u001b[38;5;28mself\u001b[39m\u001b[38;5;241m.\u001b[39mpostproc(resp, content)\n",
      "\u001b[1;31mHttpError\u001b[0m: <HttpError 400 when requesting https://earthengine.googleapis.com/v1/projects/ee-facuboladerasgee/maps?fields=name&alt=json returned \"Image.select: Band pattern 'B4' was applied to an Image with no bands. See https://developers.google.com/earth-engine/guides/debugging#no-bands\". Details: \"Image.select: Band pattern 'B4' was applied to an Image with no bands. See https://developers.google.com/earth-engine/guides/debugging#no-bands\">",
      "\nDuring handling of the above exception, another exception occurred:\n",
      "\u001b[1;31mEEException\u001b[0m                               Traceback (most recent call last)",
      "Cell \u001b[1;32mIn[6], line 10\u001b[0m\n\u001b[0;32m      2\u001b[0m visParamsS1 \u001b[38;5;241m=\u001b[39m {\n\u001b[0;32m      3\u001b[0m     \u001b[38;5;124m'\u001b[39m\u001b[38;5;124mmin\u001b[39m\u001b[38;5;124m'\u001b[39m: \u001b[38;5;241m-\u001b[39m\u001b[38;5;241m25\u001b[39m,\n\u001b[0;32m      4\u001b[0m     \u001b[38;5;124m'\u001b[39m\u001b[38;5;124mmax\u001b[39m\u001b[38;5;124m'\u001b[39m: \u001b[38;5;241m0\u001b[39m,\n\u001b[0;32m      5\u001b[0m     \u001b[38;5;124m'\u001b[39m\u001b[38;5;124mbands\u001b[39m\u001b[38;5;124m'\u001b[39m: [\u001b[38;5;124m'\u001b[39m\u001b[38;5;124mVV\u001b[39m\u001b[38;5;124m'\u001b[39m]\n\u001b[0;32m      6\u001b[0m }\n\u001b[0;32m      9\u001b[0m Map\u001b[38;5;241m.\u001b[39mcenterObject(roi, \u001b[38;5;241m10\u001b[39m)\n\u001b[1;32m---> 10\u001b[0m \u001b[43mMap\u001b[49m\u001b[38;5;241;43m.\u001b[39;49m\u001b[43maddLayer\u001b[49m\u001b[43m(\u001b[49m\u001b[43mimage\u001b[49m\u001b[43m,\u001b[49m\u001b[43m \u001b[49m\u001b[43mvisParamsS1\u001b[49m\u001b[43m \u001b[49m\u001b[43m,\u001b[49m\u001b[43m \u001b[49m\u001b[38;5;124;43m'\u001b[39;49m\u001b[38;5;124;43mVV\u001b[39;49m\u001b[38;5;124;43m'\u001b[39;49m\u001b[43m,\u001b[49m\u001b[43m \u001b[49m\u001b[38;5;28;43;01mFalse\u001b[39;49;00m\u001b[43m)\u001b[49m\n\u001b[0;32m     11\u001b[0m Map\n",
      "File \u001b[1;32mc:\\Users\\Facu\\anaconda3\\envs\\Geo\\Lib\\site-packages\\geemap\\geemap.py:342\u001b[0m, in \u001b[0;36mMap.add_ee_layer\u001b[1;34m(self, ee_object, vis_params, name, shown, opacity)\u001b[0m\n\u001b[0;32m    337\u001b[0m         \u001b[38;5;28;01mif\u001b[39;00m has_plot_dropdown:\n\u001b[0;32m    338\u001b[0m             \u001b[38;5;28mself\u001b[39m\u001b[38;5;241m.\u001b[39m_plot_dropdown_widget\u001b[38;5;241m.\u001b[39moptions \u001b[38;5;241m=\u001b[39m \u001b[38;5;28mlist\u001b[39m(\n\u001b[0;32m    339\u001b[0m                 \u001b[38;5;28mself\u001b[39m\u001b[38;5;241m.\u001b[39mee_raster_layers\u001b[38;5;241m.\u001b[39mkeys()\n\u001b[0;32m    340\u001b[0m             )\n\u001b[1;32m--> 342\u001b[0m \u001b[38;5;28;43msuper\u001b[39;49m\u001b[43m(\u001b[49m\u001b[43m)\u001b[49m\u001b[38;5;241;43m.\u001b[39;49m\u001b[43madd_layer\u001b[49m\u001b[43m(\u001b[49m\u001b[43mee_object\u001b[49m\u001b[43m,\u001b[49m\u001b[43m \u001b[49m\u001b[43mvis_params\u001b[49m\u001b[43m,\u001b[49m\u001b[43m \u001b[49m\u001b[43mname\u001b[49m\u001b[43m,\u001b[49m\u001b[43m \u001b[49m\u001b[43mshown\u001b[49m\u001b[43m,\u001b[49m\u001b[43m \u001b[49m\u001b[43mopacity\u001b[49m\u001b[43m)\u001b[49m\n\u001b[0;32m    344\u001b[0m \u001b[38;5;28;01mif\u001b[39;00m \u001b[38;5;28misinstance\u001b[39m(ee_object, (ee\u001b[38;5;241m.\u001b[39mImage, ee\u001b[38;5;241m.\u001b[39mImageCollection)):\n\u001b[0;32m    345\u001b[0m     \u001b[38;5;28;01mif\u001b[39;00m has_plot_dropdown:\n",
      "File \u001b[1;32mc:\\Users\\Facu\\anaconda3\\envs\\Geo\\Lib\\site-packages\\geemap\\core.py:754\u001b[0m, in \u001b[0;36mMap.add_layer\u001b[1;34m(self, ee_object, vis_params, name, shown, opacity)\u001b[0m\n\u001b[0;32m    752\u001b[0m \u001b[38;5;28;01mif\u001b[39;00m name \u001b[38;5;129;01mis\u001b[39;00m \u001b[38;5;28;01mNone\u001b[39;00m:\n\u001b[0;32m    753\u001b[0m     name \u001b[38;5;241m=\u001b[39m \u001b[38;5;124mf\u001b[39m\u001b[38;5;124m\"\u001b[39m\u001b[38;5;124mLayer \u001b[39m\u001b[38;5;132;01m{\u001b[39;00m\u001b[38;5;28mlen\u001b[39m(\u001b[38;5;28mself\u001b[39m\u001b[38;5;241m.\u001b[39mee_layers)\u001b[38;5;250m \u001b[39m\u001b[38;5;241m+\u001b[39m\u001b[38;5;250m \u001b[39m\u001b[38;5;241m1\u001b[39m\u001b[38;5;132;01m}\u001b[39;00m\u001b[38;5;124m\"\u001b[39m\n\u001b[1;32m--> 754\u001b[0m tile_layer \u001b[38;5;241m=\u001b[39m \u001b[43mee_tile_layers\u001b[49m\u001b[38;5;241;43m.\u001b[39;49m\u001b[43mEELeafletTileLayer\u001b[49m\u001b[43m(\u001b[49m\n\u001b[0;32m    755\u001b[0m \u001b[43m    \u001b[49m\u001b[43mee_object\u001b[49m\u001b[43m,\u001b[49m\u001b[43m \u001b[49m\u001b[43mvis_params\u001b[49m\u001b[43m,\u001b[49m\u001b[43m \u001b[49m\u001b[43mname\u001b[49m\u001b[43m,\u001b[49m\u001b[43m \u001b[49m\u001b[43mshown\u001b[49m\u001b[43m,\u001b[49m\u001b[43m \u001b[49m\u001b[43mopacity\u001b[49m\n\u001b[0;32m    756\u001b[0m \u001b[43m\u001b[49m\u001b[43m)\u001b[49m\n\u001b[0;32m    758\u001b[0m \u001b[38;5;66;03m# Remove the layer if it already exists.\u001b[39;00m\n\u001b[0;32m    759\u001b[0m \u001b[38;5;28mself\u001b[39m\u001b[38;5;241m.\u001b[39mremove(name)\n",
      "File \u001b[1;32mc:\\Users\\Facu\\anaconda3\\envs\\Geo\\Lib\\site-packages\\geemap\\ee_tile_layers.py:144\u001b[0m, in \u001b[0;36mEELeafletTileLayer.__init__\u001b[1;34m(self, ee_object, vis_params, name, shown, opacity, **kwargs)\u001b[0m\n\u001b[0;32m    134\u001b[0m \u001b[38;5;250m\u001b[39m\u001b[38;5;124;03m\"\"\"Initialize the ipyleaflet tile layer.\u001b[39;00m\n\u001b[0;32m    135\u001b[0m \n\u001b[0;32m    136\u001b[0m \u001b[38;5;124;03mArgs:\u001b[39;00m\n\u001b[1;32m   (...)\u001b[0m\n\u001b[0;32m    141\u001b[0m \u001b[38;5;124;03m    opacity (float, optional): The layer's opacity represented as a number between 0 and 1. Defaults to 1.\u001b[39;00m\n\u001b[0;32m    142\u001b[0m \u001b[38;5;124;03m\"\"\"\u001b[39;00m\n\u001b[0;32m    143\u001b[0m \u001b[38;5;28mself\u001b[39m\u001b[38;5;241m.\u001b[39m_ee_object \u001b[38;5;241m=\u001b[39m ee_object\n\u001b[1;32m--> 144\u001b[0m \u001b[38;5;28mself\u001b[39m\u001b[38;5;241m.\u001b[39murl_format \u001b[38;5;241m=\u001b[39m \u001b[43m_get_tile_url_format\u001b[49m\u001b[43m(\u001b[49m\n\u001b[0;32m    145\u001b[0m \u001b[43m    \u001b[49m\u001b[43mee_object\u001b[49m\u001b[43m,\u001b[49m\u001b[43m \u001b[49m\u001b[43m_validate_vis_params\u001b[49m\u001b[43m(\u001b[49m\u001b[43mvis_params\u001b[49m\u001b[43m)\u001b[49m\n\u001b[0;32m    146\u001b[0m \u001b[43m\u001b[49m\u001b[43m)\u001b[49m\n\u001b[0;32m    147\u001b[0m \u001b[38;5;28msuper\u001b[39m()\u001b[38;5;241m.\u001b[39m\u001b[38;5;21m__init__\u001b[39m(\n\u001b[0;32m    148\u001b[0m     url\u001b[38;5;241m=\u001b[39m\u001b[38;5;28mself\u001b[39m\u001b[38;5;241m.\u001b[39murl_format,\n\u001b[0;32m    149\u001b[0m     attribution\u001b[38;5;241m=\u001b[39m\u001b[38;5;124m\"\u001b[39m\u001b[38;5;124mGoogle Earth Engine\u001b[39m\u001b[38;5;124m\"\u001b[39m,\n\u001b[1;32m   (...)\u001b[0m\n\u001b[0;32m    154\u001b[0m     \u001b[38;5;241m*\u001b[39m\u001b[38;5;241m*\u001b[39mkwargs,\n\u001b[0;32m    155\u001b[0m )\n",
      "File \u001b[1;32mc:\\Users\\Facu\\anaconda3\\envs\\Geo\\Lib\\site-packages\\geemap\\ee_tile_layers.py:19\u001b[0m, in \u001b[0;36m_get_tile_url_format\u001b[1;34m(ee_object, vis_params)\u001b[0m\n\u001b[0;32m     17\u001b[0m \u001b[38;5;28;01mdef\u001b[39;00m \u001b[38;5;21m_get_tile_url_format\u001b[39m(ee_object, vis_params):\n\u001b[0;32m     18\u001b[0m     image \u001b[38;5;241m=\u001b[39m _ee_object_to_image(ee_object, vis_params)\n\u001b[1;32m---> 19\u001b[0m     map_id_dict \u001b[38;5;241m=\u001b[39m \u001b[43mee\u001b[49m\u001b[38;5;241;43m.\u001b[39;49m\u001b[43mImage\u001b[49m\u001b[43m(\u001b[49m\u001b[43mimage\u001b[49m\u001b[43m)\u001b[49m\u001b[38;5;241;43m.\u001b[39;49m\u001b[43mgetMapId\u001b[49m\u001b[43m(\u001b[49m\u001b[43mvis_params\u001b[49m\u001b[43m)\u001b[49m\n\u001b[0;32m     20\u001b[0m     \u001b[38;5;28;01mreturn\u001b[39;00m map_id_dict[\u001b[38;5;124m\"\u001b[39m\u001b[38;5;124mtile_fetcher\u001b[39m\u001b[38;5;124m\"\u001b[39m]\u001b[38;5;241m.\u001b[39murl_format\n",
      "File \u001b[1;32mc:\\Users\\Facu\\anaconda3\\envs\\Geo\\Lib\\site-packages\\ee\\image.py:195\u001b[0m, in \u001b[0;36mImage.getMapId\u001b[1;34m(self, vis_params)\u001b[0m\n\u001b[0;32m    193\u001b[0m vis_image, request \u001b[38;5;241m=\u001b[39m \u001b[38;5;28mself\u001b[39m\u001b[38;5;241m.\u001b[39m_apply_visualization(vis_params)\n\u001b[0;32m    194\u001b[0m request[\u001b[38;5;124m'\u001b[39m\u001b[38;5;124mimage\u001b[39m\u001b[38;5;124m'\u001b[39m] \u001b[38;5;241m=\u001b[39m vis_image\n\u001b[1;32m--> 195\u001b[0m response \u001b[38;5;241m=\u001b[39m \u001b[43mdata\u001b[49m\u001b[38;5;241;43m.\u001b[39;49m\u001b[43mgetMapId\u001b[49m\u001b[43m(\u001b[49m\u001b[43mrequest\u001b[49m\u001b[43m)\u001b[49m\n\u001b[0;32m    196\u001b[0m response[\u001b[38;5;124m'\u001b[39m\u001b[38;5;124mimage\u001b[39m\u001b[38;5;124m'\u001b[39m] \u001b[38;5;241m=\u001b[39m \u001b[38;5;28mself\u001b[39m\n\u001b[0;32m    197\u001b[0m \u001b[38;5;28;01mreturn\u001b[39;00m response\n",
      "File \u001b[1;32mc:\\Users\\Facu\\anaconda3\\envs\\Geo\\Lib\\site-packages\\ee\\data.py:730\u001b[0m, in \u001b[0;36mgetMapId\u001b[1;34m(params)\u001b[0m\n\u001b[0;32m    725\u001b[0m queryParams \u001b[38;5;241m=\u001b[39m {\n\u001b[0;32m    726\u001b[0m     \u001b[38;5;124m'\u001b[39m\u001b[38;5;124mfields\u001b[39m\u001b[38;5;124m'\u001b[39m: \u001b[38;5;124m'\u001b[39m\u001b[38;5;124mname\u001b[39m\u001b[38;5;124m'\u001b[39m,\n\u001b[0;32m    727\u001b[0m     \u001b[38;5;124m'\u001b[39m\u001b[38;5;124mbody\u001b[39m\u001b[38;5;124m'\u001b[39m: request,\n\u001b[0;32m    728\u001b[0m }\n\u001b[0;32m    729\u001b[0m _maybe_populate_workload_tag(queryParams)\n\u001b[1;32m--> 730\u001b[0m result \u001b[38;5;241m=\u001b[39m \u001b[43m_execute_cloud_call\u001b[49m\u001b[43m(\u001b[49m\n\u001b[0;32m    731\u001b[0m \u001b[43m    \u001b[49m\u001b[43m_get_cloud_projects\u001b[49m\u001b[43m(\u001b[49m\u001b[43m)\u001b[49m\n\u001b[0;32m    732\u001b[0m \u001b[43m    \u001b[49m\u001b[38;5;241;43m.\u001b[39;49m\u001b[43mmaps\u001b[49m\u001b[43m(\u001b[49m\u001b[43m)\u001b[49m\n\u001b[0;32m    733\u001b[0m \u001b[43m    \u001b[49m\u001b[38;5;241;43m.\u001b[39;49m\u001b[43mcreate\u001b[49m\u001b[43m(\u001b[49m\u001b[43mparent\u001b[49m\u001b[38;5;241;43m=\u001b[39;49m\u001b[43m_get_projects_path\u001b[49m\u001b[43m(\u001b[49m\u001b[43m)\u001b[49m\u001b[43m,\u001b[49m\u001b[43m \u001b[49m\u001b[38;5;241;43m*\u001b[39;49m\u001b[38;5;241;43m*\u001b[39;49m\u001b[43mqueryParams\u001b[49m\u001b[43m)\u001b[49m\n\u001b[0;32m    734\u001b[0m \u001b[43m\u001b[49m\u001b[43m)\u001b[49m\n\u001b[0;32m    735\u001b[0m map_name \u001b[38;5;241m=\u001b[39m result[\u001b[38;5;124m'\u001b[39m\u001b[38;5;124mname\u001b[39m\u001b[38;5;124m'\u001b[39m]\n\u001b[0;32m    736\u001b[0m url_format \u001b[38;5;241m=\u001b[39m \u001b[38;5;124m'\u001b[39m\u001b[38;5;132;01m%s\u001b[39;00m\u001b[38;5;124m/\u001b[39m\u001b[38;5;132;01m%s\u001b[39;00m\u001b[38;5;124m/\u001b[39m\u001b[38;5;132;01m%s\u001b[39;00m\u001b[38;5;124m/tiles/\u001b[39m\u001b[38;5;132;01m{z}\u001b[39;00m\u001b[38;5;124m/\u001b[39m\u001b[38;5;132;01m{x}\u001b[39;00m\u001b[38;5;124m/\u001b[39m\u001b[38;5;132;01m{y}\u001b[39;00m\u001b[38;5;124m'\u001b[39m \u001b[38;5;241m%\u001b[39m (\n\u001b[0;32m    737\u001b[0m     _tile_base_url, _cloud_api_utils\u001b[38;5;241m.\u001b[39mVERSION, map_name)\n",
      "File \u001b[1;32mc:\\Users\\Facu\\anaconda3\\envs\\Geo\\Lib\\site-packages\\ee\\data.py:404\u001b[0m, in \u001b[0;36m_execute_cloud_call\u001b[1;34m(call, num_retries)\u001b[0m\n\u001b[0;32m    402\u001b[0m   \u001b[38;5;28;01mreturn\u001b[39;00m call\u001b[38;5;241m.\u001b[39mexecute(num_retries\u001b[38;5;241m=\u001b[39mnum_retries)\n\u001b[0;32m    403\u001b[0m \u001b[38;5;28;01mexcept\u001b[39;00m googleapiclient\u001b[38;5;241m.\u001b[39merrors\u001b[38;5;241m.\u001b[39mHttpError \u001b[38;5;28;01mas\u001b[39;00m e:\n\u001b[1;32m--> 404\u001b[0m   \u001b[38;5;28;01mraise\u001b[39;00m _translate_cloud_exception(e)\n",
      "\u001b[1;31mEEException\u001b[0m: Image.select: Band pattern 'B4' was applied to an Image with no bands. See https://developers.google.com/earth-engine/guides/debugging#no-bands"
     ]
    }
   ],
   "source": [
    "# Parámetros de visualización para Sentinel-1\n",
    "visParamsS1 = {\n",
    "    'min': -25,\n",
    "    'max': 0,\n",
    "    'bands': ['VV']\n",
    "}\n",
    "\n",
    "\n",
    "Map.centerObject(roi, 10)\n",
    "Map.addLayer(image, visParamsS1 , 'VV', False)\n",
    "Map"
   ]
  },
  {
   "cell_type": "code",
   "execution_count": 43,
   "metadata": {},
   "outputs": [
    {
     "data": {
      "text/html": [
       "\n",
       "            <style>\n",
       "                .geemap-dark {\n",
       "                    --jp-widgets-color: white;\n",
       "                    --jp-widgets-label-color: white;\n",
       "                    --jp-ui-font-color1: white;\n",
       "                    --jp-layout-color2: #454545;\n",
       "                    background-color: #383838;\n",
       "                }\n",
       "\n",
       "                .geemap-dark .jupyter-button {\n",
       "                    --jp-layout-color3: #383838;\n",
       "                }\n",
       "\n",
       "                .geemap-colab {\n",
       "                    background-color: var(--colab-primary-surface-color, white);\n",
       "                }\n",
       "\n",
       "                .geemap-colab .jupyter-button {\n",
       "                    --jp-layout-color3: var(--colab-primary-surface-color, white);\n",
       "                }\n",
       "            </style>\n",
       "            "
      ],
      "text/plain": [
       "<IPython.core.display.HTML object>"
      ]
     },
     "metadata": {},
     "output_type": "display_data"
    }
   ],
   "source": [
    "feature_names = ['B11', 'B12','B8', 'B2', 'B3', 'B4', 'CH', 'MNDWI', 'NDBI', 'NDVI','EVI', 'SAVI','RVI', 'VH', 'VV', 'VV_VH_div_2', 'VV_div_VH', 'VV_minus_VH', 'VV_plus_VH', 'elevation', 'slope', 'HH', 'HV','RVI_palsar','HH_plus_HV','HH_minus_HV','HH_div_HV','HH_HV_div_2']\n",
    "label = \"agbd\"\n",
    "\n",
    "user_id = 'users/facuboladerasgee'\n",
    "# specify asset id where to save trees\n",
    "# be sure to change  to your ee user name\n",
    "asset_id = user_id + \"/RF_Malawi\"\n",
    "asset_id\n",
    "\n",
    "# read the exported tree feature collection\n",
    "rf_fc = ee.FeatureCollection(asset_id)\n",
    "\n",
    "# convert it to a classifier, very similar to the `ml.trees_to_classifier` function\n",
    "another_classifier = ml.fc_to_classifier(rf_fc)\n",
    "\n",
    "# classify the image again but with the classifier from the persisted trees\n",
    "classified = image.select(feature_names).classify(another_classifier)"
   ]
  },
  {
   "cell_type": "code",
   "execution_count": 66,
   "metadata": {},
   "outputs": [
    {
     "data": {
      "text/html": [
       "\n",
       "            <style>\n",
       "                .geemap-dark {\n",
       "                    --jp-widgets-color: white;\n",
       "                    --jp-widgets-label-color: white;\n",
       "                    --jp-ui-font-color1: white;\n",
       "                    --jp-layout-color2: #454545;\n",
       "                    background-color: #383838;\n",
       "                }\n",
       "\n",
       "                .geemap-dark .jupyter-button {\n",
       "                    --jp-layout-color3: #383838;\n",
       "                }\n",
       "\n",
       "                .geemap-colab {\n",
       "                    background-color: var(--colab-primary-surface-color, white);\n",
       "                }\n",
       "\n",
       "                .geemap-colab .jupyter-button {\n",
       "                    --jp-layout-color3: var(--colab-primary-surface-color, white);\n",
       "                }\n",
       "            </style>\n",
       "            "
      ],
      "text/plain": [
       "<IPython.core.display.HTML object>"
      ]
     },
     "metadata": {},
     "output_type": "display_data"
    }
   ],
   "source": [
    "feature_names = ['B11', 'B12','B8', 'B2', 'B3', 'B4', 'CH', 'MNDWI', 'NDBI', 'NDVI','EVI', 'SAVI','RVI', 'VH', 'VV', 'VV_VH_div_2', 'VV_div_VH', 'VV_minus_VH', 'VV_plus_VH', 'elevation', 'slope', 'HH', 'HV','RVI_palsar','HH_plus_HV','HH_minus_HV','HH_div_HV','HH_HV_div_2']\n",
    "label = \"agbd\"\n",
    "user_id = 'users/facuboladerasgee'\n",
    "def recombine_model_parts(user_id, base_asset_id, num_parts):\n",
    "    parts = [ee.FeatureCollection(f\"{base_asset_id}_part_{i}\") for i in range(num_parts)]\n",
    "    combined_fc = ee.FeatureCollection(parts[0])\n",
    "    \n",
    "    for part in parts[1:]:\n",
    "        combined_fc = combined_fc.merge(part)\n",
    "    \n",
    "    return ml.fc_to_classifier(combined_fc)\n",
    "\n",
    "# Ejemplo de uso:\n",
    "num_parts = 2  # Ajusta este número según la cantidad de partes exportadas\n",
    "base_asset_id = f\"{user_id}/Rf_Malawi_complete\"\n",
    "recombined_classifier = recombine_model_parts(user_id, base_asset_id, num_parts)\n",
    "\n",
    "# Clasificar la imagen con el clasificador recombinado\n",
    "classified = image.select(feature_names).classify(recombined_classifier)\n"
   ]
  },
  {
   "cell_type": "code",
   "execution_count": 14,
   "metadata": {},
   "outputs": [
    {
     "data": {
      "text/html": [
       "\n",
       "            <style>\n",
       "                .geemap-dark {\n",
       "                    --jp-widgets-color: white;\n",
       "                    --jp-widgets-label-color: white;\n",
       "                    --jp-ui-font-color1: white;\n",
       "                    --jp-layout-color2: #454545;\n",
       "                    background-color: #383838;\n",
       "                }\n",
       "\n",
       "                .geemap-dark .jupyter-button {\n",
       "                    --jp-layout-color3: #383838;\n",
       "                }\n",
       "\n",
       "                .geemap-colab {\n",
       "                    background-color: var(--colab-primary-surface-color, white);\n",
       "                }\n",
       "\n",
       "                .geemap-colab .jupyter-button {\n",
       "                    --jp-layout-color3: var(--colab-primary-surface-color, white);\n",
       "                }\n",
       "            </style>\n",
       "            "
      ],
      "text/plain": [
       "<IPython.core.display.HTML object>"
      ]
     },
     "metadata": {},
     "output_type": "display_data"
    },
    {
     "name": "stdout",
     "output_type": "stream",
     "text": [
      "Max value of the classified image: 155.93490694999983\n"
     ]
    }
   ],
   "source": [
    "# # Reducir la imagen clasificada a su valor máximo en la región de interés\n",
    "# max_value = classified.reduceRegion(\n",
    "#     reducer=ee.Reducer.max(),\n",
    "#     geometry=roi,\n",
    "#     scale=100,\n",
    "#     maxPixels=1e9\n",
    "# )\n",
    "\n",
    "# # Obtener el valor máximo de la reducción\n",
    "# max_agbd = max_value.get('classification').getInfo()\n",
    "# print(f\"Max value of the classified image: {max_agbd}\")"
   ]
  },
  {
   "cell_type": "code",
   "execution_count": 67,
   "metadata": {},
   "outputs": [
    {
     "data": {
      "text/html": [
       "\n",
       "            <style>\n",
       "                .geemap-dark {\n",
       "                    --jp-widgets-color: white;\n",
       "                    --jp-widgets-label-color: white;\n",
       "                    --jp-ui-font-color1: white;\n",
       "                    --jp-layout-color2: #454545;\n",
       "                    background-color: #383838;\n",
       "                }\n",
       "\n",
       "                .geemap-dark .jupyter-button {\n",
       "                    --jp-layout-color3: #383838;\n",
       "                }\n",
       "\n",
       "                .geemap-colab {\n",
       "                    background-color: var(--colab-primary-surface-color, white);\n",
       "                }\n",
       "\n",
       "                .geemap-colab .jupyter-button {\n",
       "                    --jp-layout-color3: var(--colab-primary-surface-color, white);\n",
       "                }\n",
       "            </style>\n",
       "            "
      ],
      "text/plain": [
       "<IPython.core.display.HTML object>"
      ]
     },
     "metadata": {},
     "output_type": "display_data"
    },
    {
     "data": {
      "application/vnd.jupyter.widget-view+json": {
       "model_id": "40a4d2a1eeb1414ca05be1a1608dcc31",
       "version_major": 2,
       "version_minor": 0
      },
      "text/plain": [
       "Map(center=[0, 0], controls=(WidgetControl(options=['position', 'transparent_bg'], widget=SearchDataGUI(childr…"
      ]
     },
     "execution_count": 67,
     "metadata": {},
     "output_type": "execute_result"
    }
   ],
   "source": [
    "# Centrar el mapa en la región de interés\n",
    "Map = geemap.Map(center=[0, 0], zoom=2)\n",
    "Map.centerObject(roi)\n",
    "\n",
    "visPredictedBiomass = {\n",
    "    'min': 0,\n",
    "    'max': 200,\n",
    "    'palette': ['lightyellow', 'lightgreen', 'green', 'darkgreen']\n",
    "}\n",
    "\n",
    "Map = geemap.Map(zoom=11)\n",
    "Map.add_basemap('SATELLITE')\n",
    "Map.centerObject(roi)\n",
    "\n",
    "Map.addLayer(\n",
    "    classified,\n",
    "    visPredictedBiomass,\n",
    "    \"classification\",)\n",
    "Map.add_colorbar(visPredictedBiomass, label=\"Predicted Biomass\")\n",
    "Map"
   ]
  },
  {
   "cell_type": "code",
   "execution_count": 68,
   "metadata": {},
   "outputs": [
    {
     "data": {
      "text/html": [
       "\n",
       "            <style>\n",
       "                .geemap-dark {\n",
       "                    --jp-widgets-color: white;\n",
       "                    --jp-widgets-label-color: white;\n",
       "                    --jp-ui-font-color1: white;\n",
       "                    --jp-layout-color2: #454545;\n",
       "                    background-color: #383838;\n",
       "                }\n",
       "\n",
       "                .geemap-dark .jupyter-button {\n",
       "                    --jp-layout-color3: #383838;\n",
       "                }\n",
       "\n",
       "                .geemap-colab {\n",
       "                    background-color: var(--colab-primary-surface-color, white);\n",
       "                }\n",
       "\n",
       "                .geemap-colab .jupyter-button {\n",
       "                    --jp-layout-color3: var(--colab-primary-surface-color, white);\n",
       "                }\n",
       "            </style>\n",
       "            "
      ],
      "text/plain": [
       "<IPython.core.display.HTML object>"
      ]
     },
     "metadata": {},
     "output_type": "display_data"
    },
    {
     "name": "stdout",
     "output_type": "stream",
     "text": [
      "Exportación iniciada. Revisa tu Google Drive en la carpeta 'EE_RF'.\n",
      "Exportación en progreso...\n",
      "Exportación en progreso...\n",
      "Exportación en progreso...\n",
      "Exportación en progreso...\n",
      "Exportación en progreso...\n",
      "Exportación en progreso...\n",
      "Exportación en progreso...\n",
      "Exportación en progreso...\n",
      "Exportación completada con éxito.\n"
     ]
    }
   ],
   "source": [
    "import time\n",
    "\n",
    "# Parámetros de exportación\n",
    "task = ee.batch.Export.image.toDrive(\n",
    "    image=classified,\n",
    "    description='Malawi_2021_complete',\n",
    "    folder='Estimators_Malawi_complete',\n",
    "    region=ee_roi,\n",
    "    scale=30,\n",
    "    crs='EPSG:4326',  # CRS adecuado para Nepal\n",
    "    \n",
    "    \n",
    ")\n",
    "task.start()\n",
    "\n",
    "print(\"Exportación iniciada. Revisa tu Google Drive en la carpeta 'EE_RF'.\")\n",
    "\n",
    "# Esperar a que la tarea de exportación se complete (opcional)\n",
    "while task.active():\n",
    "    print('Exportación en progreso...')\n",
    "    time.sleep(30)  # Esperar 30 segundos antes de verificar el estado nuevamente\n",
    "\n",
    "if task.status()['state'] == 'COMPLETED':\n",
    "    print('Exportación completada con éxito.')\n",
    "else:\n",
    "    print('Error en la exportación:', task.status())"
   ]
  }
 ],
 "metadata": {
  "kernelspec": {
   "display_name": "Geo",
   "language": "python",
   "name": "python3"
  },
  "language_info": {
   "codemirror_mode": {
    "name": "ipython",
    "version": 3
   },
   "file_extension": ".py",
   "mimetype": "text/x-python",
   "name": "python",
   "nbconvert_exporter": "python",
   "pygments_lexer": "ipython3",
   "version": "3.12.4"
  }
 },
 "nbformat": 4,
 "nbformat_minor": 2
}
