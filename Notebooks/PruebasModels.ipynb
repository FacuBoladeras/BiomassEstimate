{
 "cells": [
  {
   "cell_type": "code",
   "execution_count": 1,
   "metadata": {},
   "outputs": [],
   "source": [
    "import ee\n",
    "import geemap\n",
    "from geemap import ml\n",
    "from sklearn import ensemble\n",
    "import pandas as pd\n",
    "from sklearn.model_selection import train_test_split\n",
    "from sklearn.ensemble import RandomForestRegressor\n",
    "from sklearn.metrics import mean_squared_error\n",
    "\n",
    "\n",
    "# Inicializa la autenticación y la inicialización de Google Earth Engine\n",
    "ee.Authenticate()\n",
    "ee.Initialize(project='ee-facuboladerasgee')"
   ]
  },
  {
   "cell_type": "code",
   "execution_count": 2,
   "metadata": {},
   "outputs": [
    {
     "data": {
      "text/html": [
       "\n",
       "            <style>\n",
       "                .geemap-dark {\n",
       "                    --jp-widgets-color: white;\n",
       "                    --jp-widgets-label-color: white;\n",
       "                    --jp-ui-font-color1: white;\n",
       "                    --jp-layout-color2: #454545;\n",
       "                    background-color: #383838;\n",
       "                }\n",
       "\n",
       "                .geemap-dark .jupyter-button {\n",
       "                    --jp-layout-color3: #383838;\n",
       "                }\n",
       "\n",
       "                .geemap-colab {\n",
       "                    background-color: var(--colab-primary-surface-color, white);\n",
       "                }\n",
       "\n",
       "                .geemap-colab .jupyter-button {\n",
       "                    --jp-layout-color3: var(--colab-primary-surface-color, white);\n",
       "                }\n",
       "            </style>\n",
       "            "
      ],
      "text/plain": [
       "<IPython.core.display.HTML object>"
      ]
     },
     "metadata": {},
     "output_type": "display_data"
    }
   ],
   "source": [
    "# Definir la región de interés\n",
    "roi = ee.FeatureCollection('projects/ee-facuboladerasgee/assets/MalawiWoodfuelSite_1a')\n",
    "# Centrar el mapa en la región de interés\n",
    "Map = geemap.Map(center=[0, 0], zoom=2)\n",
    "# Añadir Google Satellite como mapa base\n",
    "Map.add_basemap('SATELLITE')\n",
    "Map.centerObject(roi)"
   ]
  },
  {
   "cell_type": "code",
   "execution_count": 3,
   "metadata": {},
   "outputs": [
    {
     "data": {
      "text/html": [
       "\n",
       "            <style>\n",
       "                .geemap-dark {\n",
       "                    --jp-widgets-color: white;\n",
       "                    --jp-widgets-label-color: white;\n",
       "                    --jp-ui-font-color1: white;\n",
       "                    --jp-layout-color2: #454545;\n",
       "                    background-color: #383838;\n",
       "                }\n",
       "\n",
       "                .geemap-dark .jupyter-button {\n",
       "                    --jp-layout-color3: #383838;\n",
       "                }\n",
       "\n",
       "                .geemap-colab {\n",
       "                    background-color: var(--colab-primary-surface-color, white);\n",
       "                }\n",
       "\n",
       "                .geemap-colab .jupyter-button {\n",
       "                    --jp-layout-color3: var(--colab-primary-surface-color, white);\n",
       "                }\n",
       "            </style>\n",
       "            "
      ],
      "text/plain": [
       "<IPython.core.display.HTML object>"
      ]
     },
     "metadata": {},
     "output_type": "display_data"
    },
    {
     "name": "stdout",
     "output_type": "stream",
     "text": [
      "Coordenadas de ROI: [[[35.147307857226416, -15.036316131901854], [35.15253608286859, -15.223952919778808], [35.15776440008984, -15.411589648079637], [35.20994926360607, -15.410686693842585], [35.26213417872549, -15.409783744326894], [35.314318994087046, -15.408880778443212], [35.366503893152895, -15.407977790870213], [35.3589679641149, -15.032891601485606], [35.30605294737285, -15.033747715996299], [35.25313786054075, -15.034603909691883], [35.20022286170109, -15.035460051719076], [35.147307857226416, -15.036316131901854]]]\n"
     ]
    }
   ],
   "source": [
    "roi_feature = ee.FeatureCollection(roi).first()\n",
    "\n",
    "# Extraer la geometría de la característica\n",
    "roi_geometry = roi_feature.geometry()\n",
    "\n",
    "# Obtener las coordenadas de la geometría\n",
    "roi_coordinates = roi_geometry.coordinates().getInfo()\n",
    "\n",
    "# Imprimir las coordenadas para verificar\n",
    "print(\"Coordenadas de ROI:\", roi_coordinates)\n",
    "\n",
    "# Guardar las coordenadas en una variable\n",
    "roi_coords = roi_coordinates\n",
    "\n",
    "ee_roi =  ee.Geometry.Polygon(roi_coords) "
   ]
  },
  {
   "cell_type": "code",
   "execution_count": 32,
   "metadata": {},
   "outputs": [
    {
     "data": {
      "text/html": [
       "\n",
       "            <style>\n",
       "                .geemap-dark {\n",
       "                    --jp-widgets-color: white;\n",
       "                    --jp-widgets-label-color: white;\n",
       "                    --jp-ui-font-color1: white;\n",
       "                    --jp-layout-color2: #454545;\n",
       "                    background-color: #383838;\n",
       "                }\n",
       "\n",
       "                .geemap-dark .jupyter-button {\n",
       "                    --jp-layout-color3: #383838;\n",
       "                }\n",
       "\n",
       "                .geemap-colab {\n",
       "                    background-color: var(--colab-primary-surface-color, white);\n",
       "                }\n",
       "\n",
       "                .geemap-colab .jupyter-button {\n",
       "                    --jp-layout-color3: var(--colab-primary-surface-color, white);\n",
       "                }\n",
       "            </style>\n",
       "            "
      ],
      "text/plain": [
       "<IPython.core.display.HTML object>"
      ]
     },
     "metadata": {},
     "output_type": "display_data"
    }
   ],
   "source": [
    "# Definir el año de análisis\n",
    "year = 2010\n",
    "\n",
    "# Definir la fecha de inicio y fin para filtrar la colección\n",
    "start = f'{year}-01-01'\n",
    "end = f'{year}-12-31'"
   ]
  },
  {
   "cell_type": "code",
   "execution_count": 33,
   "metadata": {},
   "outputs": [
    {
     "data": {
      "text/html": [
       "\n",
       "            <style>\n",
       "                .geemap-dark {\n",
       "                    --jp-widgets-color: white;\n",
       "                    --jp-widgets-label-color: white;\n",
       "                    --jp-ui-font-color1: white;\n",
       "                    --jp-layout-color2: #454545;\n",
       "                    background-color: #383838;\n",
       "                }\n",
       "\n",
       "                .geemap-dark .jupyter-button {\n",
       "                    --jp-layout-color3: #383838;\n",
       "                }\n",
       "\n",
       "                .geemap-colab {\n",
       "                    background-color: var(--colab-primary-surface-color, white);\n",
       "                }\n",
       "\n",
       "                .geemap-colab .jupyter-button {\n",
       "                    --jp-layout-color3: var(--colab-primary-surface-color, white);\n",
       "                }\n",
       "            </style>\n",
       "            "
      ],
      "text/plain": [
       "<IPython.core.display.HTML object>"
      ]
     },
     "metadata": {},
     "output_type": "display_data"
    }
   ],
   "source": [
    "# Cargar la colección de Landsat 7\n",
    "l7_col = ee.ImageCollection('LANDSAT/LE07/C02/T1_L2') \\\n",
    "    .filterBounds(roi) \\\n",
    "    .filterDate(start, end) \\\n",
    "    .filter(ee.Filter.lt('CLOUD_COVER', 10))\n",
    "\n",
    "def mask_clouds_landsat(image):\n",
    "    # Seleccionar la banda de máscara de calidad (QA_PIXEL)\n",
    "    qa = image.select('QA_PIXEL')\n",
    "\n",
    "    # Crear una máscara para las nubes y sombras de nubes\n",
    "    cloud_shadow_bit_mask = ee.Number(2).pow(3).int()\n",
    "    clouds_bit_mask = ee.Number(2).pow(5).int()\n",
    "\n",
    "    # Aplica las máscaras de nubes y sombras\n",
    "    mask = qa.bitwiseAnd(cloud_shadow_bit_mask).eq(0) \\\n",
    "        .And(qa.bitwiseAnd(clouds_bit_mask).eq(0))\n",
    "\n",
    "    # Aplicar la máscara de nubes y sombras\n",
    "    return image.updateMask(mask)\n",
    "\n",
    "# Aplicar la máscara de nubes a la colección de Landsat 7\n",
    "l7_masked = l7_col.map(mask_clouds_landsat)\n",
    "image = l7_masked.median().toFloat().clip(roi)\n",
    "\n",
    "# Calcular índices\n",
    "ndvi = image.normalizedDifference(['SR_B4', 'SR_B3']).rename('NDVI')\n",
    "mndwi = image.normalizedDifference(['SR_B2', 'SR_B5']).rename('MNDWI')\n",
    "ndbi = image.normalizedDifference(['SR_B5', 'SR_B4']).rename('NDBI')\n",
    "\n",
    "evi = image.expression(\n",
    "    '2.5 * ((NIR - RED) / (NIR + 6 * RED - 7.5 * BLUE + 1))',\n",
    "    {\n",
    "        'NIR': image.select('SR_B4'),\n",
    "        'RED': image.select('SR_B3'),\n",
    "        'BLUE': image.select('SR_B1')\n",
    "    }\n",
    ").rename('EVI')\n",
    "\n",
    "savi = image.expression(\n",
    "    '((NIR - RED) / (NIR + RED + 0.5)) * 1.5',\n",
    "    {\n",
    "        'NIR': image.select('SR_B4'),\n",
    "        'RED': image.select('SR_B3')\n",
    "    }\n",
    ").rename('SAVI')\n",
    "\n",
    "image = image.addBands([ndvi, mndwi, ndbi, evi, savi])\n",
    "\n",
    "# Cargar la colección Dynamic World y filtrar por la grilla y la fecha\n",
    "dw_col = ee.ImageCollection('GOOGLE/DYNAMICWORLD/V1') \\\n",
    "    .filterBounds(roi) \\\n",
    "    .filterDate('2020-01-01', '2020-12-01')\n",
    "\n",
    "# Añadir la banda de etiqueta de Dynamic World a la imagen\n",
    "dw_label = dw_col.select('label').median().clip(roi)\n",
    "image = image.addBands(dw_label.rename('label'))\n",
    "\n",
    "# Añadir DEM y pendiente\n",
    "dem = ee.Image('USGS/SRTMGL1_003').select('elevation').clip(roi)\n",
    "slope = ee.Terrain.slope(dem).rename('slope').clip(roi)\n",
    "\n",
    "image = image.addBands(dem.rename('elevation'))\n",
    "image = image.addBands(slope)\n",
    "\n",
    "# Funciones de preprocesamiento\n",
    "def mask_edge(image):\n",
    "    edge = image.lt(-30.0)\n",
    "    masked_image = image.mask().And(edge.Not())\n",
    "    return image.updateMask(masked_image)\n",
    "\n",
    "def radar_to_db_palsar(image, band):\n",
    "    \"\"\"\n",
    "    Convierte los datos de la banda HH y HV de PALSAR según la fórmula dada.\n",
    "    Machine learning feature importance selection for predicting aboveground biomass in African savannah with landsat 8 and ALOS PALSAR data Sa'ad Ibrahim\n",
    "    \"\"\"\n",
    "    dn_squared = ee.Image(image).select(band).pow(2)\n",
    "    backscatter = ee.Image(10).multiply(dn_squared.log10()).subtract(83.01).rename(band + '_dB')\n",
    "    return backscatter\n",
    "\n",
    "def preprocess(image):\n",
    "    speckle_filtered = image.focal_median(kernelType='circle', radius=50, units='meters')\n",
    "    return speckle_filtered\n",
    "\n",
    "\n",
    "# Procesamiento de imágenes PALSAR\n",
    "img_hh = (\n",
    "    ee.ImageCollection('JAXA/ALOS/PALSAR/YEARLY/SAR_EPOCH')\n",
    "    .filterBounds(roi)\n",
    "    .filterDate(start, end)\n",
    "    .select('HH')\n",
    "    .map(preprocess)\n",
    ")\n",
    "\n",
    "img_hv = (\n",
    "    ee.ImageCollection('JAXA/ALOS/PALSAR/YEARLY/SAR_EPOCH')\n",
    "    .filterBounds(roi)\n",
    "    .filterDate(start, end)\n",
    "    .select('HV')\n",
    "    .map(preprocess)\n",
    ")\n",
    "\n",
    "# Aplicar la conversión a dB\n",
    "palsar_hh_db = img_hh.map(lambda img: radar_to_db_palsar(img, 'HH'))\n",
    "palsar_hv_db = img_hv.map(lambda img: radar_to_db_palsar(img, 'HV'))\n",
    "\n",
    "# Calcular la mediana\n",
    "palsar_hh_median = palsar_hh_db.median().rename('HH_dB')\n",
    "palsar_hv_median = palsar_hv_db.median().rename('HV_dB')\n",
    "\n",
    "# Calcular los índices adicionales\n",
    "hh_plus_hv = palsar_hh_median.add(palsar_hv_median).rename('HH_plus_HV')\n",
    "hh_minus_hv = palsar_hh_median.subtract(palsar_hv_median).rename('HH_minus_HV')\n",
    "hh_div_hv = palsar_hh_median.divide(palsar_hv_median).rename('HH_div_HV')\n",
    "\n",
    "# Calcular el índice RVI\n",
    "rvi = palsar_hv_median.divide(palsar_hh_median.add(palsar_hv_median)).multiply(4).rename('RVI_palsar')\n",
    "\n",
    "# Combinar todas las bandas en una sola imagen\n",
    "palsar_combined = ee.Image.cat([palsar_hh_median, palsar_hv_median, hh_plus_hv, hh_minus_hv, hh_div_hv, rvi]).clip(roi)\n",
    "\n",
    "# Añadir las bandas combinadas a la imagen original\n",
    "image = image.addBands(palsar_combined)\n",
    "\n",
    "\n"
   ]
  },
  {
   "cell_type": "code",
   "execution_count": 34,
   "metadata": {},
   "outputs": [
    {
     "data": {
      "text/html": [
       "\n",
       "            <style>\n",
       "                .geemap-dark {\n",
       "                    --jp-widgets-color: white;\n",
       "                    --jp-widgets-label-color: white;\n",
       "                    --jp-ui-font-color1: white;\n",
       "                    --jp-layout-color2: #454545;\n",
       "                    background-color: #383838;\n",
       "                }\n",
       "\n",
       "                .geemap-dark .jupyter-button {\n",
       "                    --jp-layout-color3: #383838;\n",
       "                }\n",
       "\n",
       "                .geemap-colab {\n",
       "                    background-color: var(--colab-primary-surface-color, white);\n",
       "                }\n",
       "\n",
       "                .geemap-colab .jupyter-button {\n",
       "                    --jp-layout-color3: var(--colab-primary-surface-color, white);\n",
       "                }\n",
       "            </style>\n",
       "            "
      ],
      "text/plain": [
       "<IPython.core.display.HTML object>"
      ]
     },
     "metadata": {},
     "output_type": "display_data"
    }
   ],
   "source": [
    "def calculate_texture_metrics(image, index_name, roi, scale_factor=100, size=5):\n",
    "    # Normalizar el índice y convertirlo a tipo int32\n",
    "    index_norm = image.select(index_name).multiply(scale_factor).add(scale_factor).toInt32().clip(roi)\n",
    "    \n",
    "    # Calcular texturas usando el índice normalizado\n",
    "    glcm = index_norm.glcmTexture(size=size)\n",
    "    \n",
    "    # Extraer las texturas de interés y renombrarlas\n",
    "    contrast = glcm.select(f'{index_name}_contrast').rename(f'{index_name}_Contrast')\n",
    "    correlation = glcm.select(f'{index_name}_corr').rename(f'{index_name}_Correlation')\n",
    "    entropy = glcm.select(f'{index_name}_ent').rename(f'{index_name}_Entropy')\n",
    "    inertia = glcm.select(f'{index_name}_inertia').rename(f'{index_name}_Inertia')\n",
    "    \n",
    "    # Agregar las bandas de textura a la imagen original\n",
    "    return image.addBands([contrast, correlation, entropy, inertia])\n",
    "\n",
    "# Aplicar la función a NDVI, SAVI y EVI\n",
    "image = calculate_texture_metrics(image, 'NDVI', roi)\n",
    "image = calculate_texture_metrics(image, 'SAVI', roi)\n",
    "image = calculate_texture_metrics(image, 'EVI', roi)\n",
    "\n",
    "\n",
    "def calculate_texture_metrics(image, band_name, roi, size=5):\n",
    "    # Convertir la banda a tipo int32 (no se realiza normalización adicional)\n",
    "    band_int = image.select(band_name).toInt32().clip(roi)\n",
    "    \n",
    "    # Calcular texturas usando la banda convertida a int32\n",
    "    glcm = band_int.glcmTexture(size=size)\n",
    "    \n",
    "    # Extraer las texturas de interés y renombrarlas\n",
    "    contrast = glcm.select(f'{band_name}_contrast').rename(f'{band_name}_Contrast')\n",
    "    correlation = glcm.select(f'{band_name}_corr').rename(f'{band_name}_Correlation')\n",
    "    entropy = glcm.select(f'{band_name}_ent').rename(f'{band_name}_Entropy')\n",
    "    inertia = glcm.select(f'{band_name}_inertia').rename(f'{band_name}_Inertia')\n",
    "    \n",
    "    # Agregar las bandas de textura a la imagen original\n",
    "    return image.addBands([contrast, correlation, entropy, inertia])\n",
    "\n",
    "# Aplicar la función a las bandas HH_dB y HV_dB\n",
    "image = calculate_texture_metrics(image, 'HH_dB', roi)\n",
    "image = calculate_texture_metrics(image, 'HV_dB', roi)\n",
    "\n",
    "bands =  [ 'NDVI_Contrast', 'NDVI_Correlation', 'NDVI_Entropy', 'NDVI_Inertia','EVI', 'EVI_Inertia', 'HH_dB', 'HH_dB_Contrast', 'HH_dB_Correlation', 'HH_dB_Entropy', 'HH_dB_Inertia', 'HH_div_HV', 'HH_minus_HV', 'HH_plus_HV', 'HV_dB', 'HV_dB_Contrast', 'HV_dB_Correlation', 'HV_dB_Entropy', 'HV_dB_Inertia', 'MNDWI', 'NDBI', 'NDVI',  'RVI_palsar', 'SAVI', 'SAVI_Contrast', 'SR_B1', 'SR_B2', 'SR_B3', 'SR_B4', 'SR_B5', 'elevation', 'slope']\n",
    "\n",
    "\n",
    "\n",
    "image = image.select(bands)"
   ]
  },
  {
   "cell_type": "code",
   "execution_count": 35,
   "metadata": {},
   "outputs": [
    {
     "data": {
      "text/html": [
       "\n",
       "            <style>\n",
       "                .geemap-dark {\n",
       "                    --jp-widgets-color: white;\n",
       "                    --jp-widgets-label-color: white;\n",
       "                    --jp-ui-font-color1: white;\n",
       "                    --jp-layout-color2: #454545;\n",
       "                    background-color: #383838;\n",
       "                }\n",
       "\n",
       "                .geemap-dark .jupyter-button {\n",
       "                    --jp-layout-color3: #383838;\n",
       "                }\n",
       "\n",
       "                .geemap-colab {\n",
       "                    background-color: var(--colab-primary-surface-color, white);\n",
       "                }\n",
       "\n",
       "                .geemap-colab .jupyter-button {\n",
       "                    --jp-layout-color3: var(--colab-primary-surface-color, white);\n",
       "                }\n",
       "            </style>\n",
       "            "
      ],
      "text/plain": [
       "<IPython.core.display.HTML object>"
      ]
     },
     "metadata": {},
     "output_type": "display_data"
    }
   ],
   "source": [
    "feature_names =  [ 'NDVI_Contrast', 'NDVI_Correlation', 'NDVI_Entropy', 'NDVI_Inertia','EVI', 'EVI_Inertia', 'HH_dB', 'HH_dB_Contrast', 'HH_dB_Correlation', 'HH_dB_Entropy', 'HH_dB_Inertia', 'HH_div_HV', 'HH_minus_HV', 'HH_plus_HV', 'HV_dB', 'HV_dB_Contrast', 'HV_dB_Correlation', 'HV_dB_Entropy', 'HV_dB_Inertia', 'MNDWI', 'NDBI', 'NDVI',  'RVI_palsar', 'SAVI', 'SAVI_Contrast', 'SR_B1', 'SR_B2', 'SR_B3', 'SR_B4', 'SR_B5', 'elevation', 'slope']\n",
    " \n",
    "\n",
    "\n",
    "label = \"agbd\"\n",
    "\n",
    "user_id = 'users/facuboladerasgee'\n",
    "# specify asset id where to save trees\n",
    "# be sure to change  to your ee user name\n",
    "asset_id = user_id + \"/Rf_Malawi-texture4\"\n",
    "asset_id\n",
    "\n",
    "# read the exported tree feature collection\n",
    "rf_fc = ee.FeatureCollection(asset_id)\n",
    "\n",
    "# convert it to a classifier, very similar to the `ml.trees_to_classifier` function\n",
    "another_classifier = ml.fc_to_classifier(rf_fc)\n",
    "\n",
    "# classify the image again but with the classifier from the persisted trees\n",
    "classified = image.select(feature_names).classify(another_classifier)"
   ]
  },
  {
   "cell_type": "code",
   "execution_count": 11,
   "metadata": {},
   "outputs": [
    {
     "data": {
      "text/html": [
       "\n",
       "            <style>\n",
       "                .geemap-dark {\n",
       "                    --jp-widgets-color: white;\n",
       "                    --jp-widgets-label-color: white;\n",
       "                    --jp-ui-font-color1: white;\n",
       "                    --jp-layout-color2: #454545;\n",
       "                    background-color: #383838;\n",
       "                }\n",
       "\n",
       "                .geemap-dark .jupyter-button {\n",
       "                    --jp-layout-color3: #383838;\n",
       "                }\n",
       "\n",
       "                .geemap-colab {\n",
       "                    background-color: var(--colab-primary-surface-color, white);\n",
       "                }\n",
       "\n",
       "                .geemap-colab .jupyter-button {\n",
       "                    --jp-layout-color3: var(--colab-primary-surface-color, white);\n",
       "                }\n",
       "            </style>\n",
       "            "
      ],
      "text/plain": [
       "<IPython.core.display.HTML object>"
      ]
     },
     "metadata": {},
     "output_type": "display_data"
    }
   ],
   "source": [
    "feature_names = ['SR_B1', 'SR_B2', 'SR_B3', 'SR_B4', 'SR_B5', 'MNDWI', 'NDBI', 'NDVI', 'EVI', 'SAVI', 'elevation', 'slope', \n",
    "         'HH_dB', 'HV_dB', 'HH_plus_HV', 'HH_minus_HV', 'HH_div_HV', 'RVI_palsar']  \n",
    "label = \"agbd\"\n",
    "user_id = 'users/facuboladerasgee'\n",
    "def recombine_model_parts(user_id, base_asset_id, num_parts):\n",
    "    parts = [ee.FeatureCollection(f\"{base_asset_id}_part_{i}\") for i in range(num_parts)]\n",
    "    combined_fc = ee.FeatureCollection(parts[0])\n",
    "    \n",
    "    for part in parts[1:]:\n",
    "        combined_fc = combined_fc.merge(part)\n",
    "    \n",
    "    return ml.fc_to_classifier(combined_fc)\n",
    "\n",
    "# Ejemplo de uso:\n",
    "num_parts = 2  # Ajusta este número según la cantidad de partes exportadas\n",
    "base_asset_id = f\"{user_id}/Rf_Malawi-L-P\"\n",
    "recombined_classifier = recombine_model_parts(user_id, base_asset_id, num_parts)\n",
    "\n",
    "# Clasificar la imagen con el clasificador recombinado\n",
    "classified = image.select(feature_names).classify(recombined_classifier)\n"
   ]
  },
  {
   "cell_type": "code",
   "execution_count": 14,
   "metadata": {},
   "outputs": [
    {
     "data": {
      "text/html": [
       "\n",
       "            <style>\n",
       "                .geemap-dark {\n",
       "                    --jp-widgets-color: white;\n",
       "                    --jp-widgets-label-color: white;\n",
       "                    --jp-ui-font-color1: white;\n",
       "                    --jp-layout-color2: #454545;\n",
       "                    background-color: #383838;\n",
       "                }\n",
       "\n",
       "                .geemap-dark .jupyter-button {\n",
       "                    --jp-layout-color3: #383838;\n",
       "                }\n",
       "\n",
       "                .geemap-colab {\n",
       "                    background-color: var(--colab-primary-surface-color, white);\n",
       "                }\n",
       "\n",
       "                .geemap-colab .jupyter-button {\n",
       "                    --jp-layout-color3: var(--colab-primary-surface-color, white);\n",
       "                }\n",
       "            </style>\n",
       "            "
      ],
      "text/plain": [
       "<IPython.core.display.HTML object>"
      ]
     },
     "metadata": {},
     "output_type": "display_data"
    },
    {
     "name": "stdout",
     "output_type": "stream",
     "text": [
      "Max value of the classified image: 155.93490694999983\n"
     ]
    }
   ],
   "source": [
    "# # Reducir la imagen clasificada a su valor máximo en la región de interés\n",
    "# max_value = classified.reduceRegion(\n",
    "#     reducer=ee.Reducer.max(),\n",
    "#     geometry=roi,\n",
    "#     scale=100,\n",
    "#     maxPixels=1e9\n",
    "# )\n",
    "\n",
    "# # Obtener el valor máximo de la reducción\n",
    "# max_agbd = max_value.get('classification').getInfo()\n",
    "# print(f\"Max value of the classified image: {max_agbd}\")"
   ]
  },
  {
   "cell_type": "code",
   "execution_count": 36,
   "metadata": {},
   "outputs": [
    {
     "data": {
      "text/html": [
       "\n",
       "            <style>\n",
       "                .geemap-dark {\n",
       "                    --jp-widgets-color: white;\n",
       "                    --jp-widgets-label-color: white;\n",
       "                    --jp-ui-font-color1: white;\n",
       "                    --jp-layout-color2: #454545;\n",
       "                    background-color: #383838;\n",
       "                }\n",
       "\n",
       "                .geemap-dark .jupyter-button {\n",
       "                    --jp-layout-color3: #383838;\n",
       "                }\n",
       "\n",
       "                .geemap-colab {\n",
       "                    background-color: var(--colab-primary-surface-color, white);\n",
       "                }\n",
       "\n",
       "                .geemap-colab .jupyter-button {\n",
       "                    --jp-layout-color3: var(--colab-primary-surface-color, white);\n",
       "                }\n",
       "            </style>\n",
       "            "
      ],
      "text/plain": [
       "<IPython.core.display.HTML object>"
      ]
     },
     "metadata": {},
     "output_type": "display_data"
    },
    {
     "data": {
      "application/vnd.jupyter.widget-view+json": {
       "model_id": "6367d9762a7049a6a68117b65baece3b",
       "version_major": 2,
       "version_minor": 0
      },
      "text/plain": [
       "Map(center=[0, 0], controls=(WidgetControl(options=['position', 'transparent_bg'], widget=SearchDataGUI(childr…"
      ]
     },
     "execution_count": 36,
     "metadata": {},
     "output_type": "execute_result"
    }
   ],
   "source": [
    "# Centrar el mapa en la región de interés\n",
    "Map = geemap.Map(center=[0, 0], zoom=2)\n",
    "Map.centerObject(roi)\n",
    "\n",
    "visPredictedBiomass = {\n",
    "    'min': 0,\n",
    "    'max': 200,\n",
    "    'palette': ['lightyellow', 'lightgreen', 'green', 'darkgreen']\n",
    "}\n",
    "\n",
    "Map = geemap.Map(zoom=11)\n",
    "Map.add_basemap('SATELLITE')\n",
    "Map.centerObject(roi)\n",
    "\n",
    "Map.addLayer(\n",
    "    classified,\n",
    "    visPredictedBiomass,\n",
    "    \"classification\",)\n",
    "Map.add_colorbar(visPredictedBiomass, label=\"Predicted Biomass\")\n",
    "Map"
   ]
  },
  {
   "cell_type": "code",
   "execution_count": 37,
   "metadata": {},
   "outputs": [
    {
     "data": {
      "text/html": [
       "\n",
       "            <style>\n",
       "                .geemap-dark {\n",
       "                    --jp-widgets-color: white;\n",
       "                    --jp-widgets-label-color: white;\n",
       "                    --jp-ui-font-color1: white;\n",
       "                    --jp-layout-color2: #454545;\n",
       "                    background-color: #383838;\n",
       "                }\n",
       "\n",
       "                .geemap-dark .jupyter-button {\n",
       "                    --jp-layout-color3: #383838;\n",
       "                }\n",
       "\n",
       "                .geemap-colab {\n",
       "                    background-color: var(--colab-primary-surface-color, white);\n",
       "                }\n",
       "\n",
       "                .geemap-colab .jupyter-button {\n",
       "                    --jp-layout-color3: var(--colab-primary-surface-color, white);\n",
       "                }\n",
       "            </style>\n",
       "            "
      ],
      "text/plain": [
       "<IPython.core.display.HTML object>"
      ]
     },
     "metadata": {},
     "output_type": "display_data"
    },
    {
     "name": "stdout",
     "output_type": "stream",
     "text": [
      "Exportación iniciada. Revisa tu Google Drive en la carpeta 'EE_RF'.\n",
      "Exportación en progreso...\n",
      "Exportación en progreso...\n",
      "Exportación en progreso...\n",
      "Exportación en progreso...\n",
      "Exportación en progreso...\n",
      "Exportación en progreso...\n",
      "Exportación en progreso...\n",
      "Exportación completada con éxito.\n"
     ]
    }
   ],
   "source": [
    "import time\n",
    "\n",
    "# Parámetros de exportación\n",
    "task = ee.batch.Export.image.toDrive(\n",
    "    image=classified,\n",
    "    description='Malawi_2010-texture2',\n",
    "    folder='Estimators_Malawi_complete',\n",
    "    region=ee_roi,\n",
    "    scale=30,\n",
    "    crs='EPSG:4326',  # CRS adecuado para Nepal\n",
    "    \n",
    "    \n",
    ")\n",
    "task.start()\n",
    "\n",
    "print(\"Exportación iniciada. Revisa tu Google Drive en la carpeta 'EE_RF'.\")\n",
    "\n",
    "# Esperar a que la tarea de exportación se complete (opcional)\n",
    "while task.active():\n",
    "    print('Exportación en progreso...')\n",
    "    time.sleep(30)  # Esperar 30 segundos antes de verificar el estado nuevamente\n",
    "\n",
    "if task.status()['state'] == 'COMPLETED':\n",
    "    print('Exportación completada con éxito.')\n",
    "else:\n",
    "    print('Error en la exportación:', task.status())"
   ]
  }
 ],
 "metadata": {
  "kernelspec": {
   "display_name": "Geo",
   "language": "python",
   "name": "python3"
  },
  "language_info": {
   "codemirror_mode": {
    "name": "ipython",
    "version": 3
   },
   "file_extension": ".py",
   "mimetype": "text/x-python",
   "name": "python",
   "nbconvert_exporter": "python",
   "pygments_lexer": "ipython3",
   "version": "3.12.4"
  }
 },
 "nbformat": 4,
 "nbformat_minor": 2
}
