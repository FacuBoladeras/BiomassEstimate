{
 "cells": [
  {
   "cell_type": "code",
   "execution_count": 25,
   "metadata": {},
   "outputs": [
    {
     "data": {
      "text/html": [
       "\n",
       "            <style>\n",
       "                .geemap-dark {\n",
       "                    --jp-widgets-color: white;\n",
       "                    --jp-widgets-label-color: white;\n",
       "                    --jp-ui-font-color1: white;\n",
       "                    --jp-layout-color2: #454545;\n",
       "                    background-color: #383838;\n",
       "                }\n",
       "\n",
       "                .geemap-dark .jupyter-button {\n",
       "                    --jp-layout-color3: #383838;\n",
       "                }\n",
       "\n",
       "                .geemap-colab {\n",
       "                    background-color: var(--colab-primary-surface-color, white);\n",
       "                }\n",
       "\n",
       "                .geemap-colab .jupyter-button {\n",
       "                    --jp-layout-color3: var(--colab-primary-surface-color, white);\n",
       "                }\n",
       "            </style>\n",
       "            "
      ],
      "text/plain": [
       "<IPython.core.display.HTML object>"
      ]
     },
     "metadata": {},
     "output_type": "display_data"
    }
   ],
   "source": [
    "import ee\n",
    "import geemap\n",
    "from geemap import ml\n",
    "from sklearn import ensemble\n",
    "import pandas as pd\n",
    "from sklearn.model_selection import train_test_split\n",
    "from sklearn.ensemble import RandomForestRegressor\n",
    "from sklearn.metrics import mean_squared_error\n",
    "\n",
    "\n",
    "# Inicializa la autenticación y la inicialización de Google Earth Engine\n",
    "ee.Authenticate()\n",
    "ee.Initialize(project='ee-facuboladerasgee')"
   ]
  },
  {
   "cell_type": "code",
   "execution_count": 26,
   "metadata": {},
   "outputs": [
    {
     "data": {
      "text/html": [
       "\n",
       "            <style>\n",
       "                .geemap-dark {\n",
       "                    --jp-widgets-color: white;\n",
       "                    --jp-widgets-label-color: white;\n",
       "                    --jp-ui-font-color1: white;\n",
       "                    --jp-layout-color2: #454545;\n",
       "                    background-color: #383838;\n",
       "                }\n",
       "\n",
       "                .geemap-dark .jupyter-button {\n",
       "                    --jp-layout-color3: #383838;\n",
       "                }\n",
       "\n",
       "                .geemap-colab {\n",
       "                    background-color: var(--colab-primary-surface-color, white);\n",
       "                }\n",
       "\n",
       "                .geemap-colab .jupyter-button {\n",
       "                    --jp-layout-color3: var(--colab-primary-surface-color, white);\n",
       "                }\n",
       "            </style>\n",
       "            "
      ],
      "text/plain": [
       "<IPython.core.display.HTML object>"
      ]
     },
     "metadata": {},
     "output_type": "display_data"
    }
   ],
   "source": [
    "# Definir la región de interés\n",
    "roi = ee.FeatureCollection('projects/ee-facuboladerasgee/assets/MalawiWoodfuelSite_1a')\n",
    "# Centrar el mapa en la región de interés\n",
    "Map = geemap.Map(center=[0, 0], zoom=2)\n",
    "# Añadir Google Satellite como mapa base\n",
    "Map.add_basemap('SATELLITE')\n",
    "Map.centerObject(roi)"
   ]
  },
  {
   "cell_type": "code",
   "execution_count": 27,
   "metadata": {},
   "outputs": [
    {
     "data": {
      "text/html": [
       "\n",
       "            <style>\n",
       "                .geemap-dark {\n",
       "                    --jp-widgets-color: white;\n",
       "                    --jp-widgets-label-color: white;\n",
       "                    --jp-ui-font-color1: white;\n",
       "                    --jp-layout-color2: #454545;\n",
       "                    background-color: #383838;\n",
       "                }\n",
       "\n",
       "                .geemap-dark .jupyter-button {\n",
       "                    --jp-layout-color3: #383838;\n",
       "                }\n",
       "\n",
       "                .geemap-colab {\n",
       "                    background-color: var(--colab-primary-surface-color, white);\n",
       "                }\n",
       "\n",
       "                .geemap-colab .jupyter-button {\n",
       "                    --jp-layout-color3: var(--colab-primary-surface-color, white);\n",
       "                }\n",
       "            </style>\n",
       "            "
      ],
      "text/plain": [
       "<IPython.core.display.HTML object>"
      ]
     },
     "metadata": {},
     "output_type": "display_data"
    },
    {
     "name": "stdout",
     "output_type": "stream",
     "text": [
      "Coordenadas de ROI: [[[35.147307857226416, -15.036316131901854], [35.15253608286859, -15.223952919778808], [35.15776440008984, -15.411589648079637], [35.20994926360607, -15.410686693842585], [35.26213417872549, -15.409783744326894], [35.314318994087046, -15.408880778443212], [35.366503893152895, -15.407977790870213], [35.3589679641149, -15.032891601485606], [35.30605294737285, -15.033747715996299], [35.25313786054075, -15.034603909691883], [35.20022286170109, -15.035460051719076], [35.147307857226416, -15.036316131901854]]]\n"
     ]
    }
   ],
   "source": [
    "roi_feature = ee.FeatureCollection(roi).first()\n",
    "\n",
    "# Extraer la geometría de la característica\n",
    "roi_geometry = roi_feature.geometry()\n",
    "\n",
    "# Obtener las coordenadas de la geometría\n",
    "roi_coordinates = roi_geometry.coordinates().getInfo()\n",
    "\n",
    "# Imprimir las coordenadas para verificar\n",
    "print(\"Coordenadas de ROI:\", roi_coordinates)\n",
    "\n",
    "# Guardar las coordenadas en una variable\n",
    "roi_coords = roi_coordinates\n",
    "\n",
    "ee_roi =  ee.Geometry.Polygon(roi_coords) "
   ]
  },
  {
   "cell_type": "code",
   "execution_count": 45,
   "metadata": {},
   "outputs": [
    {
     "data": {
      "text/html": [
       "\n",
       "            <style>\n",
       "                .geemap-dark {\n",
       "                    --jp-widgets-color: white;\n",
       "                    --jp-widgets-label-color: white;\n",
       "                    --jp-ui-font-color1: white;\n",
       "                    --jp-layout-color2: #454545;\n",
       "                    background-color: #383838;\n",
       "                }\n",
       "\n",
       "                .geemap-dark .jupyter-button {\n",
       "                    --jp-layout-color3: #383838;\n",
       "                }\n",
       "\n",
       "                .geemap-colab {\n",
       "                    background-color: var(--colab-primary-surface-color, white);\n",
       "                }\n",
       "\n",
       "                .geemap-colab .jupyter-button {\n",
       "                    --jp-layout-color3: var(--colab-primary-surface-color, white);\n",
       "                }\n",
       "            </style>\n",
       "            "
      ],
      "text/plain": [
       "<IPython.core.display.HTML object>"
      ]
     },
     "metadata": {},
     "output_type": "display_data"
    }
   ],
   "source": [
    "# Parámetros de visualización para imágenes multiespectrales en falso color nir-swir1-swir2\n",
    "visFalseColor = {\n",
    "    'min': 0,\n",
    "    'max': 3000,\n",
    "    'bands': ['B8', 'B11', 'B12']\n",
    "}\n",
    "\n",
    "# Parámetros de visualización para la biomasa\n",
    "visBiomass = {'min': 0, 'max': 100, 'palette': ['lightyellow', 'lightgreen', 'green', 'darkgreen']}\n",
    "\n",
    "# Parámetros de visualización para Sentinel-1\n",
    "visParamsS1 = {\n",
    "    'min': -25,\n",
    "    'max': 0,\n",
    "    'bands': ['VV', 'VH']\n",
    "}\n",
    "\n",
    "# Definir el año de análisis\n",
    "year = 2021\n",
    "\n",
    "# Definir la fecha de inicio y fin para filtrar la colección\n",
    "start = f'{year}-01-01'\n",
    "end = f'{year}-12-31'"
   ]
  },
  {
   "cell_type": "code",
   "execution_count": 46,
   "metadata": {},
   "outputs": [
    {
     "data": {
      "text/html": [
       "\n",
       "            <style>\n",
       "                .geemap-dark {\n",
       "                    --jp-widgets-color: white;\n",
       "                    --jp-widgets-label-color: white;\n",
       "                    --jp-ui-font-color1: white;\n",
       "                    --jp-layout-color2: #454545;\n",
       "                    background-color: #383838;\n",
       "                }\n",
       "\n",
       "                .geemap-dark .jupyter-button {\n",
       "                    --jp-layout-color3: #383838;\n",
       "                }\n",
       "\n",
       "                .geemap-colab {\n",
       "                    background-color: var(--colab-primary-surface-color, white);\n",
       "                }\n",
       "\n",
       "                .geemap-colab .jupyter-button {\n",
       "                    --jp-layout-color3: var(--colab-primary-surface-color, white);\n",
       "                }\n",
       "            </style>\n",
       "            "
      ],
      "text/plain": [
       "<IPython.core.display.HTML object>"
      ]
     },
     "metadata": {},
     "output_type": "display_data"
    }
   ],
   "source": [
    "# Filtrar la colección Sentinel-2\n",
    "s2Col = ee.ImageCollection('COPERNICUS/S2_SR_HARMONIZED') \\\n",
    "    .filterBounds(roi) \\\n",
    "    .filterDate(start, end)\n",
    "\n",
    "# Filtrar la colección Sentinel-2 cloud score\n",
    "cloudCol = ee.ImageCollection('COPERNICUS/S2_CLOUD_PROBABILITY') \\\n",
    "    .filterBounds(roi) \\\n",
    "    .filterDate(start, end)\n",
    "\n",
    "# Combinar la colección, máscara de nubes y hacer un composite mediano\n",
    "def mask_clouds(image):\n",
    "    cloud_score = ee.Image(cloudCol.filterMetadata('system:index', 'equals', image.get('system:index')).first())\n",
    "    mask = cloud_score.select('probability').lt(10)\n",
    "    return image.updateMask(mask)\n",
    "\n",
    "image = s2Col.map(mask_clouds).median().toFloat().clip(roi)\n",
    "\n",
    "# Calcular NDVI y MNDWI\n",
    "ndvi = image.normalizedDifference(['B8', 'B4']).rename('NDVI')\n",
    "mndwi = image.normalizedDifference(['B3', 'B11']).rename('MNDWI')\n",
    "# Calcular NDBI\n",
    "ndbi = image.normalizedDifference(['B11', 'B8']).rename('NDBI')\n",
    "\n",
    "# Añadir bandas NDVI, MNDWI y NDBI a la imagen\n",
    "image = image.addBands(ndvi).addBands(mndwi).addBands(ndbi)\n",
    "\n",
    "# Integrar la banda \"label\" de Dynamic World\n",
    "dwCol = ee.ImageCollection('GOOGLE/DYNAMICWORLD/V1') \\\n",
    "    .filterBounds(roi) \\\n",
    "    .filterDate(start, end)\n",
    "\n",
    "dwLabel = dwCol.select('label').median().clip(roi)\n",
    "\n",
    "\n",
    "# Añadir la banda \"label\" de Dynamic World a la imagen\n",
    "image = image.addBands(dwLabel.rename('label'))\n",
    "\n",
    "# Cargar la imagen de altura de dosel\n",
    "canopy_height = ee.Image(\"users/nlang/ETH_GlobalCanopyHeight_2020_10m_v1\")\n",
    "\n",
    "# Recortar la imagen de altura de dosel a la ROI\n",
    "canopy_height = canopy_height.clip(roi)\n",
    "\n",
    "# Agregar la banda de altura de dosel a la imagen de datos de biomasa de GEDI\n",
    "image = image.addBands(canopy_height.rename('CH'))\n",
    "\n",
    "\n",
    "\n",
    "# Definir las bandas para predecir la biomasa\n",
    "bands = ['B11', 'B12', 'B2', 'B3', 'B4', 'B8', 'MNDWI', 'NDBI', 'NDVI', 'RVI', 'VH', 'VV', 'VV_VH_div_2', 'VV_div_VH', 'VV_minus_VH', 'VV_plus_VH', 'elevation','label', 'slope']\n",
    "\n",
    "\n",
    "# # Función de corrección con el ángulo de incidencia\n",
    "# def apply_incidence_angle_correction(image):\n",
    "#     angle = image.select('angle')\n",
    "#     sigma0 = image.select(['VV', 'VH', 'HH', 'HV'])\n",
    "#     correction_factor = ee.Image.constant(10).pow(angle.divide(ee.Image.constant(90)).log10())\n",
    "#     corrected_sigma0 = sigma0.divide(correction_factor)\n",
    "#     return image.addBands(corrected_sigma0, None, True)\n",
    "\n",
    "\n",
    "# Función de preprocesamiento\n",
    "def preprocess(image):\n",
    "    # Aplicar corrección de ángulo de incidencia\n",
    "    # image = apply_incidence_angle_correction(image)\n",
    "    # Filtrado de Speckle\n",
    "    speckle_filtered = image.focal_median(kernelType='circle', radius=50, units='meters')\n",
    "\n",
    "    return speckle_filtered\n",
    "# Definir la función de máscara de borde\n",
    "def mask_edge(image):\n",
    "    edge = image.lt(-30.0)\n",
    "    masked_image = image.mask().And(edge.Not())\n",
    "    return image.updateMask(masked_image)\n",
    "\n",
    "# Filtrar y procesar la colección Sentinel-1 para VV\n",
    "img_vv = (\n",
    "    ee.ImageCollection('COPERNICUS/S1_GRD')\n",
    "    .filterBounds(roi)\n",
    "    .filterDate(start, end)\n",
    "    .filter(ee.Filter.listContains('transmitterReceiverPolarisation', 'VV'))\n",
    "    .filter(ee.Filter.eq('instrumentMode', 'IW'))\n",
    "    .select('VV')\n",
    "\n",
    "    .map(mask_edge)\n",
    "    .map(preprocess)\n",
    ")\n",
    "\n",
    "# Filtrar y procesar la colección Sentinel-1 para VH\n",
    "img_vh = (\n",
    "    ee.ImageCollection('COPERNICUS/S1_GRD')\n",
    "    .filterBounds(roi)\n",
    "    .filterDate(start, end)\n",
    "    .filter(ee.Filter.listContains('transmitterReceiverPolarisation', 'VH'))\n",
    "    .filter(ee.Filter.eq('instrumentMode', 'IW'))\n",
    "    .select('VH')\n",
    "\n",
    "    .map(mask_edge)\n",
    "    .map(preprocess)\n",
    ")\n",
    "\n",
    "\n",
    "# Promedio de imágenes VV y VH\n",
    "s1_vv = img_vv.median().rename('VV')\n",
    "s1_vh = img_vh.median().rename('VH')\n",
    "\n",
    "\n",
    "\n",
    "# Calcular el índice RVI\n",
    "rvi = s1_vh.divide(s1_vv.add(s1_vh)).multiply(4).rename('RVI')\n",
    "vv_plus_vh = s1_vv.add(s1_vh).rename('VV_plus_VH')\n",
    "vv_minus_vh = s1_vv.subtract(s1_vh).rename('VV_minus_VH')\n",
    "vv_div_vh = s1_vv.divide(s1_vh).rename('VV_div_VH')\n",
    "vv_vh_div_2 = s1_vv.add(s1_vh).divide(2).rename('VV_VH_div_2')\n",
    "\n",
    "# Combinar las bandas VV, VH y RVI en una sola imagen\n",
    "s1_combined = ee.Image.cat([s1_vv, s1_vh, vv_plus_vh, vv_minus_vh, vv_div_vh, vv_vh_div_2, rvi]).clip(roi)\n",
    "\n",
    "# Añadir las bandas VV, VH, RVI y álgebra de bandas a la imagen\n",
    "image = image.addBands(s1_combined)\n",
    "\n",
    "# Añadir SRTM DEM y pendiente\n",
    "dem = ee.Image('USGS/SRTMGL1_003').select('elevation').clip(roi)\n",
    "slope = ee.Terrain.slope(dem).rename('slope').clip(roi)\n",
    "\n",
    "# Añadir las bandas DEM y pendiente a la imagen\n",
    "image = image.addBands(dem.rename('elevation'))\n",
    "image = image.addBands(slope)\n",
    "\n",
    "# Seleccionar solo las bandas especificadas\n",
    "image = image.select(bands)"
   ]
  },
  {
   "cell_type": "code",
   "execution_count": 22,
   "metadata": {},
   "outputs": [
    {
     "data": {
      "text/html": [
       "\n",
       "            <style>\n",
       "                .geemap-dark {\n",
       "                    --jp-widgets-color: white;\n",
       "                    --jp-widgets-label-color: white;\n",
       "                    --jp-ui-font-color1: white;\n",
       "                    --jp-layout-color2: #454545;\n",
       "                    background-color: #383838;\n",
       "                }\n",
       "\n",
       "                .geemap-dark .jupyter-button {\n",
       "                    --jp-layout-color3: #383838;\n",
       "                }\n",
       "\n",
       "                .geemap-colab {\n",
       "                    background-color: var(--colab-primary-surface-color, white);\n",
       "                }\n",
       "\n",
       "                .geemap-colab .jupyter-button {\n",
       "                    --jp-layout-color3: var(--colab-primary-surface-color, white);\n",
       "                }\n",
       "            </style>\n",
       "            "
      ],
      "text/plain": [
       "<IPython.core.display.HTML object>"
      ]
     },
     "metadata": {},
     "output_type": "display_data"
    }
   ],
   "source": [
    "feature_names = ['B11', 'B12', 'B2', 'B3', 'B4', 'B8', 'MNDWI', 'NDBI', 'NDVI', 'RVI', 'VH', 'VV', 'VV_VH_div_2', 'VV_div_VH', 'VV_minus_VH', 'VV_plus_VH', 'elevation', 'slope']\n",
    "label = \"agbd\"\n",
    "\n",
    "user_id = 'users/facuboladerasgee'\n",
    "# specify asset id where to save trees\n",
    "# be sure to change  to your ee user name\n",
    "asset_id = user_id + \"/Rf_Malawi_2021\"\n",
    "asset_id\n",
    "\n",
    "# read the exported tree feature collection\n",
    "rf_fc = ee.FeatureCollection(asset_id)\n",
    "\n",
    "# convert it to a classifier, very similar to the `ml.trees_to_classifier` function\n",
    "another_classifier = ml.fc_to_classifier(rf_fc)\n",
    "\n",
    "# classify the image again but with the classifier from the persisted trees\n",
    "classified = image.select(feature_names).classify(another_classifier)"
   ]
  },
  {
   "cell_type": "code",
   "execution_count": 47,
   "metadata": {},
   "outputs": [
    {
     "data": {
      "text/html": [
       "\n",
       "            <style>\n",
       "                .geemap-dark {\n",
       "                    --jp-widgets-color: white;\n",
       "                    --jp-widgets-label-color: white;\n",
       "                    --jp-ui-font-color1: white;\n",
       "                    --jp-layout-color2: #454545;\n",
       "                    background-color: #383838;\n",
       "                }\n",
       "\n",
       "                .geemap-dark .jupyter-button {\n",
       "                    --jp-layout-color3: #383838;\n",
       "                }\n",
       "\n",
       "                .geemap-colab {\n",
       "                    background-color: var(--colab-primary-surface-color, white);\n",
       "                }\n",
       "\n",
       "                .geemap-colab .jupyter-button {\n",
       "                    --jp-layout-color3: var(--colab-primary-surface-color, white);\n",
       "                }\n",
       "            </style>\n",
       "            "
      ],
      "text/plain": [
       "<IPython.core.display.HTML object>"
      ]
     },
     "metadata": {},
     "output_type": "display_data"
    }
   ],
   "source": [
    "feature_names = ['B11', 'B12', 'B2', 'B3', 'B4', 'B8', 'MNDWI', 'NDBI', 'NDVI', 'RVI', 'VH', 'VV', 'VV_VH_div_2', 'VV_div_VH', 'VV_minus_VH', 'VV_plus_VH', 'elevation','label', 'slope']\n",
    "label = \"agbd\"\n",
    "\n",
    "def recombine_model_parts(user_id, base_asset_id, num_parts):\n",
    "    parts = [ee.FeatureCollection(f\"{base_asset_id}_part_{i}\") for i in range(num_parts)]\n",
    "    combined_fc = ee.FeatureCollection(parts[0])\n",
    "    \n",
    "    for part in parts[1:]:\n",
    "        combined_fc = combined_fc.merge(part)\n",
    "    \n",
    "    return ml.fc_to_classifier(combined_fc)\n",
    "\n",
    "# Ejemplo de uso:\n",
    "num_parts = 2  # Ajusta este número según la cantidad de partes exportadas\n",
    "base_asset_id = f\"{user_id}/Rf_Malawi_Join\"\n",
    "recombined_classifier = recombine_model_parts(user_id, base_asset_id, num_parts)\n",
    "\n",
    "# Clasificar la imagen con el clasificador recombinado\n",
    "classified = image.select(feature_names).classify(recombined_classifier)\n"
   ]
  },
  {
   "cell_type": "code",
   "execution_count": 14,
   "metadata": {},
   "outputs": [
    {
     "data": {
      "text/html": [
       "\n",
       "            <style>\n",
       "                .geemap-dark {\n",
       "                    --jp-widgets-color: white;\n",
       "                    --jp-widgets-label-color: white;\n",
       "                    --jp-ui-font-color1: white;\n",
       "                    --jp-layout-color2: #454545;\n",
       "                    background-color: #383838;\n",
       "                }\n",
       "\n",
       "                .geemap-dark .jupyter-button {\n",
       "                    --jp-layout-color3: #383838;\n",
       "                }\n",
       "\n",
       "                .geemap-colab {\n",
       "                    background-color: var(--colab-primary-surface-color, white);\n",
       "                }\n",
       "\n",
       "                .geemap-colab .jupyter-button {\n",
       "                    --jp-layout-color3: var(--colab-primary-surface-color, white);\n",
       "                }\n",
       "            </style>\n",
       "            "
      ],
      "text/plain": [
       "<IPython.core.display.HTML object>"
      ]
     },
     "metadata": {},
     "output_type": "display_data"
    },
    {
     "name": "stdout",
     "output_type": "stream",
     "text": [
      "Max value of the classified image: 155.93490694999983\n"
     ]
    }
   ],
   "source": [
    "# # Reducir la imagen clasificada a su valor máximo en la región de interés\n",
    "# max_value = classified.reduceRegion(\n",
    "#     reducer=ee.Reducer.max(),\n",
    "#     geometry=roi,\n",
    "#     scale=100,\n",
    "#     maxPixels=1e9\n",
    "# )\n",
    "\n",
    "# # Obtener el valor máximo de la reducción\n",
    "# max_agbd = max_value.get('classification').getInfo()\n",
    "# print(f\"Max value of the classified image: {max_agbd}\")"
   ]
  },
  {
   "cell_type": "code",
   "execution_count": 48,
   "metadata": {},
   "outputs": [
    {
     "data": {
      "text/html": [
       "\n",
       "            <style>\n",
       "                .geemap-dark {\n",
       "                    --jp-widgets-color: white;\n",
       "                    --jp-widgets-label-color: white;\n",
       "                    --jp-ui-font-color1: white;\n",
       "                    --jp-layout-color2: #454545;\n",
       "                    background-color: #383838;\n",
       "                }\n",
       "\n",
       "                .geemap-dark .jupyter-button {\n",
       "                    --jp-layout-color3: #383838;\n",
       "                }\n",
       "\n",
       "                .geemap-colab {\n",
       "                    background-color: var(--colab-primary-surface-color, white);\n",
       "                }\n",
       "\n",
       "                .geemap-colab .jupyter-button {\n",
       "                    --jp-layout-color3: var(--colab-primary-surface-color, white);\n",
       "                }\n",
       "            </style>\n",
       "            "
      ],
      "text/plain": [
       "<IPython.core.display.HTML object>"
      ]
     },
     "metadata": {},
     "output_type": "display_data"
    },
    {
     "data": {
      "application/vnd.jupyter.widget-view+json": {
       "model_id": "77960f2623c649f190f54c57ddea71dc",
       "version_major": 2,
       "version_minor": 0
      },
      "text/plain": [
       "Map(center=[0, 0], controls=(WidgetControl(options=['position', 'transparent_bg'], widget=SearchDataGUI(childr…"
      ]
     },
     "execution_count": 48,
     "metadata": {},
     "output_type": "execute_result"
    }
   ],
   "source": [
    "# Centrar el mapa en la región de interés\n",
    "Map = geemap.Map(center=[0, 0], zoom=2)\n",
    "Map.centerObject(roi)\n",
    "\n",
    "visPredictedBiomass = {\n",
    "    'min': 0,\n",
    "    'max': 60,\n",
    "    'palette': ['lightyellow', 'lightgreen', 'green', 'darkgreen']\n",
    "}\n",
    "\n",
    "Map = geemap.Map(zoom=11)\n",
    "Map.add_basemap('SATELLITE')\n",
    "Map.centerObject(roi)\n",
    "\n",
    "Map.addLayer(\n",
    "    classified,\n",
    "    visPredictedBiomass,\n",
    "    \"classification\",)\n",
    "Map.add_colorbar(visPredictedBiomass, label=\"Predicted Biomass\")\n",
    "Map"
   ]
  },
  {
   "cell_type": "code",
   "execution_count": 49,
   "metadata": {},
   "outputs": [
    {
     "data": {
      "text/html": [
       "\n",
       "            <style>\n",
       "                .geemap-dark {\n",
       "                    --jp-widgets-color: white;\n",
       "                    --jp-widgets-label-color: white;\n",
       "                    --jp-ui-font-color1: white;\n",
       "                    --jp-layout-color2: #454545;\n",
       "                    background-color: #383838;\n",
       "                }\n",
       "\n",
       "                .geemap-dark .jupyter-button {\n",
       "                    --jp-layout-color3: #383838;\n",
       "                }\n",
       "\n",
       "                .geemap-colab {\n",
       "                    background-color: var(--colab-primary-surface-color, white);\n",
       "                }\n",
       "\n",
       "                .geemap-colab .jupyter-button {\n",
       "                    --jp-layout-color3: var(--colab-primary-surface-color, white);\n",
       "                }\n",
       "            </style>\n",
       "            "
      ],
      "text/plain": [
       "<IPython.core.display.HTML object>"
      ]
     },
     "metadata": {},
     "output_type": "display_data"
    },
    {
     "name": "stdout",
     "output_type": "stream",
     "text": [
      "Exportación iniciada. Revisa tu Google Drive en la carpeta 'EE_RF'.\n",
      "Exportación en progreso...\n",
      "Exportación en progreso...\n",
      "Exportación en progreso...\n",
      "Exportación en progreso...\n",
      "Exportación en progreso...\n",
      "Exportación en progreso...\n",
      "Exportación en progreso...\n",
      "Exportación en progreso...\n",
      "Exportación en progreso...\n",
      "Exportación en progreso...\n",
      "Exportación en progreso...\n",
      "Exportación en progreso...\n",
      "Exportación completada con éxito.\n"
     ]
    }
   ],
   "source": [
    "import time\n",
    "\n",
    "# Parámetros de exportación\n",
    "task = ee.batch.Export.image.toDrive(\n",
    "    image=classified,\n",
    "    description='Malawi_2021',\n",
    "    folder='Estimators_Malawi_complete',\n",
    "    region=ee_roi,\n",
    "    scale=30,\n",
    "    crs='EPSG:4326',  # CRS adecuado para Nepal\n",
    "    \n",
    "    \n",
    ")\n",
    "task.start()\n",
    "\n",
    "print(\"Exportación iniciada. Revisa tu Google Drive en la carpeta 'EE_RF'.\")\n",
    "\n",
    "# Esperar a que la tarea de exportación se complete (opcional)\n",
    "while task.active():\n",
    "    print('Exportación en progreso...')\n",
    "    time.sleep(30)  # Esperar 30 segundos antes de verificar el estado nuevamente\n",
    "\n",
    "if task.status()['state'] == 'COMPLETED':\n",
    "    print('Exportación completada con éxito.')\n",
    "else:\n",
    "    print('Error en la exportación:', task.status())"
   ]
  }
 ],
 "metadata": {
  "kernelspec": {
   "display_name": "Geo",
   "language": "python",
   "name": "python3"
  },
  "language_info": {
   "codemirror_mode": {
    "name": "ipython",
    "version": 3
   },
   "file_extension": ".py",
   "mimetype": "text/x-python",
   "name": "python",
   "nbconvert_exporter": "python",
   "pygments_lexer": "ipython3",
   "version": "3.12.4"
  }
 },
 "nbformat": 4,
 "nbformat_minor": 2
}
